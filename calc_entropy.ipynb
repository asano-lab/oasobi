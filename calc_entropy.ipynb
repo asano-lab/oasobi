{
 "cells": [
  {
   "cell_type": "code",
   "execution_count": 1,
   "id": "efda543c",
   "metadata": {},
   "outputs": [],
   "source": [
    "import numpy as np"
   ]
  },
  {
   "cell_type": "code",
   "execution_count": 6,
   "id": "20644991",
   "metadata": {},
   "outputs": [],
   "source": [
    "def calc_entropy(prob_array):\n",
    "    if sum(prob_array) != 1:\n",
    "        return\n",
    "    return -sum(i * np.log2(i) for i in prob_array)"
   ]
  },
  {
   "cell_type": "code",
   "execution_count": 15,
   "id": "7093fa82",
   "metadata": {},
   "outputs": [
    {
     "data": {
      "text/plain": [
       "0.6073635558851669"
      ]
     },
     "execution_count": 15,
     "metadata": {},
     "output_type": "execute_result"
    }
   ],
   "source": [
    "# calc_entropy([0.17, 0.08, 0.13, 0.62])\n",
    "# calc_entropy([0.08, 0.12, 0.8])\n",
    "# calc_entropy([0.17, 0.1, 0.1, 0.63])\n",
    "# calc_entropy([0.16, 0.03, 0.81])\n",
    "# calc_entropy([0.02, 0.19, 0.1, 0.69])\n",
    "# calc_entropy([0.06, 0.3, 0.64])\n",
    "# calc_entropy([0.23, 0.08, 0.01, 0.68])\n",
    "calc_entropy([0.02, 0.1, 0.88])"
   ]
  },
  {
   "cell_type": "markdown",
   "id": "a2057dbd",
   "metadata": {},
   "source": [
    "### ハフマン符号を計算してみる"
   ]
  },
  {
   "cell_type": "code",
   "execution_count": 108,
   "id": "8a3a1c18",
   "metadata": {},
   "outputs": [],
   "source": [
    "def get_min_syms(d_inv, n):\n",
    "    \"\"\"\n",
    "    下からn番目までの記号を取り出す?\n",
    "    \"\"\"\n",
    "    min_prob = min(d_inv)\n",
    "    min_prob_syms = d_inv.pop(min_prob)\n",
    "    \n",
    "    rem_len = n - len(min_prob_syms)\n",
    "    # オーバー\n",
    "    if rem_len < 0:\n",
    "        min_prob_syms.sort(reverse=True)\n",
    "        return min_prob_syms[:n]\n",
    "    elif rem_len == 0:\n",
    "        return min_prob_syms\n",
    "    else:\n",
    "        # 足りない場合は再帰\n",
    "        return min_prob_syms + get_min_syms(d_inv, rem_len)\n",
    "\n",
    "def create_connection_dict(prob_d):\n",
    "    prob_d_cp = prob_d.copy()\n",
    "    cnct_d = {}\n",
    "    next_key = max(prob_d_cp) + 1\n",
    "\n",
    "    while len(prob_d_cp) > 1:\n",
    "        prob_d_inv = {}\n",
    "        # 逆引き辞書作成\n",
    "        for k, v in prob_d_cp.items():\n",
    "            if v in prob_d_inv:\n",
    "                prob_d_inv[v].append(k)\n",
    "            else:\n",
    "                prob_d_inv[v] = [k]\n",
    "\n",
    "        print(prob_d_inv)\n",
    "\n",
    "        min_syms = get_min_syms(prob_d_inv, 2)\n",
    "\n",
    "        prob_d_cp[next_key] = sum(v for k, v in prob_d_cp.items() if k in min_syms)\n",
    "        cnct_d[next_key] = sorted(min_syms)\n",
    "        \n",
    "        for i in min_syms:\n",
    "            prob_d_cp.pop(i)\n",
    "    \n",
    "        print(prob_d_cp)\n",
    "        print(cnct_d)\n",
    "        next_key += 1\n",
    "\n",
    "    return cnct_d\n",
    "\n",
    "def generate_code(cnct_d, code_d):\n",
    "    \"\"\"\n",
    "    枝の繋がりから符号を作成\n",
    "    \"\"\"\n",
    "    max_key = max(cnct_d)\n",
    "    children = cnct_d.pop(max_key)\n",
    "    \n",
    "    print(cnct_d)\n",
    "    \n",
    "    for i, j in enumerate(children):\n",
    "        if max_key in code_d:\n",
    "            code_d[j] = code_d[max_key] + str(i)\n",
    "        else:\n",
    "            code_d[j] = str(i)\n",
    "    \n",
    "    if max_key in code_d:\n",
    "        code_d.pop(max_key)\n",
    "    print(code_d)\n",
    "    \n",
    "    if any(cnct_d):\n",
    "        generate_code(cnct_d, code_d)"
   ]
  },
  {
   "cell_type": "code",
   "execution_count": 110,
   "id": "5efd8124",
   "metadata": {},
   "outputs": [
    {
     "name": "stdout",
     "output_type": "stream",
     "text": [
      "1.0\n",
      "{0.12: [0], 0.01: [1], 0.22: [2], 0.07: [3], 0.02: [4], 0.56: [5]}\n",
      "{0: 0.12, 2: 0.22, 3: 0.07, 5: 0.56, 6: 0.03}\n",
      "{6: [1, 4]}\n",
      "{0.12: [0], 0.22: [2], 0.07: [3], 0.56: [5], 0.03: [6]}\n",
      "{0: 0.12, 2: 0.22, 5: 0.56, 7: 0.1}\n",
      "{6: [1, 4], 7: [3, 6]}\n",
      "{0.12: [0], 0.22: [2], 0.56: [5], 0.1: [7]}\n",
      "{2: 0.22, 5: 0.56, 8: 0.22}\n",
      "{6: [1, 4], 7: [3, 6], 8: [0, 7]}\n",
      "{0.22: [2, 8], 0.56: [5]}\n",
      "{5: 0.56, 9: 0.44}\n",
      "{6: [1, 4], 7: [3, 6], 8: [0, 7], 9: [2, 8]}\n",
      "{0.56: [5], 0.44: [9]}\n",
      "{10: 1.0}\n",
      "{6: [1, 4], 7: [3, 6], 8: [0, 7], 9: [2, 8], 10: [5, 9]}\n",
      "####################################################################################################\n",
      "{6: [1, 4], 7: [3, 6], 8: [0, 7], 9: [2, 8]}\n",
      "{5: '0', 9: '1'}\n",
      "{6: [1, 4], 7: [3, 6], 8: [0, 7]}\n",
      "{5: '0', 2: '10', 8: '11'}\n",
      "{6: [1, 4], 7: [3, 6]}\n",
      "{5: '0', 2: '10', 0: '110', 7: '111'}\n",
      "{6: [1, 4]}\n",
      "{5: '0', 2: '10', 0: '110', 3: '1110', 6: '1111'}\n",
      "{}\n",
      "{5: '0', 2: '10', 0: '110', 3: '1110', 1: '11110', 4: '11111'}\n",
      "answer: 110 11110 10 1110 11111 0 \n"
     ]
    }
   ],
   "source": [
    "# prob_arr = np.array([0.2, 0.19, 0.07, 0.05, 0.49])\n",
    "# prob_arr = np.array([0.05, 0.05, 0.05, 0.05, 0.8])\n",
    "prob_arr = np.array([0.12, 0.01, 0.22, 0.07, 0.02, 0.56])\n",
    "print(prob_arr.sum())\n",
    "prob_dict = {k: v for k, v in enumerate(prob_arr)}\n",
    "\n",
    "connect_dict = create_connection_dict(prob_dict)\n",
    "\n",
    "print(\"#\" * 100)\n",
    "\n",
    "code_dict = {}\n",
    "generate_code(connect_dict, code_dict)\n",
    "\n",
    "sorted_keys = sorted(code_dict.keys())\n",
    "print(\"answer: \", end=\"\")\n",
    "for i in sorted_keys:\n",
    "    print(code_dict[i], end=\" \")\n",
    "print()"
   ]
  },
  {
   "cell_type": "code",
   "execution_count": null,
   "id": "2adf89e8",
   "metadata": {},
   "outputs": [],
   "source": []
  }
 ],
 "metadata": {
  "kernelspec": {
   "display_name": "Python 3",
   "language": "python",
   "name": "python3"
  },
  "language_info": {
   "codemirror_mode": {
    "name": "ipython",
    "version": 3
   },
   "file_extension": ".py",
   "mimetype": "text/x-python",
   "name": "python",
   "nbconvert_exporter": "python",
   "pygments_lexer": "ipython3",
   "version": "3.9.5"
  }
 },
 "nbformat": 4,
 "nbformat_minor": 5
}
