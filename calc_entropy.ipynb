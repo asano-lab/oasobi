{
 "cells": [
  {
   "cell_type": "code",
   "execution_count": 1,
   "id": "52e1abe3",
   "metadata": {},
   "outputs": [],
   "source": [
    "%matplotlib inline\n",
    "import matplotlib.pyplot as plt\n",
    "import numpy as np\n",
    "import re"
   ]
  },
  {
   "cell_type": "code",
   "execution_count": 2,
   "id": "830b9348",
   "metadata": {},
   "outputs": [],
   "source": [
    "def calc_entropy(p_arr):\n",
    "    if abs(sum(p_arr) - 1) > 1e-10:\n",
    "        print(sum(p_arr))\n",
    "        return\n",
    "    e = 0\n",
    "    for i in p_arr:\n",
    "        if i < 1e-10:\n",
    "            continue\n",
    "        e -= i * np.log2(i)\n",
    "    return e"
   ]
  },
  {
   "cell_type": "code",
   "execution_count": 3,
   "id": "27bdf3bb",
   "metadata": {},
   "outputs": [
    {
     "name": "stdout",
     "output_type": "stream",
     "text": [
      "[0.16666666666666666, 0.1111111111111111, 0.16666666666666666, 0.1111111111111111, 0.027777777777777776, 0.08333333333333333, 0.16666666666666666, 0.08333333333333333, 0.08333333333333333]\n"
     ]
    },
    {
     "data": {
      "text/plain": [
       "3.0367586814570005"
      ]
     },
     "execution_count": 3,
     "metadata": {},
     "output_type": "execute_result"
    }
   ],
   "source": [
    "prob_arr = [1/6, 1/9, 1/6, 1/9, 1/36, 1/12, 1/6, 1/12, 1/12]\n",
    "print(prob_arr)\n",
    "\n",
    "# calc_entropy([0.17, 0.08, 0.13, 0.62])\n",
    "# calc_entropy([0.08, 0.12, 0.8])\n",
    "# calc_entropy([0.17, 0.1, 0.1, 0.63])\n",
    "# calc_entropy([0.16, 0.03, 0.81])\n",
    "# calc_entropy([0.02, 0.19, 0.1, 0.69])\n",
    "# calc_entropy([0.06, 0.3, 0.64])\n",
    "# calc_entropy([0.23, 0.08, 0.01, 0.68])\n",
    "# calc_entropy([0.02, 0.1, 0.88])\n",
    "calc_entropy(prob_arr)"
   ]
  },
  {
   "cell_type": "markdown",
   "id": "2824d748",
   "metadata": {},
   "source": [
    "### ハフマン符号を計算してみる"
   ]
  },
  {
   "cell_type": "code",
   "execution_count": 7,
   "id": "df3a9286",
   "metadata": {},
   "outputs": [],
   "source": [
    "def get_min_syms(d_inv, n):\n",
    "    \"\"\"\n",
    "    下からn番目までの記号を取り出す?\n",
    "    \"\"\"\n",
    "    min_prob = min(d_inv)\n",
    "    min_prob_syms = d_inv.pop(min_prob)\n",
    "    \n",
    "    rem_len = n - len(min_prob_syms)\n",
    "    # オーバー\n",
    "    if rem_len < 0:\n",
    "        # ここが逆だった?\n",
    "        min_prob_syms.sort(reverse=False)\n",
    "        return min_prob_syms[:n]\n",
    "    elif rem_len == 0:\n",
    "        return min_prob_syms\n",
    "    else:\n",
    "        # 足りない場合は再帰\n",
    "        return min_prob_syms + get_min_syms(d_inv, rem_len)\n",
    "\n",
    "def create_connection_dict(prob_d):\n",
    "    prob_d_cp = prob_d.copy()\n",
    "    cnct_d = {}\n",
    "    next_key = max(prob_d_cp) + 1\n",
    "\n",
    "    while len(prob_d_cp) > 1:\n",
    "        prob_d_inv = {}\n",
    "        # 逆引き辞書作成\n",
    "        for k, v in prob_d_cp.items():\n",
    "            if v in prob_d_inv:\n",
    "                prob_d_inv[v].append(k)\n",
    "            else:\n",
    "                prob_d_inv[v] = [k]\n",
    "\n",
    "        print(prob_d_inv)\n",
    "\n",
    "        min_syms = get_min_syms(prob_d_inv, 2)\n",
    "\n",
    "        prob_d_cp[next_key] = sum(v for k, v in prob_d_cp.items() if k in min_syms)\n",
    "        cnct_d[next_key] = sorted(min_syms)\n",
    "        \n",
    "        for i in min_syms:\n",
    "            prob_d_cp.pop(i)\n",
    "    \n",
    "        print(prob_d_cp)\n",
    "        print(cnct_d)\n",
    "        next_key += 1\n",
    "\n",
    "    return cnct_d\n",
    "\n",
    "def generate_code(cnct_d, code_d):\n",
    "    \"\"\"\n",
    "    枝の繋がりから符号を作成\n",
    "    \"\"\"\n",
    "    max_key = max(cnct_d)\n",
    "    children = cnct_d.pop(max_key)\n",
    "    \n",
    "    print(cnct_d)\n",
    "    \n",
    "    for i, j in enumerate(children):\n",
    "        if max_key in code_d:\n",
    "            code_d[j] = code_d[max_key] + str(i)\n",
    "        else:\n",
    "            code_d[j] = str(i)\n",
    "    \n",
    "    if max_key in code_d:\n",
    "        code_d.pop(max_key)\n",
    "    print(code_d)\n",
    "    \n",
    "    if any(cnct_d):\n",
    "        generate_code(cnct_d, code_d)"
   ]
  },
  {
   "cell_type": "code",
   "execution_count": 8,
   "id": "d4cdc517",
   "metadata": {},
   "outputs": [
    {
     "name": "stdout",
     "output_type": "stream",
     "text": [
      "1.0\n",
      "{0.25: [0], 0.07: [1, 2], 0.04: [3], 0.57: [4]}\n",
      "{0: 0.25, 2: 0.07, 4: 0.57, 5: 0.11000000000000001}\n",
      "{5: [1, 3]}\n",
      "{0.25: [0], 0.07: [2], 0.57: [4], 0.11000000000000001: [5]}\n",
      "{0: 0.25, 4: 0.57, 6: 0.18000000000000002}\n",
      "{5: [1, 3], 6: [2, 5]}\n",
      "{0.25: [0], 0.57: [4], 0.18000000000000002: [6]}\n",
      "{4: 0.57, 7: 0.43000000000000005}\n",
      "{5: [1, 3], 6: [2, 5], 7: [0, 6]}\n",
      "{0.57: [4], 0.43000000000000005: [7]}\n",
      "{8: 1.0}\n",
      "{5: [1, 3], 6: [2, 5], 7: [0, 6], 8: [4, 7]}\n",
      "####################################################################################################\n",
      "{5: [1, 3], 6: [2, 5], 7: [0, 6]}\n",
      "{4: '0', 7: '1'}\n",
      "{5: [1, 3], 6: [2, 5]}\n",
      "{4: '0', 0: '10', 6: '11'}\n",
      "{5: [1, 3]}\n",
      "{4: '0', 0: '10', 2: '110', 5: '111'}\n",
      "{}\n",
      "{4: '0', 0: '10', 2: '110', 1: '1110', 3: '1111'}\n",
      "answer: 10 1110 110 1111 0 \n"
     ]
    }
   ],
   "source": [
    "# prob_arr = np.array([0.2, 0.19, 0.07, 0.05, 0.49])\n",
    "# prob_arr = np.array([0.05, 0.05, 0.05, 0.05, 0.8])\n",
    "# prob_arr = np.array([0.12, 0.01, 0.22, 0.07, 0.02, 0.56])\n",
    "prob_arr = np.array([0.25, 0.07, 0.07, 0.04, 0.57])\n",
    "print(prob_arr.sum())\n",
    "prob_dict = {k: v for k, v in enumerate(prob_arr)}\n",
    "\n",
    "connect_dict = create_connection_dict(prob_dict)\n",
    "\n",
    "print(\"#\" * 100)\n",
    "\n",
    "code_dict = {}\n",
    "generate_code(connect_dict, code_dict)\n",
    "\n",
    "sorted_keys = sorted(code_dict.keys())\n",
    "print(\"answer: \", end=\"\")\n",
    "for i in sorted_keys:\n",
    "    print(code_dict[i], end=\" \")\n",
    "print()"
   ]
  },
  {
   "cell_type": "markdown",
   "id": "90c521bb",
   "metadata": {},
   "source": [
    "### ランレングス・ハフマン符号"
   ]
  },
  {
   "cell_type": "code",
   "execution_count": 6,
   "id": "dedf4c57",
   "metadata": {},
   "outputs": [],
   "source": [
    "def run_length_each_prob(Pb, N):\n",
    "    \"\"\"\n",
    "    各長さの確率\n",
    "    \"\"\"\n",
    "    return np.array([(1 - Pb) ** i * Pb for i in range(N)] + [(1 - Pb) ** N])\n",
    "\n",
    "def calc_source_len_mean(Pb, N):\n",
    "    return (1 - (1 - Pb) ** N) / Pb"
   ]
  },
  {
   "cell_type": "code",
   "execution_count": 7,
   "id": "4ba22a16",
   "metadata": {},
   "outputs": [
    {
     "name": "stdout",
     "output_type": "stream",
     "text": [
      "[0.007      0.006951   0.00690234 0.00685403 0.97229263] 1.0\n",
      "{0.007: [0], 0.006951: [1], 0.006902343: [2], 0.006854026599000001: [3], 0.972292630401: [4]}\n",
      "{0: 0.007, 1: 0.006951, 4: 0.972292630401, 5: 0.013756369599}\n",
      "{5: [2, 3]}\n",
      "{0.007: [0], 0.006951: [1], 0.972292630401: [4], 0.013756369599: [5]}\n",
      "{4: 0.972292630401, 5: 0.013756369599, 6: 0.013951}\n",
      "{5: [2, 3], 6: [0, 1]}\n",
      "{0.972292630401: [4], 0.013756369599: [5], 0.013951: [6]}\n",
      "{4: 0.972292630401, 7: 0.027707369598999998}\n",
      "{5: [2, 3], 6: [0, 1], 7: [5, 6]}\n",
      "{0.972292630401: [4], 0.027707369598999998: [7]}\n",
      "{8: 1.0}\n",
      "{5: [2, 3], 6: [0, 1], 7: [5, 6], 8: [4, 7]}\n",
      "####################################################################################################\n",
      "{5: [2, 3], 6: [0, 1], 7: [5, 6]}\n",
      "{4: '0', 7: '1'}\n",
      "{5: [2, 3], 6: [0, 1]}\n",
      "{4: '0', 5: '10', 6: '11'}\n",
      "{5: [2, 3]}\n",
      "{4: '0', 5: '10', 0: '110', 1: '111'}\n",
      "{}\n",
      "{4: '0', 0: '110', 1: '111', 2: '100', 3: '101'}\n",
      "L = 1.055415\n",
      "n_N = 3.958196\n",
      "l_N = 0.266640\n"
     ]
    }
   ],
   "source": [
    "Pb = 0.007\n",
    "N = 4\n",
    "\n",
    "prob_arr = run_length_each_prob(Pb, N)\n",
    "print(prob_arr, prob_arr.sum())\n",
    "\n",
    "prob_dict = {k: v for k, v in enumerate(prob_arr)}\n",
    "\n",
    "connect_dict = create_connection_dict(prob_dict)\n",
    "\n",
    "print(\"#\" * 100)\n",
    "\n",
    "code_dict = {}\n",
    "generate_code(connect_dict, code_dict)\n",
    "\n",
    "len_arr = np.array([len(code_dict[k]) for k in sorted(code_dict.keys())])\n",
    "\n",
    "codeword_len_mean = np.dot(prob_arr, len_arr)\n",
    "print(\"L = %f\" % codeword_len_mean)\n",
    "source_len_mean = calc_source_len_mean(Pb, N)\n",
    "print(\"n_N = %f\" % source_len_mean)\n",
    "\n",
    "print(\"l_N = %f\" % (codeword_len_mean / source_len_mean))"
   ]
  },
  {
   "cell_type": "markdown",
   "id": "69efc691",
   "metadata": {},
   "source": [
    "### ZL符号"
   ]
  },
  {
   "cell_type": "code",
   "execution_count": 8,
   "id": "4f38862a",
   "metadata": {},
   "outputs": [
    {
     "name": "stdout",
     "output_type": "stream",
     "text": [
      "####################################################################################################\n",
      "1 1 A\n",
      "####################################################################################################\n",
      "3 3 AAA\n",
      "####################################################################################################\n",
      "7 7 ABBBABA\n",
      "7 6 ABBBAB\n",
      "7 5 ABBBA\n",
      "7 4 ABBB\n",
      "7 3 ABB\n",
      "7 2 AB\n",
      "7 1 A\n",
      "####################################################################################################\n",
      "9 9 BBABABBAA\n",
      "9 8 BBABABBA\n",
      "9 7 BBABABB\n",
      "9 6 BBABAB\n",
      "9 5 BBABA\n",
      "9 4 BBAB\n",
      "9 3 BBA\n",
      "9 2 BB\n",
      "9 1 B\n",
      "####################################################################################################\n",
      "11 11 ABABBAABB\n",
      "11 10 ABABBAABB\n",
      "11 9 ABABBAABB\n",
      "11 8 ABABBAAB\n",
      "11 7 ABABBAA\n",
      "11 6 ABABBA\n",
      "11 5 ABABB\n",
      "11 4 ABAB\n",
      "11 3 ABA\n",
      "11 2 AB\n",
      "####################################################################################################\n",
      "14 14 BBAABB\n",
      "14 13 BBAABB\n",
      "14 12 BBAABB\n",
      "14 11 BBAABB\n",
      "14 10 BBAABB\n",
      "14 9 BBAABB\n",
      "14 8 BBAABB\n",
      "14 7 BBAABB\n",
      "14 6 BBAABB\n",
      "14 5 BBAAB\n",
      "14 4 BBAA\n",
      "14 3 BBA\n",
      "####################################################################################################\n",
      "18 18 BB\n",
      "末尾余り\n",
      "####################################################################################################\n",
      "[(0, 0, 'A'), (0, 1, 'A'), (0, 3, 'A'), (0, 1, 'B'), (8, 1, 'B'), (7, 2, 'A'), (9, 3, 'A')]\n",
      "1 2 4 2 2 3 4 \n"
     ]
    }
   ],
   "source": [
    "# symbol_series = \"AAAAAAAAAAAABBAAAABA\"\n",
    "# symbol_series = \"ABAAABAAABABBBABABAB\"\n",
    "# symbol_series = \"ABAAABBAAAABBABABAAA\"\n",
    "symbol_series = \"AAAAAAAABBBABABBAABB\"\n",
    "\n",
    "codes = []\n",
    "known_patterns = {}\n",
    "\n",
    "i = 0\n",
    "while i < len(symbol_series):\n",
    "    for j in range(i):\n",
    "        for l in range(1, i - j + 1):\n",
    "            pattern = symbol_series[j:j+l]\n",
    "            if pattern not in known_patterns:\n",
    "                known_patterns[pattern] = (j, l)\n",
    "#                 print(i, j, l, pattern)\n",
    "    for j in range(i, 0, -1):\n",
    "        pattern = symbol_series[i:i + j]\n",
    "        print(i, j, pattern)\n",
    "        if pattern in known_patterns:\n",
    "            if i + j >= len(symbol_series):\n",
    "                print(\"末尾余り\")\n",
    "                i = float(\"inf\")\n",
    "            else:\n",
    "                codes.append(known_patterns[pattern] + (symbol_series[i+j],))\n",
    "                i += j + 1\n",
    "            break\n",
    "    else:\n",
    "        codes.append((0, 0, symbol_series[i]))\n",
    "        i += 1\n",
    "    print(\"#\" * 100)\n",
    "    \n",
    "# print(known_patterns)\n",
    "print(codes)\n",
    "\n",
    "for i in codes:\n",
    "    print(i[1] + 1, end=\" \")\n",
    "print()"
   ]
  },
  {
   "cell_type": "markdown",
   "id": "7aceb569",
   "metadata": {},
   "source": [
    "### 実用的なZL"
   ]
  },
  {
   "cell_type": "code",
   "execution_count": 16,
   "id": "6c67064a",
   "metadata": {},
   "outputs": [
    {
     "name": "stdout",
     "output_type": "stream",
     "text": [
      "AAAAAAAA|ABAA\n",
      "AABAABAA\n",
      "7 8 ABA\n",
      "7 8 AB\n",
      "7 8 A\n",
      "####################################################################################################\n",
      "AAAAAAAB|AAAA\n",
      "BAABAA\n",
      "7 8 AAA\n",
      "####################################################################################################\n",
      "AAABAAAA|BAAB\n",
      "AA\n",
      "7 8 BAA\n",
      "####################################################################################################\n",
      "AAAABAAB|AA\n",
      "\n",
      "7 8 AA\n",
      "####################################################################################################\n",
      "[(0, 1, 'B'), (0, 3, 'A'), (3, 3, 'B')]\n",
      "000011 000110 011111 \n"
     ]
    }
   ],
   "source": [
    "offset_bit = 3\n",
    "length_bit = 2\n",
    "\n",
    "# symbol_series = \"AAABAABAAABB\"\n",
    "symbol_series = \"ABAAAABAABAA\"\n",
    "\n",
    "offset = 1 << offset_bit\n",
    "length = 1 << length_bit\n",
    "\n",
    "buffer = \"A\" * offset + symbol_series[:length]\n",
    "\n",
    "symbol_remain = symbol_series[length:]\n",
    "\n",
    "codes = []\n",
    "while len(buffer) > offset:\n",
    "    print(buffer[:offset] + \"|\" + buffer[offset:])\n",
    "    print(symbol_remain)\n",
    "    \n",
    "    known_patterns = {}\n",
    "    for i in range(offset):\n",
    "        for j in range(i + 1, offset + 1):\n",
    "            pattern = buffer[i:j]\n",
    "            if pattern not in known_patterns:\n",
    "                known_patterns[pattern] = (i, j - i)\n",
    "#     print(known_patterns)\n",
    "    for l in range(length - 1, 0, -1):\n",
    "        pattern = buffer[offset:offset+l]\n",
    "        print(i, j, pattern)\n",
    "        if len(buffer) <= offset+l:\n",
    "            buffer = \"\"\n",
    "            break\n",
    "        if pattern in known_patterns:\n",
    "            codes.append(known_patterns[pattern] + (buffer[offset+l],))\n",
    "            buffer = buffer[l+1:] + symbol_remain[:l+1]\n",
    "            symbol_remain = symbol_remain[l+1:]\n",
    "            break\n",
    "    else:\n",
    "        codes.append((0, 0, buffer[offset]))\n",
    "        buffer = buffer[1:] + symbol_remain[:1]\n",
    "        symbol_remain = symbol_remain[1:]\n",
    "    print(\"#\" * 100)\n",
    "print(codes)\n",
    "\n",
    "for i in codes:\n",
    "    print(format(i[0], \"0%db\" % offset_bit) + format(i[1], \"0%db\" % length_bit) + str((i[2] == \"B\") * 1), end=\" \")\n",
    "print()"
   ]
  },
  {
   "cell_type": "markdown",
   "id": "3d26dc51",
   "metadata": {},
   "source": [
    "### 実用的なZL (復号)"
   ]
  },
  {
   "cell_type": "code",
   "execution_count": 10,
   "id": "9c8373d1",
   "metadata": {},
   "outputs": [
    {
     "name": "stdout",
     "output_type": "stream",
     "text": [
      "(0, 1, 'B')\n",
      "AAAAAAAAAAAAAAAA|\n",
      "(12, 4, 'A')\n",
      "AAAAAAAAAAAAAAAB|\n",
      "(9, 3, 'B')\n",
      "AAAAAAAAAABAAABA|\n",
      "(0, 3, 'A')\n",
      "AAAAAABAAABAABAB|\n",
      "AABAAABAABABAAAA|\n",
      "\n",
      "ABAAABAABABAAAA\n"
     ]
    }
   ],
   "source": [
    "offset_bit = 4\n",
    "length_bit = 3\n",
    "\n",
    "codes = \"00000011 11001000 10010111 00000110\"\n",
    "codes = codes.split(\" \")\n",
    "codes = [(int(i[:offset_bit], 2), int(i[offset_bit:offset_bit+length_bit], 2), chr(ord(\"A\") + int(i[-1]))) for i in codes]\n",
    "codes\n",
    "\n",
    "offset = 1 << offset_bit\n",
    "length = 1 << length_bit\n",
    "\n",
    "buffer = \"A\" * offset\n",
    "symbol_series = \"\"\n",
    "\n",
    "for i in codes:\n",
    "    print(i)\n",
    "    print(buffer[:offset] + \"|\" + buffer[offset:])\n",
    "    pattern = buffer[i[0]:i[0]+i[1]] + i[2]\n",
    "    symbol_series += pattern\n",
    "    buffer = (buffer + pattern)[i[1]+1:]\n",
    "\n",
    "print(buffer[:offset] + \"|\" + buffer[offset:] + \"\\n\")\n",
    "print(symbol_series)"
   ]
  },
  {
   "cell_type": "code",
   "execution_count": 11,
   "id": "6cecc45d",
   "metadata": {},
   "outputs": [
    {
     "data": {
      "text/plain": [
       "'B'"
      ]
     },
     "execution_count": 11,
     "metadata": {},
     "output_type": "execute_result"
    }
   ],
   "source": [
    "chr(ord(\"A\") + 1)"
   ]
  },
  {
   "cell_type": "markdown",
   "id": "4f67f7e1",
   "metadata": {},
   "source": [
    "### ボール3種. 2個取り出す. 戻さない.\n",
    "とりあえず結合エントロピーを計算"
   ]
  },
  {
   "cell_type": "code",
   "execution_count": 12,
   "id": "19f3f8ba",
   "metadata": {},
   "outputs": [
    {
     "name": "stdout",
     "output_type": "stream",
     "text": [
      "[0.16666666666666666, 0.16666666666666666, 0.16666666666666666, 0.16666666666666666, 0.0, 0.08333333333333333, 0.16666666666666666, 0.08333333333333333, 0.0]\n"
     ]
    },
    {
     "data": {
      "text/plain": [
       "2.751629167387823"
      ]
     },
     "execution_count": 12,
     "metadata": {},
     "output_type": "execute_result"
    }
   ],
   "source": [
    "# ball_count = [1, 2, 2]\n",
    "ball_count = [2, 1, 1]\n",
    "# ball_count = [1, 3, 3]\n",
    "# ball_count = [1, 4, 3]\n",
    "\n",
    "joint_prob_arr = []\n",
    "\n",
    "for i, j in enumerate(ball_count):\n",
    "    pj = j / sum(ball_count)\n",
    "    ball_count_cp = ball_count.copy()\n",
    "    ball_count_cp[i] -= 1\n",
    "    for k in ball_count_cp:\n",
    "        pk = k / sum(ball_count_cp)\n",
    "        joint_prob_arr.append(pj * pk)\n",
    "\n",
    "print(joint_prob_arr)\n",
    "calc_entropy(joint_prob_arr)"
   ]
  },
  {
   "cell_type": "markdown",
   "id": "1d300c52",
   "metadata": {},
   "source": [
    "条件付きエントロピー H(Y|X)"
   ]
  },
  {
   "cell_type": "code",
   "execution_count": 13,
   "id": "ac4dfbe6",
   "metadata": {},
   "outputs": [
    {
     "data": {
      "text/plain": [
       "1.4677201004744993"
      ]
     },
     "execution_count": 13,
     "metadata": {},
     "output_type": "execute_result"
    }
   ],
   "source": [
    "# ball_count = [2, 3, 2]\n",
    "# ball_count = [3, 4, 4]\n",
    "# ball_count = [1, 4, 3]\n",
    "ball_count = [4, 2, 2]\n",
    "\n",
    "e = 0\n",
    "\n",
    "for i, j in enumerate(ball_count):\n",
    "    pj = j / sum(ball_count)\n",
    "    ball_count_cp = ball_count.copy()\n",
    "    ball_count_cp[i] -= 1\n",
    "    for k in ball_count_cp:\n",
    "        if k < 1e-10:\n",
    "            continue\n",
    "        pk = k / sum(ball_count_cp)\n",
    "        e -= pj * pk * np.log2(pk)\n",
    "\n",
    "e"
   ]
  },
  {
   "cell_type": "markdown",
   "id": "dd533a81",
   "metadata": {},
   "source": [
    "### 2元対称通信路"
   ]
  },
  {
   "cell_type": "code",
   "execution_count": 14,
   "id": "29eb9222",
   "metadata": {},
   "outputs": [
    {
     "name": "stdout",
     "output_type": "stream",
     "text": [
      "0.1943918578315762\n",
      "0.16488119024843398\n",
      "0.02951066758314222\n"
     ]
    }
   ],
   "source": [
    "# px0 = 0.9\n",
    "# pe = 0.38\n",
    "# pe, px0 = 0.91, 0.06\n",
    "# pe, px0 = 0.34, 0.39\n",
    "pe, px0 = 0.78, 0.03\n",
    "\n",
    "pxl = [px0, 1 - px0]\n",
    "\n",
    "Hx = calc_entropy(pxl)\n",
    "\n",
    "py0 = px0 * (1 - pe) + (1 - px0) * pe\n",
    "pyl = [py0, 1 - py0]\n",
    "\n",
    "Hx_bar_y = 0\n",
    "\n",
    "for i in range(2):\n",
    "    pyi = pyl[i]\n",
    "    for j in range(2):\n",
    "        pxj = pxl[j]\n",
    "        if i != j:\n",
    "            pxj_bar_yi = pxj * pe / pyi\n",
    "        else:\n",
    "            pxj_bar_yi = pxj * (1 - pe) / pyi\n",
    "        Hx_bar_y -= pyi * pxj_bar_yi * np.log2(pxj_bar_yi)\n",
    "\n",
    "print(Hx)\n",
    "print(Hx_bar_y)\n",
    "print(Hx - Hx_bar_y)"
   ]
  },
  {
   "cell_type": "code",
   "execution_count": 15,
   "id": "7265a135",
   "metadata": {},
   "outputs": [],
   "source": [
    "def calc_matual_info(pe, px0):\n",
    "    pxl = [px0, 1 - px0]\n",
    "    py0 = px0 * (1 - pe) + (1 - px0) * pe\n",
    "    pyl = [py0, 1 - py0]\n",
    "    \n",
    "    Hy = calc_entropy(pyl)\n",
    "    \n",
    "    Ixy = Hy\n",
    "    for i in range(2):\n",
    "        for j in range(2):\n",
    "            if i == j:\n",
    "                Ixy += pxl[i] * (1 - pe) * np.log2(1 - pe)\n",
    "            else:\n",
    "                Ixy += pxl[i] * pe * np.log2(pe)\n",
    "    return Ixy"
   ]
  },
  {
   "cell_type": "code",
   "execution_count": 16,
   "id": "db396abb",
   "metadata": {},
   "outputs": [
    {
     "data": {
      "image/png": "[encoded data removed]",
      "text/plain": [
       "<Figure size 432x288 with 1 Axes>"
      ]
     },
     "metadata": {
      "needs_background": "light"
     },
     "output_type": "display_data"
    }
   ],
   "source": [
    "pe = 0.84\n",
    "\n",
    "x = np.linspace(0, 1, 101)\n",
    "y = np.array([calc_matual_info(0.84, i) for i in x])\n",
    "fig = plt.figure()\n",
    "ax = fig.add_subplot(111)\n",
    "ax.plot(x, y)\n",
    "ax.grid()\n",
    "plt.show()"
   ]
  },
  {
   "cell_type": "markdown",
   "id": "57dc01a2",
   "metadata": {},
   "source": [
    "### 生成行列"
   ]
  },
  {
   "cell_type": "code",
   "execution_count": 17,
   "id": "69030959",
   "metadata": {},
   "outputs": [
    {
     "name": "stdout",
     "output_type": "stream",
     "text": [
      "[[0 1 1]\n",
      " [0 0 1]\n",
      " [1 1 0]]\n",
      "[[1 0 0 0 1 0 0]\n",
      " [0 1 1 0 0 1 0]\n",
      " [0 1 0 1 1 0 1]]\n",
      "[[0 0 1 1 1 1 1]\n",
      " [0 1 0 1 1 0 1]\n",
      " [1 1 1 0 1 1 0]]\n",
      "0011111 0101101 1110110 \n"
     ]
    }
   ],
   "source": [
    "# G_str = \"\"\"|1　0　0　0　1　0　0|\n",
    "# G = |0　1　1　0　0　1　0|\n",
    "# 　　|0　1　0　1　1　0　1|\"\"\"\n",
    "G_str = \"\"\"|1　0　0　0　1　0　0|\n",
    "G = |0　1　1　0　0　1　0|\n",
    "　　|0　1　0　1　1　0　1|\"\"\"\n",
    "\n",
    "# info_series = \"001 111 100\"\n",
    "info_series = \"011 001 110\"\n",
    "\n",
    "G_str = G_str.split(\"\\n\")\n",
    "G_str = [i.split(\"　\") for i in G_str]\n",
    "\n",
    "info_series = np.matrix([[int(j) for j in i] for i in info_series.split(\" \")])\n",
    "\n",
    "G = []\n",
    "for i in range(len(G_str)):\n",
    "    tmp = []\n",
    "    for j in G_str[i]:\n",
    "        m = re.match(r'.*([01]+)', j)\n",
    "        if m:\n",
    "            tmp.append(int(m.groups()[0]))\n",
    "    G.append(tmp)\n",
    "G = np.matrix(G)\n",
    "\n",
    "print(info_series)\n",
    "print(G)\n",
    "\n",
    "c = np.matmul(info_series, G) % 2\n",
    "print(c)\n",
    "for i in c.tolist():\n",
    "    for j in i:\n",
    "        print(j, end=\"\")\n",
    "    print(end=\" \")\n",
    "print()"
   ]
  },
  {
   "cell_type": "markdown",
   "id": "4dc10b67",
   "metadata": {},
   "source": [
    "### (7, 4)ハミング符号の復号"
   ]
  },
  {
   "cell_type": "code",
   "execution_count": 18,
   "id": "2d4e55d7",
   "metadata": {},
   "outputs": [
    {
     "name": "stdout",
     "output_type": "stream",
     "text": [
      "3\n",
      "[[0 0 0 0 1 1 0]]\n",
      "[[1 1 1]\n",
      " [0 1 1]\n",
      " [1 0 1]\n",
      " [1 1 0]\n",
      " [1 0 0]\n",
      " [0 1 0]\n",
      " [0 0 1]]\n",
      "[[1 1 0]]\n",
      "[[0 0 0 1 1 1 0]]\n",
      "0001\n"
     ]
    }
   ],
   "source": [
    "# info_series = \"0 0 1 1 0 1 0\"\n",
    "info_series = \"0 0 0 0 1 1 0\"\n",
    "\n",
    "info_series = np.matrix([int(i) for i in info_series.split(\" \")])\n",
    "\n",
    "Ht = np.matrix([\n",
    "    [1, 1, 1],\n",
    "    [0, 1, 1],\n",
    "    [1, 0, 1],\n",
    "    [1, 1, 0],\n",
    "    [1, 0, 0],\n",
    "    [0, 1, 0],\n",
    "    [0, 0, 1]\n",
    "])\n",
    " \n",
    "s = np.matmul(info_series, Ht) % 2\n",
    "\n",
    "e = []\n",
    "\n",
    "for i, j in enumerate(Ht):\n",
    "    if np.array_equal(j, s):\n",
    "        print(i)\n",
    "        e.append(1)\n",
    "    else:\n",
    "        e.append(0)\n",
    "e = np.matrix(e)\n",
    "\n",
    "print(info_series)\n",
    "print(Ht)\n",
    "print(s)\n",
    "\n",
    "y = info_series + e\n",
    "\n",
    "print(y)\n",
    "\n",
    "for i in range(4):\n",
    "    print(y[0, i], end=\"\")\n",
    "print()"
   ]
  },
  {
   "cell_type": "code",
   "execution_count": null,
   "id": "f6ac73c6",
   "metadata": {},
   "outputs": [],
   "source": []
  }
 ],
 "metadata": {
  "kernelspec": {
   "display_name": "Python 3 (ipykernel)",
   "language": "python",
   "name": "python3"
  },
  "language_info": {
   "codemirror_mode": {
    "name": "ipython",
    "version": 3
   },
   "file_extension": ".py",
   "mimetype": "text/x-python",
   "name": "python",
   "nbconvert_exporter": "python",
   "pygments_lexer": "ipython3",
   "version": "3.10.4"
  }
 },
 "nbformat": 4,
 "nbformat_minor": 5
}
