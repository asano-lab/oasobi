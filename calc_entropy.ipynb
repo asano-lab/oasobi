{
 "cells": [
  {
   "cell_type": "code",
   "execution_count": 1,
   "id": "901577ad",
   "metadata": {},
   "outputs": [],
   "source": [
    "import numpy as np"
   ]
  },
  {
   "cell_type": "code",
   "execution_count": 6,
   "id": "deb89601",
   "metadata": {},
   "outputs": [],
   "source": [
    "def calc_entropy(prob_array):\n",
    "    if sum(prob_array) != 1:\n",
    "        return\n",
    "    return -sum(i * np.log2(i) for i in prob_array)"
   ]
  },
  {
   "cell_type": "code",
   "execution_count": 8,
   "id": "1111a1ad",
   "metadata": {},
   "outputs": [
    {
     "data": {
      "text/plain": [
       "0.9161182137782959"
      ]
     },
     "execution_count": 8,
     "metadata": {},
     "output_type": "execute_result"
    }
   ],
   "source": [
    "# calc_entropy([0.17, 0.08, 0.13, 0.62])\n",
    "calc_entropy([0.08, 0.12, 0.8])"
   ]
  },
  {
   "cell_type": "code",
   "execution_count": null,
   "id": "cfaa933c",
   "metadata": {},
   "outputs": [],
   "source": []
  }
 ],
 "metadata": {
  "kernelspec": {
   "display_name": "Python 3",
   "language": "python",
   "name": "python3"
  },
  "language_info": {
   "codemirror_mode": {
    "name": "ipython",
    "version": 3
   },
   "file_extension": ".py",
   "mimetype": "text/x-python",
   "name": "python",
   "nbconvert_exporter": "python",
   "pygments_lexer": "ipython3",
   "version": "3.9.5"
  }
 },
 "nbformat": 4,
 "nbformat_minor": 5
}
