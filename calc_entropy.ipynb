{
 "cells": [
  {
   "cell_type": "code",
   "execution_count": 1,
   "id": "5ceabb7e",
   "metadata": {},
   "outputs": [],
   "source": [
    "import numpy as np"
   ]
  },
  {
   "cell_type": "code",
   "execution_count": 6,
   "id": "7a5adfa4",
   "metadata": {},
   "outputs": [],
   "source": [
    "def calc_entropy(prob_array):\n",
    "    if sum(prob_array) != 1:\n",
    "        return\n",
    "    return -sum(i * np.log2(i) for i in prob_array)"
   ]
  },
  {
   "cell_type": "code",
   "execution_count": 15,
   "id": "d3a0ec3f",
   "metadata": {},
   "outputs": [
    {
     "data": {
      "text/plain": [
       "0.6073635558851669"
      ]
     },
     "execution_count": 15,
     "metadata": {},
     "output_type": "execute_result"
    }
   ],
   "source": [
    "# calc_entropy([0.17, 0.08, 0.13, 0.62])\n",
    "# calc_entropy([0.08, 0.12, 0.8])\n",
    "# calc_entropy([0.17, 0.1, 0.1, 0.63])\n",
    "# calc_entropy([0.16, 0.03, 0.81])\n",
    "# calc_entropy([0.02, 0.19, 0.1, 0.69])\n",
    "# calc_entropy([0.06, 0.3, 0.64])\n",
    "# calc_entropy([0.23, 0.08, 0.01, 0.68])\n",
    "calc_entropy([0.02, 0.1, 0.88])"
   ]
  },
  {
   "cell_type": "markdown",
   "id": "7c84127d",
   "metadata": {},
   "source": [
    "### ハフマン符号を計算してみる"
   ]
  },
  {
   "cell_type": "code",
   "execution_count": 59,
   "id": "1ce415c4",
   "metadata": {},
   "outputs": [
    {
     "name": "stdout",
     "output_type": "stream",
     "text": [
      "{0.05: [0, 1, 3], 0.49: [2, 4]}\n",
      "[3, 1]\n"
     ]
    }
   ],
   "source": [
    "# prob_arr = np.array([0.2, 0.19, 0.07, 0.05, 0.49])\n",
    "prob_arr = np.array([0.05, 0.05, 0.49, 0.05, 0.49])\n",
    "prob_dict = {k: v for k, v in enumerate(prob_arr)}\n",
    "\n",
    "prob_dict_inv = {}\n",
    "for k, v in prob_dict.items():\n",
    "    if v in prob_dict_inv:\n",
    "        prob_dict_inv[v].append(k)\n",
    "    else:\n",
    "        prob_dict_inv[v] = [k]\n",
    "\n",
    "print(prob_dict_inv)\n",
    "\n",
    "def get_min_syms(d_inv, n):\n",
    "    \"\"\"\n",
    "    下からn番目までの記号を取り出す?\n",
    "    \"\"\"\n",
    "    min_prob = min(d_inv)\n",
    "    min_prob_syms = prob_dict_inv.pop(min_prob)\n",
    "    \n",
    "    rem_len = n - len(min_prob_syms)\n",
    "    # オーバー\n",
    "    if rem_len < 0:\n",
    "        min_prob_syms.sort(reverse=True)\n",
    "        return min_prob_syms[:n]\n",
    "    elif rem_len == 0:\n",
    "        return min_prob_syms\n",
    "    else:\n",
    "        # 足りない場合は再帰\n",
    "        return min_prob_syms + get_min_syms(d_inv, rem_len)\n",
    "\n",
    "print(get_min_syms(prob_dict_inv, 2))\n"
   ]
  },
  {
   "cell_type": "code",
   "execution_count": null,
   "id": "247341bc",
   "metadata": {},
   "outputs": [],
   "source": []
  }
 ],
 "metadata": {
  "kernelspec": {
   "display_name": "Python 3",
   "language": "python",
   "name": "python3"
  },
  "language_info": {
   "codemirror_mode": {
    "name": "ipython",
    "version": 3
   },
   "file_extension": ".py",
   "mimetype": "text/x-python",
   "name": "python",
   "nbconvert_exporter": "python",
   "pygments_lexer": "ipython3",
   "version": "3.9.5"
  }
 },
 "nbformat": 4,
 "nbformat_minor": 5
}
