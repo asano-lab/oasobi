{
 "cells": [
  {
   "cell_type": "code",
   "execution_count": 1,
   "id": "52e1abe3",
   "metadata": {},
   "outputs": [],
   "source": [
    "import numpy as np"
   ]
  },
  {
   "cell_type": "code",
   "execution_count": 2,
   "id": "830b9348",
   "metadata": {},
   "outputs": [],
   "source": [
    "def calc_entropy(prob_array):\n",
    "    if sum(prob_array) != 1:\n",
    "        return\n",
    "    return -sum(i * np.log2(i) for i in prob_array)"
   ]
  },
  {
   "cell_type": "code",
   "execution_count": 3,
   "id": "27bdf3bb",
   "metadata": {},
   "outputs": [
    {
     "data": {
      "text/plain": [
       "0.6073635558851669"
      ]
     },
     "execution_count": 3,
     "metadata": {},
     "output_type": "execute_result"
    }
   ],
   "source": [
    "# calc_entropy([0.17, 0.08, 0.13, 0.62])\n",
    "# calc_entropy([0.08, 0.12, 0.8])\n",
    "# calc_entropy([0.17, 0.1, 0.1, 0.63])\n",
    "# calc_entropy([0.16, 0.03, 0.81])\n",
    "# calc_entropy([0.02, 0.19, 0.1, 0.69])\n",
    "# calc_entropy([0.06, 0.3, 0.64])\n",
    "# calc_entropy([0.23, 0.08, 0.01, 0.68])\n",
    "calc_entropy([0.02, 0.1, 0.88])"
   ]
  },
  {
   "cell_type": "markdown",
   "id": "2824d748",
   "metadata": {},
   "source": [
    "### ハフマン符号を計算してみる"
   ]
  },
  {
   "cell_type": "code",
   "execution_count": 4,
   "id": "df3a9286",
   "metadata": {},
   "outputs": [],
   "source": [
    "def get_min_syms(d_inv, n):\n",
    "    \"\"\"\n",
    "    下からn番目までの記号を取り出す?\n",
    "    \"\"\"\n",
    "    min_prob = min(d_inv)\n",
    "    min_prob_syms = d_inv.pop(min_prob)\n",
    "    \n",
    "    rem_len = n - len(min_prob_syms)\n",
    "    # オーバー\n",
    "    if rem_len < 0:\n",
    "        min_prob_syms.sort(reverse=True)\n",
    "        return min_prob_syms[:n]\n",
    "    elif rem_len == 0:\n",
    "        return min_prob_syms\n",
    "    else:\n",
    "        # 足りない場合は再帰\n",
    "        return min_prob_syms + get_min_syms(d_inv, rem_len)\n",
    "\n",
    "def create_connection_dict(prob_d):\n",
    "    prob_d_cp = prob_d.copy()\n",
    "    cnct_d = {}\n",
    "    next_key = max(prob_d_cp) + 1\n",
    "\n",
    "    while len(prob_d_cp) > 1:\n",
    "        prob_d_inv = {}\n",
    "        # 逆引き辞書作成\n",
    "        for k, v in prob_d_cp.items():\n",
    "            if v in prob_d_inv:\n",
    "                prob_d_inv[v].append(k)\n",
    "            else:\n",
    "                prob_d_inv[v] = [k]\n",
    "\n",
    "        print(prob_d_inv)\n",
    "\n",
    "        min_syms = get_min_syms(prob_d_inv, 2)\n",
    "\n",
    "        prob_d_cp[next_key] = sum(v for k, v in prob_d_cp.items() if k in min_syms)\n",
    "        cnct_d[next_key] = sorted(min_syms)\n",
    "        \n",
    "        for i in min_syms:\n",
    "            prob_d_cp.pop(i)\n",
    "    \n",
    "        print(prob_d_cp)\n",
    "        print(cnct_d)\n",
    "        next_key += 1\n",
    "\n",
    "    return cnct_d\n",
    "\n",
    "def generate_code(cnct_d, code_d):\n",
    "    \"\"\"\n",
    "    枝の繋がりから符号を作成\n",
    "    \"\"\"\n",
    "    max_key = max(cnct_d)\n",
    "    children = cnct_d.pop(max_key)\n",
    "    \n",
    "    print(cnct_d)\n",
    "    \n",
    "    for i, j in enumerate(children):\n",
    "        if max_key in code_d:\n",
    "            code_d[j] = code_d[max_key] + str(i)\n",
    "        else:\n",
    "            code_d[j] = str(i)\n",
    "    \n",
    "    if max_key in code_d:\n",
    "        code_d.pop(max_key)\n",
    "    print(code_d)\n",
    "    \n",
    "    if any(cnct_d):\n",
    "        generate_code(cnct_d, code_d)"
   ]
  },
  {
   "cell_type": "code",
   "execution_count": 5,
   "id": "d4cdc517",
   "metadata": {},
   "outputs": [
    {
     "name": "stdout",
     "output_type": "stream",
     "text": [
      "1.0\n",
      "{0.12: [0], 0.01: [1], 0.22: [2], 0.07: [3], 0.02: [4], 0.56: [5]}\n",
      "{0: 0.12, 2: 0.22, 3: 0.07, 5: 0.56, 6: 0.03}\n",
      "{6: [1, 4]}\n",
      "{0.12: [0], 0.22: [2], 0.07: [3], 0.56: [5], 0.03: [6]}\n",
      "{0: 0.12, 2: 0.22, 5: 0.56, 7: 0.1}\n",
      "{6: [1, 4], 7: [3, 6]}\n",
      "{0.12: [0], 0.22: [2], 0.56: [5], 0.1: [7]}\n",
      "{2: 0.22, 5: 0.56, 8: 0.22}\n",
      "{6: [1, 4], 7: [3, 6], 8: [0, 7]}\n",
      "{0.22: [2, 8], 0.56: [5]}\n",
      "{5: 0.56, 9: 0.44}\n",
      "{6: [1, 4], 7: [3, 6], 8: [0, 7], 9: [2, 8]}\n",
      "{0.56: [5], 0.44: [9]}\n",
      "{10: 1.0}\n",
      "{6: [1, 4], 7: [3, 6], 8: [0, 7], 9: [2, 8], 10: [5, 9]}\n",
      "####################################################################################################\n",
      "{6: [1, 4], 7: [3, 6], 8: [0, 7], 9: [2, 8]}\n",
      "{5: '0', 9: '1'}\n",
      "{6: [1, 4], 7: [3, 6], 8: [0, 7]}\n",
      "{5: '0', 2: '10', 8: '11'}\n",
      "{6: [1, 4], 7: [3, 6]}\n",
      "{5: '0', 2: '10', 0: '110', 7: '111'}\n",
      "{6: [1, 4]}\n",
      "{5: '0', 2: '10', 0: '110', 3: '1110', 6: '1111'}\n",
      "{}\n",
      "{5: '0', 2: '10', 0: '110', 3: '1110', 1: '11110', 4: '11111'}\n",
      "answer: 110 11110 10 1110 11111 0 \n"
     ]
    }
   ],
   "source": [
    "# prob_arr = np.array([0.2, 0.19, 0.07, 0.05, 0.49])\n",
    "# prob_arr = np.array([0.05, 0.05, 0.05, 0.05, 0.8])\n",
    "prob_arr = np.array([0.12, 0.01, 0.22, 0.07, 0.02, 0.56])\n",
    "print(prob_arr.sum())\n",
    "prob_dict = {k: v for k, v in enumerate(prob_arr)}\n",
    "\n",
    "connect_dict = create_connection_dict(prob_dict)\n",
    "\n",
    "print(\"#\" * 100)\n",
    "\n",
    "code_dict = {}\n",
    "generate_code(connect_dict, code_dict)\n",
    "\n",
    "sorted_keys = sorted(code_dict.keys())\n",
    "print(\"answer: \", end=\"\")\n",
    "for i in sorted_keys:\n",
    "    print(code_dict[i], end=\" \")\n",
    "print()"
   ]
  },
  {
   "cell_type": "markdown",
   "id": "90c521bb",
   "metadata": {},
   "source": [
    "### ランレングス・ハフマン符号"
   ]
  },
  {
   "cell_type": "code",
   "execution_count": 31,
   "id": "dedf4c57",
   "metadata": {},
   "outputs": [],
   "source": [
    "def run_length_each_prob(Pb, N):\n",
    "    \"\"\"\n",
    "    各長さの確率\n",
    "    \"\"\"\n",
    "    return np.array([(1 - Pb) ** i * Pb for i in range(N)] + [(1 - Pb) ** N])\n",
    "\n",
    "def calc_source_len_mean(Pb, N):\n",
    "    return (1 - (1 - Pb) ** N) / Pb"
   ]
  },
  {
   "cell_type": "code",
   "execution_count": 34,
   "id": "4ba22a16",
   "metadata": {},
   "outputs": [
    {
     "name": "stdout",
     "output_type": "stream",
     "text": [
      "[0.007      0.006951   0.00690234 0.00685403 0.97229263] 1.0\n",
      "{0.007: [0], 0.006951: [1], 0.006902343: [2], 0.006854026599000001: [3], 0.972292630401: [4]}\n",
      "{0: 0.007, 1: 0.006951, 4: 0.972292630401, 5: 0.013756369599}\n",
      "{5: [2, 3]}\n",
      "{0.007: [0], 0.006951: [1], 0.972292630401: [4], 0.013756369599: [5]}\n",
      "{4: 0.972292630401, 5: 0.013756369599, 6: 0.013951}\n",
      "{5: [2, 3], 6: [0, 1]}\n",
      "{0.972292630401: [4], 0.013756369599: [5], 0.013951: [6]}\n",
      "{4: 0.972292630401, 7: 0.027707369598999998}\n",
      "{5: [2, 3], 6: [0, 1], 7: [5, 6]}\n",
      "{0.972292630401: [4], 0.027707369598999998: [7]}\n",
      "{8: 1.0}\n",
      "{5: [2, 3], 6: [0, 1], 7: [5, 6], 8: [4, 7]}\n",
      "####################################################################################################\n",
      "{5: [2, 3], 6: [0, 1], 7: [5, 6]}\n",
      "{4: '0', 7: '1'}\n",
      "{5: [2, 3], 6: [0, 1]}\n",
      "{4: '0', 5: '10', 6: '11'}\n",
      "{5: [2, 3]}\n",
      "{4: '0', 5: '10', 0: '110', 1: '111'}\n",
      "{}\n",
      "{4: '0', 0: '110', 1: '111', 2: '100', 3: '101'}\n",
      "L = 1.055415\n",
      "n_N = 3.958196\n",
      "l_N = 0.266640\n"
     ]
    }
   ],
   "source": [
    "Pb = 0.007\n",
    "N = 4\n",
    "\n",
    "prob_arr = run_length_each_prob(Pb, N)\n",
    "print(prob_arr, prob_arr.sum())\n",
    "\n",
    "prob_dict = {k: v for k, v in enumerate(prob_arr)}\n",
    "\n",
    "connect_dict = create_connection_dict(prob_dict)\n",
    "\n",
    "print(\"#\" * 100)\n",
    "\n",
    "code_dict = {}\n",
    "generate_code(connect_dict, code_dict)\n",
    "\n",
    "len_arr = np.array([len(code_dict[k]) for k in sorted(code_dict.keys())])\n",
    "\n",
    "codeword_len_mean = np.dot(prob_arr, len_arr)\n",
    "print(\"L = %f\" % codeword_len_mean)\n",
    "source_len_mean = calc_source_len_mean(Pb, N)\n",
    "print(\"n_N = %f\" % source_len_mean)\n",
    "\n",
    "print(\"l_N = %f\" % (codeword_len_mean / source_len_mean))"
   ]
  },
  {
   "cell_type": "markdown",
   "id": "d7e5bc70",
   "metadata": {},
   "source": [
    "### ZL符号"
   ]
  },
  {
   "cell_type": "code",
   "execution_count": 97,
   "id": "4f38862a",
   "metadata": {},
   "outputs": [
    {
     "name": "stdout",
     "output_type": "stream",
     "text": [
      "####################################################################################################\n",
      "1 1 A\n",
      "####################################################################################################\n",
      "3 3 AAA\n",
      "####################################################################################################\n",
      "7 7 ABBBABA\n",
      "7 6 ABBBAB\n",
      "7 5 ABBBA\n",
      "7 4 ABBB\n",
      "7 3 ABB\n",
      "7 2 AB\n",
      "7 1 A\n",
      "####################################################################################################\n",
      "9 9 BBABABBAA\n",
      "9 8 BBABABBA\n",
      "9 7 BBABABB\n",
      "9 6 BBABAB\n",
      "9 5 BBABA\n",
      "9 4 BBAB\n",
      "9 3 BBA\n",
      "9 2 BB\n",
      "9 1 B\n",
      "####################################################################################################\n",
      "11 11 ABABBAABB\n",
      "11 10 ABABBAABB\n",
      "11 9 ABABBAABB\n",
      "11 8 ABABBAAB\n",
      "11 7 ABABBAA\n",
      "11 6 ABABBA\n",
      "11 5 ABABB\n",
      "11 4 ABAB\n",
      "11 3 ABA\n",
      "11 2 AB\n",
      "####################################################################################################\n",
      "14 14 BBAABB\n",
      "14 13 BBAABB\n",
      "14 12 BBAABB\n",
      "14 11 BBAABB\n",
      "14 10 BBAABB\n",
      "14 9 BBAABB\n",
      "14 8 BBAABB\n",
      "14 7 BBAABB\n",
      "14 6 BBAABB\n",
      "14 5 BBAAB\n",
      "14 4 BBAA\n",
      "14 3 BBA\n",
      "####################################################################################################\n",
      "18 18 BB\n",
      "末尾余り\n",
      "####################################################################################################\n",
      "[(0, 0, 'A'), (0, 1, 'A'), (0, 3, 'A'), (0, 1, 'B'), (8, 1, 'B'), (7, 2, 'A'), (9, 3, 'A')]\n",
      "1 2 4 2 2 3 4 \n"
     ]
    }
   ],
   "source": [
    "# symbol_series = \"AAAAAAAAAAAABBAAAABA\"\n",
    "# symbol_series = \"ABAAABAAABABBBABABAB\"\n",
    "# symbol_series = \"ABAAABBAAAABBABABAAA\"\n",
    "symbol_series = \"AAAAAAAABBBABABBAABB\"\n",
    "\n",
    "codes = []\n",
    "known_patterns = {}\n",
    "\n",
    "i = 0\n",
    "while i < len(symbol_series):\n",
    "    for j in range(i):\n",
    "        for l in range(1, i - j + 1):\n",
    "            pattern = symbol_series[j:j+l]\n",
    "            if pattern not in known_patterns:\n",
    "                known_patterns[pattern] = (j, l)\n",
    "#                 print(i, j, l, pattern)\n",
    "    for j in range(i, 0, -1):\n",
    "        pattern = symbol_series[i:i + j]\n",
    "        print(i, j, pattern)\n",
    "        if pattern in known_patterns:\n",
    "            if i + j >= len(symbol_series):\n",
    "                print(\"末尾余り\")\n",
    "                i = float(\"inf\")\n",
    "            else:\n",
    "                codes.append(known_patterns[pattern] + (symbol_series[i+j],))\n",
    "                i += j + 1\n",
    "            break\n",
    "    else:\n",
    "        codes.append((0, 0, symbol_series[i]))\n",
    "        i += 1\n",
    "    print(\"#\" * 100)\n",
    "    \n",
    "# print(known_patterns)\n",
    "print(codes)\n",
    "\n",
    "for i in codes:\n",
    "    print(i[1] + 1, end=\" \")\n",
    "print()"
   ]
  },
  {
   "cell_type": "markdown",
   "id": "836f7756",
   "metadata": {},
   "source": [
    "### 実用的なZL"
   ]
  },
  {
   "cell_type": "code",
   "execution_count": 138,
   "id": "96493d98",
   "metadata": {},
   "outputs": [
    {
     "name": "stdout",
     "output_type": "stream",
     "text": [
      "AAAAAAAA|AAABA\n",
      "ABAAABB\n",
      "7 8 AAABA\n",
      "7 8 AAAB\n",
      "7 8 AAA\n",
      "####################################################################################################\n",
      "AAAAAAAB|AABAA\n",
      "ABB\n",
      "7 8 AABAA\n",
      "7 8 AABA\n",
      "7 8 AAB\n",
      "####################################################################################################\n",
      "AAABAABA|AABB\n",
      "\n",
      "7 8 AABB\n",
      "7 8 AAB\n",
      "####################################################################################################\n",
      "[(0, 3, 'B'), (5, 3, 'A'), (1, 3, 'B')]\n",
      "000111 101110 001111 \n"
     ]
    }
   ],
   "source": [
    "offset_bit = 3\n",
    "length_bit = 2\n",
    "\n",
    "symbol_series = \"AAABAABAAABB\"\n",
    "\n",
    "offset = 1 << offset_bit\n",
    "length = 1 << length_bit\n",
    "\n",
    "buffer = \"A\" * offset + symbol_series[:length + 1]\n",
    "\n",
    "symbol_remain = symbol_series[length + 1:]\n",
    "\n",
    "codes = []\n",
    "while len(buffer) > offset:\n",
    "    print(buffer[:offset] + \"|\" + buffer[offset:])\n",
    "    print(symbol_remain)\n",
    "    \n",
    "    known_patterns = {}\n",
    "    for i in range(offset):\n",
    "        for j in range(i + 1, offset + 1):\n",
    "            pattern = buffer[i:j]\n",
    "            if pattern not in known_patterns:\n",
    "                known_patterns[pattern] = (i, j - i)\n",
    "#     print(known_patterns)\n",
    "    for l in range(len(buffer) - offset, 0, -1):\n",
    "        pattern = buffer[offset:offset+l]\n",
    "        print(i, j, pattern)\n",
    "        if pattern in known_patterns:\n",
    "            codes.append(known_patterns[pattern] + (buffer[offset+l],))\n",
    "            buffer = buffer[l+1:] + symbol_remain[:l+1]\n",
    "            symbol_remain = symbol_remain[l+1:]\n",
    "            break\n",
    "    else:\n",
    "        codes.append((0, 0, buffer[offset]))\n",
    "        buffer = buffer[1:] + symbol_remain[:1]\n",
    "        symbol_remain = symbol_remain[1:]\n",
    "    print(\"#\" * 100)\n",
    "print(codes)\n",
    "\n",
    "for i in codes:\n",
    "    print(format(i[0], \"0%db\" % offset_bit) + format(i[1], \"0%db\" % length_bit) + str((i[2] == \"B\") * 1), end=\" \")\n",
    "print()"
   ]
  },
  {
   "cell_type": "markdown",
   "id": "837537ea",
   "metadata": {},
   "source": [
    "### 実用的なZL (復号)"
   ]
  },
  {
   "cell_type": "code",
   "execution_count": 167,
   "id": "aa41f900",
   "metadata": {},
   "outputs": [
    {
     "name": "stdout",
     "output_type": "stream",
     "text": [
      "(0, 1, 'B')\n",
      "AAAAAAAAAAAAAAAA|\n",
      "(12, 4, 'A')\n",
      "AAAAAAAAAAAAAAAB|\n",
      "(9, 3, 'B')\n",
      "AAAAAAAAAABAAABA|\n",
      "(0, 3, 'A')\n",
      "AAAAAABAAABAABAB|\n",
      "AABAAABAABABAAAA|\n",
      "\n",
      "ABAAABAABABAAAA\n"
     ]
    }
   ],
   "source": [
    "offset_bit = 4\n",
    "length_bit = 3\n",
    "\n",
    "codes = \"00000011 11001000 10010111 00000110\"\n",
    "codes = codes.split(\" \")\n",
    "codes = [(int(i[:offset_bit], 2), int(i[offset_bit:offset_bit+length_bit], 2), chr(ord(\"A\") + int(i[-1]))) for i in codes]\n",
    "codes\n",
    "\n",
    "offset = 1 << offset_bit\n",
    "length = 1 << length_bit\n",
    "\n",
    "buffer = \"A\" * offset\n",
    "symbol_series = \"\"\n",
    "\n",
    "for i in codes:\n",
    "    print(i)\n",
    "    print(buffer[:offset] + \"|\" + buffer[offset:])\n",
    "    pattern = buffer[i[0]:i[0]+i[1]] + i[2]\n",
    "    symbol_series += pattern\n",
    "    buffer = (buffer + pattern)[i[1]+1:]\n",
    "\n",
    "print(buffer[:offset] + \"|\" + buffer[offset:] + \"\\n\")\n",
    "print(symbol_series)"
   ]
  },
  {
   "cell_type": "code",
   "execution_count": 148,
   "id": "aa18bff1",
   "metadata": {},
   "outputs": [
    {
     "data": {
      "text/plain": [
       "'B'"
      ]
     },
     "execution_count": 148,
     "metadata": {},
     "output_type": "execute_result"
    }
   ],
   "source": [
    "chr(ord(\"A\") + 1)"
   ]
  },
  {
   "cell_type": "code",
   "execution_count": null,
   "id": "64c392ff",
   "metadata": {},
   "outputs": [],
   "source": []
  }
 ],
 "metadata": {
  "kernelspec": {
   "display_name": "Python 3 (ipykernel)",
   "language": "python",
   "name": "python3"
  },
  "language_info": {
   "codemirror_mode": {
    "name": "ipython",
    "version": 3
   },
   "file_extension": ".py",
   "mimetype": "text/x-python",
   "name": "python",
   "nbconvert_exporter": "python",
   "pygments_lexer": "ipython3",
   "version": "3.10.4"
  }
 },
 "nbformat": 4,
 "nbformat_minor": 5
}
