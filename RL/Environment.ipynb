{
 "cells": [
  {
   "cell_type": "markdown",
   "id": "a2cb9689",
   "metadata": {},
   "source": [
    "# [引用](https://github.com/Tatsuki-Oike/reinforcement/blob/master/02.%E3%83%9E%E3%83%AB%E3%82%B3%E3%83%95%E6%B1%BA%E5%AE%9A%E9%81%8E%E7%A8%8B%E3%81%A8%E3%83%99%E3%83%AB%E3%83%9E%E3%83%B3%E6%96%B9%E7%A8%8B%E5%BC%8F.ipynb)"
   ]
  },
  {
   "cell_type": "markdown",
   "id": "5ece1ba1",
   "metadata": {},
   "source": [
    "# 環境とエージェント"
   ]
  },
  {
   "cell_type": "code",
   "execution_count": 1,
   "id": "26a1572e",
   "metadata": {},
   "outputs": [],
   "source": [
    "import numpy as np\n",
    "import matplotlib.pyplot as plt"
   ]
  },
  {
   "cell_type": "code",
   "execution_count": 6,
   "id": "6defff5d",
   "metadata": {},
   "outputs": [],
   "source": [
    "class Environment():\n",
    "    \n",
    "    def __init__(self, size=3, lucky=[]):\n",
    "        self.size = size\n",
    "        self.lucky = lucky\n",
    "        self.goal = (size - 1, size - 1)\n",
    "        self.states = [(x, y) for x in range(size) for y in range(size)]\n",
    "    \n",
    "    def next_state(self, s, a):\n",
    "        s_next = (s[0] + a[0], s[1] + a[1])\n",
    "        \n",
    "        if s == self.goal:\n",
    "            return s\n",
    "        \n",
    "        if s_next not in self.states:\n",
    "            return s\n",
    "        \n",
    "        if s_next in self.lucky:\n",
    "            if np.random.random() < 0.8:\n",
    "                return self.goal\n",
    "            else:\n",
    "                return self.next\n",
    "        \n",
    "    def reward(self, s, s_next):\n",
    "        if s == self.goal:\n",
    "            return 0\n",
    "        if s_next == self.goal:\n",
    "            return 1\n",
    "        return 0"
   ]
  },
  {
   "cell_type": "code",
   "execution_count": 8,
   "id": "28dafb0e",
   "metadata": {},
   "outputs": [],
   "source": [
    "class Agent:\n",
    "    def __init__(self, environment, policy=[0, 0, 1/2, 1/2]):\n",
    "        self.actions = [(-1, 0), (0, -1), (1, 0), (0, 1)]\n",
    "        self.environment = environment\n",
    "    \n",
    "    def action(self, s, a):\n",
    "        s_next = self.environment.next_state(s, a)\n",
    "        r = self.environment.reward(s, s_next)\n",
    "        \n",
    "        return r, s_next"
   ]
  },
  {
   "cell_type": "markdown",
   "id": "d96050de",
   "metadata": {},
   "source": [
    "# エピソードの取得"
   ]
  },
  {
   "cell_type": "code",
   "execution_count": 46,
   "id": "53a48641",
   "metadata": {},
   "outputs": [],
   "source": [
    "def get_episode(agent, gamma=0.9):\n",
    "    print(\"s, a, s_next, r\")\n",
    "    s = (0, 0)\n",
    "    \n",
    "    episode = []\n",
    "    r_sum = 0\n",
    "    num = 0\n",
    "    \n",
    "    while True:\n",
    "        a = agent.actions[np.random.randint(0, 4)]\n",
    "        print(s, a, r_sum)\n",
    "        r, s_next = agent.action(s, a)\n",
    "        episode.append((s, a, s_next, r))\n",
    "        \n",
    "        r_sum += np.power(gamma, num) * r\n",
    "        s = s_next\n",
    "        num += 1\n",
    "        \n",
    "        if s == agent.environment.goal:\n",
    "            break\n",
    "    \n",
    "    return episode, r_sum"
   ]
  },
  {
   "cell_type": "markdown",
   "id": "7bafc535",
   "metadata": {},
   "source": [
    "# 可視化用関数"
   ]
  },
  {
   "cell_type": "code",
   "execution_count": 47,
   "id": "20c705f9",
   "metadata": {},
   "outputs": [],
   "source": [
    "def show_maze(environment):\n",
    "    size = environment.size\n",
    "    fig = plt.figure(figsize=(3, 3))\n",
    "    lower_value = -0.5\n",
    "    upper_value = size - 0.5\n",
    "    \n",
    "    plt.plot([lower_value, lower_value], [lower_value, upper_value], color=\"k\")\n",
    "    plt.plot([lower_value, upper_value], [upper_value, upper_value], color=\"k\")\n",
    "    plt.plot([upper_value, upper_value], [upper_value, lower_value], color=\"k\")\n",
    "    plt.plot([upper_value, lower_value], [lower_value, lower_value], color=\"k\")\n",
    "    \n",
    "    for i in range(size):\n",
    "        for j in range(size):\n",
    "            plt.text(i, j, f\"{i + size * j}\", size=20, ha=\"center\", va=\"center\")\n",
    "            if (i, j) in environment.lucky:\n",
    "                x = np.array([i - 0.5, i - 0.5, i + 0.5, i + 0.5])\n",
    "                y = np.array([j - 0.5, j + 0.5, j + 0.5, j - 0.5])\n",
    "                plt.fill(x, y, color=\"lightgreen\")\n",
    "    \n",
    "    plt.axis(\"off\")"
   ]
  },
  {
   "cell_type": "markdown",
   "id": "fc7a39c9",
   "metadata": {},
   "source": [
    "# シミュレーション"
   ]
  },
  {
   "cell_type": "code",
   "execution_count": 48,
   "id": "108f00ff",
   "metadata": {},
   "outputs": [
    {
     "data": {
      "image/png": "[encoded data removed]",
      "text/plain": [
       "<Figure size 216x216 with 1 Axes>"
      ]
     },
     "metadata": {
      "needs_background": "light"
     },
     "output_type": "display_data"
    }
   ],
   "source": [
    "env1 = Environment(lucky=[(1, 2)])\n",
    "agent1 = Agent(env1)\n",
    "show_maze(env1)"
   ]
  },
  {
   "cell_type": "code",
   "execution_count": 49,
   "id": "39e43b85",
   "metadata": {},
   "outputs": [
    {
     "name": "stdout",
     "output_type": "stream",
     "text": [
      "s, a, s_next, r\n",
      "(0, 0) (0, -1) 0\n",
      "(0, 0) (-1, 0) 0.0\n",
      "(0, 0) (-1, 0) 0.0\n",
      "(0, 0) (0, -1) 0.0\n",
      "(0, 0) (0, 1) 0.0\n",
      "None (1, 0) 0.0\n"
     ]
    },
    {
     "ename": "TypeError",
     "evalue": "'NoneType' object is not subscriptable",
     "output_type": "error",
     "traceback": [
      "\u001b[1;31m---------------------------------------------------------------------------\u001b[0m",
      "\u001b[1;31mTypeError\u001b[0m                                 Traceback (most recent call last)",
      "Input \u001b[1;32mIn [49]\u001b[0m, in \u001b[0;36m<cell line: 1>\u001b[1;34m()\u001b[0m\n\u001b[1;32m----> 1\u001b[0m \u001b[43mget_episode\u001b[49m\u001b[43m(\u001b[49m\u001b[43magent1\u001b[49m\u001b[43m)\u001b[49m\n",
      "Input \u001b[1;32mIn [46]\u001b[0m, in \u001b[0;36mget_episode\u001b[1;34m(agent, gamma)\u001b[0m\n\u001b[0;32m     10\u001b[0m a \u001b[38;5;241m=\u001b[39m agent\u001b[38;5;241m.\u001b[39mactions[np\u001b[38;5;241m.\u001b[39mrandom\u001b[38;5;241m.\u001b[39mrandint(\u001b[38;5;241m0\u001b[39m, \u001b[38;5;241m4\u001b[39m)]\n\u001b[0;32m     11\u001b[0m \u001b[38;5;28mprint\u001b[39m(s, a, r_sum)\n\u001b[1;32m---> 12\u001b[0m r, s_next \u001b[38;5;241m=\u001b[39m \u001b[43magent\u001b[49m\u001b[38;5;241;43m.\u001b[39;49m\u001b[43maction\u001b[49m\u001b[43m(\u001b[49m\u001b[43ms\u001b[49m\u001b[43m,\u001b[49m\u001b[43m \u001b[49m\u001b[43ma\u001b[49m\u001b[43m)\u001b[49m\n\u001b[0;32m     13\u001b[0m episode\u001b[38;5;241m.\u001b[39mappend((s, a, s_next, r))\n\u001b[0;32m     15\u001b[0m r_sum \u001b[38;5;241m+\u001b[39m\u001b[38;5;241m=\u001b[39m np\u001b[38;5;241m.\u001b[39mpower(gamma, num) \u001b[38;5;241m*\u001b[39m r\n",
      "Input \u001b[1;32mIn [8]\u001b[0m, in \u001b[0;36mAgent.action\u001b[1;34m(self, s, a)\u001b[0m\n\u001b[0;32m      6\u001b[0m \u001b[38;5;28;01mdef\u001b[39;00m \u001b[38;5;21maction\u001b[39m(\u001b[38;5;28mself\u001b[39m, s, a):\n\u001b[1;32m----> 7\u001b[0m     s_next \u001b[38;5;241m=\u001b[39m \u001b[38;5;28;43mself\u001b[39;49m\u001b[38;5;241;43m.\u001b[39;49m\u001b[43menvironment\u001b[49m\u001b[38;5;241;43m.\u001b[39;49m\u001b[43mnext_state\u001b[49m\u001b[43m(\u001b[49m\u001b[43ms\u001b[49m\u001b[43m,\u001b[49m\u001b[43m \u001b[49m\u001b[43ma\u001b[49m\u001b[43m)\u001b[49m\n\u001b[0;32m      8\u001b[0m     r \u001b[38;5;241m=\u001b[39m \u001b[38;5;28mself\u001b[39m\u001b[38;5;241m.\u001b[39menvironment\u001b[38;5;241m.\u001b[39mreward(s, s_next)\n\u001b[0;32m     10\u001b[0m     \u001b[38;5;28;01mreturn\u001b[39;00m r, s_next\n",
      "Input \u001b[1;32mIn [6]\u001b[0m, in \u001b[0;36mEnvironment.next_state\u001b[1;34m(self, s, a)\u001b[0m\n\u001b[0;32m      9\u001b[0m \u001b[38;5;28;01mdef\u001b[39;00m \u001b[38;5;21mnext_state\u001b[39m(\u001b[38;5;28mself\u001b[39m, s, a):\n\u001b[1;32m---> 10\u001b[0m     s_next \u001b[38;5;241m=\u001b[39m (\u001b[43ms\u001b[49m\u001b[43m[\u001b[49m\u001b[38;5;241;43m0\u001b[39;49m\u001b[43m]\u001b[49m \u001b[38;5;241m+\u001b[39m a[\u001b[38;5;241m0\u001b[39m], s[\u001b[38;5;241m1\u001b[39m] \u001b[38;5;241m+\u001b[39m a[\u001b[38;5;241m1\u001b[39m])\n\u001b[0;32m     12\u001b[0m     \u001b[38;5;28;01mif\u001b[39;00m s \u001b[38;5;241m==\u001b[39m \u001b[38;5;28mself\u001b[39m\u001b[38;5;241m.\u001b[39mgoal:\n\u001b[0;32m     13\u001b[0m         \u001b[38;5;28;01mreturn\u001b[39;00m s\n",
      "\u001b[1;31mTypeError\u001b[0m: 'NoneType' object is not subscriptable"
     ]
    }
   ],
   "source": [
    "get_episode(agent1)"
   ]
  },
  {
   "cell_type": "code",
   "execution_count": null,
   "id": "35c98c5e",
   "metadata": {},
   "outputs": [],
   "source": []
  },
  {
   "cell_type": "code",
   "execution_count": null,
   "id": "b0e11650",
   "metadata": {},
   "outputs": [],
   "source": []
  }
 ],
 "metadata": {
  "kernelspec": {
   "display_name": "Python 3 (ipykernel)",
   "language": "python",
   "name": "python3"
  },
  "language_info": {
   "codemirror_mode": {
    "name": "ipython",
    "version": 3
   },
   "file_extension": ".py",
   "mimetype": "text/x-python",
   "name": "python",
   "nbconvert_exporter": "python",
   "pygments_lexer": "ipython3",
   "version": "3.10.4"
  }
 },
 "nbformat": 4,
 "nbformat_minor": 5
}
