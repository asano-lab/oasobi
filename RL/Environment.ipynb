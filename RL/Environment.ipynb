{
 "cells": [
  {
   "cell_type": "markdown",
   "id": "dd91e596",
   "metadata": {},
   "source": [
    "# [引用](https://github.com/Tatsuki-Oike/reinforcement/blob/master/02.%E3%83%9E%E3%83%AB%E3%82%B3%E3%83%95%E6%B1%BA%E5%AE%9A%E9%81%8E%E7%A8%8B%E3%81%A8%E3%83%99%E3%83%AB%E3%83%9E%E3%83%B3%E6%96%B9%E7%A8%8B%E5%BC%8F.ipynb)"
   ]
  },
  {
   "cell_type": "markdown",
   "id": "5654cfc6",
   "metadata": {},
   "source": [
    "# 環境とエージェント"
   ]
  },
  {
   "cell_type": "code",
   "execution_count": 64,
   "id": "42964425",
   "metadata": {},
   "outputs": [],
   "source": [
    "import numpy as np\n",
    "import matplotlib.pyplot as plt\n",
    "np.random.seed(1)"
   ]
  },
  {
   "cell_type": "code",
   "execution_count": 65,
   "id": "94332e61",
   "metadata": {},
   "outputs": [],
   "source": [
    "class Environment():\n",
    "    \n",
    "    def __init__(self, size=3, lucky=[]):\n",
    "        self.size = size\n",
    "        self.lucky = lucky\n",
    "        self.goal = (size - 1, size - 1)\n",
    "        self.states = [(x, y) for x in range(size) for y in range(size)]\n",
    "    \n",
    "    def next_state(self, s, a):\n",
    "        s_next = (s[0] + a[0], s[1] + a[1])\n",
    "        \n",
    "        if s == self.goal:\n",
    "            return s\n",
    "        \n",
    "        if s_next not in self.states:\n",
    "            return s\n",
    "        \n",
    "        if s_next in self.lucky:\n",
    "            if np.random.random() < 0.8:\n",
    "                return self.goal\n",
    "            else:\n",
    "                return self.s_next\n",
    "        \n",
    "        return s_next\n",
    "        \n",
    "    def reward(self, s, s_next):\n",
    "        if s == self.goal:\n",
    "            return 0\n",
    "        if s_next == self.goal:\n",
    "            return 1\n",
    "        return 0"
   ]
  },
  {
   "cell_type": "code",
   "execution_count": 66,
   "id": "1e655ec4",
   "metadata": {},
   "outputs": [],
   "source": [
    "class Agent:\n",
    "    def __init__(self, environment, policy=[0, 0, 1/2, 1/2]):\n",
    "        self.actions = [(-1, 0), (0, -1), (1, 0), (0, 1)]\n",
    "        self.environment = environment\n",
    "    \n",
    "    def action(self, s, a):\n",
    "        s_next = self.environment.next_state(s, a)\n",
    "        r = self.environment.reward(s, s_next)\n",
    "        \n",
    "        return r, s_next"
   ]
  },
  {
   "cell_type": "markdown",
   "id": "fddbe58b",
   "metadata": {},
   "source": [
    "# エピソードの取得"
   ]
  },
  {
   "cell_type": "code",
   "execution_count": 67,
   "id": "79ecbc63",
   "metadata": {},
   "outputs": [],
   "source": [
    "def get_episode(agent, gamma=0.9):\n",
    "    print(\"s, a, s_next, r\")\n",
    "    s = (0, 0)\n",
    "    \n",
    "    episode = []\n",
    "    r_sum = 0\n",
    "    num = 0\n",
    "    \n",
    "    while True:\n",
    "        a = agent.actions[np.random.randint(0, 4)]\n",
    "#         print(s, a, r_sum)\n",
    "        r, s_next = agent.action(s, a)\n",
    "        episode.append((s, a, s_next, r))\n",
    "        \n",
    "        r_sum += np.power(gamma, num) * r\n",
    "        s = s_next\n",
    "        num += 1\n",
    "        \n",
    "        if s == agent.environment.goal:\n",
    "            break\n",
    "    \n",
    "    return episode, r_sum"
   ]
  },
  {
   "cell_type": "markdown",
   "id": "c04000fe",
   "metadata": {},
   "source": [
    "# 可視化用関数"
   ]
  },
  {
   "cell_type": "code",
   "execution_count": 68,
   "id": "395ec68a",
   "metadata": {},
   "outputs": [],
   "source": [
    "def show_maze(environment):\n",
    "    size = environment.size\n",
    "    fig = plt.figure(figsize=(3, 3))\n",
    "    lower_value = -0.5\n",
    "    upper_value = size - 0.5\n",
    "    \n",
    "    plt.plot([lower_value, lower_value], [lower_value, upper_value], color=\"k\")\n",
    "    plt.plot([lower_value, upper_value], [upper_value, upper_value], color=\"k\")\n",
    "    plt.plot([upper_value, upper_value], [upper_value, lower_value], color=\"k\")\n",
    "    plt.plot([upper_value, lower_value], [lower_value, lower_value], color=\"k\")\n",
    "    \n",
    "    for i in range(size):\n",
    "        for j in range(size):\n",
    "            plt.text(i, j, f\"{i + size * j}\", size=20, ha=\"center\", va=\"center\")\n",
    "            if (i, j) in environment.lucky:\n",
    "                x = np.array([i - 0.5, i - 0.5, i + 0.5, i + 0.5])\n",
    "                y = np.array([j - 0.5, j + 0.5, j + 0.5, j - 0.5])\n",
    "                plt.fill(x, y, color=\"lightgreen\")\n",
    "    \n",
    "    plt.axis(\"off\")"
   ]
  },
  {
   "cell_type": "markdown",
   "id": "8a50fc79",
   "metadata": {},
   "source": [
    "# シミュレーション"
   ]
  },
  {
   "cell_type": "code",
   "execution_count": 69,
   "id": "420ae701",
   "metadata": {},
   "outputs": [
    {
     "data": {
      "image/png": "[encoded data removed]",
      "text/plain": [
       "<Figure size 216x216 with 1 Axes>"
      ]
     },
     "metadata": {
      "needs_background": "light"
     },
     "output_type": "display_data"
    }
   ],
   "source": [
    "env1 = Environment(lucky=[(1, 2)])\n",
    "agent1 = Agent(env1)\n",
    "show_maze(env1)"
   ]
  },
  {
   "cell_type": "code",
   "execution_count": 70,
   "id": "7e0b2e75",
   "metadata": {},
   "outputs": [
    {
     "name": "stdout",
     "output_type": "stream",
     "text": [
      "s, a, s_next, r\n"
     ]
    },
    {
     "data": {
      "text/plain": [
       "([((0, 0), (0, -1), (0, 0), 0),\n",
       "  ((0, 0), (0, 1), (0, 1), 0),\n",
       "  ((0, 1), (-1, 0), (0, 1), 0),\n",
       "  ((0, 1), (-1, 0), (0, 1), 0),\n",
       "  ((0, 1), (0, 1), (0, 2), 0),\n",
       "  ((0, 2), (0, -1), (0, 1), 0),\n",
       "  ((0, 1), (0, 1), (0, 2), 0),\n",
       "  ((0, 2), (0, -1), (0, 1), 0),\n",
       "  ((0, 1), (0, 1), (0, 2), 0),\n",
       "  ((0, 2), (-1, 0), (0, 2), 0),\n",
       "  ((0, 2), (-1, 0), (0, 2), 0),\n",
       "  ((0, 2), (0, -1), (0, 1), 0),\n",
       "  ((0, 1), (-1, 0), (0, 1), 0),\n",
       "  ((0, 1), (0, 1), (0, 2), 0),\n",
       "  ((0, 2), (0, -1), (0, 1), 0),\n",
       "  ((0, 1), (-1, 0), (0, 1), 0),\n",
       "  ((0, 1), (1, 0), (1, 1), 0),\n",
       "  ((1, 1), (0, -1), (1, 0), 0),\n",
       "  ((1, 0), (1, 0), (2, 0), 0),\n",
       "  ((2, 0), (-1, 0), (1, 0), 0),\n",
       "  ((1, 0), (1, 0), (2, 0), 0),\n",
       "  ((2, 0), (0, -1), (2, 0), 0),\n",
       "  ((2, 0), (1, 0), (2, 0), 0),\n",
       "  ((2, 0), (-1, 0), (1, 0), 0),\n",
       "  ((1, 0), (0, 1), (1, 1), 0),\n",
       "  ((1, 1), (-1, 0), (0, 1), 0),\n",
       "  ((0, 1), (1, 0), (1, 1), 0),\n",
       "  ((1, 1), (-1, 0), (0, 1), 0),\n",
       "  ((0, 1), (0, -1), (0, 0), 0),\n",
       "  ((0, 0), (1, 0), (1, 0), 0),\n",
       "  ((1, 0), (1, 0), (2, 0), 0),\n",
       "  ((2, 0), (-1, 0), (1, 0), 0),\n",
       "  ((1, 0), (0, 1), (1, 1), 0),\n",
       "  ((1, 1), (0, 1), (2, 2), 1)],\n",
       " 0.030903154382632636)"
      ]
     },
     "execution_count": 70,
     "metadata": {},
     "output_type": "execute_result"
    }
   ],
   "source": [
    "get_episode(agent1)"
   ]
  },
  {
   "cell_type": "code",
   "execution_count": 72,
   "id": "c09bb313",
   "metadata": {},
   "outputs": [
    {
     "data": {
      "image/png": "[encoded data removed]",
      "text/plain": [
       "<Figure size 216x216 with 1 Axes>"
      ]
     },
     "metadata": {
      "needs_background": "light"
     },
     "output_type": "display_data"
    }
   ],
   "source": [
    "env2 = Environment(size=4, lucky=[(1, 2), (2, 3)])\n",
    "agent2 = Agent(env2)\n",
    "show_maze(env2)"
   ]
  },
  {
   "cell_type": "code",
   "execution_count": 73,
   "id": "1b181812",
   "metadata": {},
   "outputs": [
    {
     "name": "stdout",
     "output_type": "stream",
     "text": [
      "s, a, s_next, r\n"
     ]
    },
    {
     "data": {
      "text/plain": [
       "([((0, 0), (0, 1), (0, 1), 0),\n",
       "  ((0, 1), (1, 0), (1, 1), 0),\n",
       "  ((1, 1), (-1, 0), (0, 1), 0),\n",
       "  ((0, 1), (1, 0), (1, 1), 0),\n",
       "  ((1, 1), (0, -1), (1, 0), 0),\n",
       "  ((1, 0), (0, -1), (1, 0), 0),\n",
       "  ((1, 0), (0, -1), (1, 0), 0),\n",
       "  ((1, 0), (0, 1), (1, 1), 0),\n",
       "  ((1, 1), (0, 1), (3, 3), 1)],\n",
       " 0.4304672100000001)"
      ]
     },
     "execution_count": 73,
     "metadata": {},
     "output_type": "execute_result"
    }
   ],
   "source": [
    "get_episode(agent2)"
   ]
  },
  {
   "cell_type": "code",
   "execution_count": null,
   "id": "71bb5e32",
   "metadata": {},
   "outputs": [],
   "source": []
  }
 ],
 "metadata": {
  "kernelspec": {
   "display_name": "Python 3 (ipykernel)",
   "language": "python",
   "name": "python3"
  },
  "language_info": {
   "codemirror_mode": {
    "name": "ipython",
    "version": 3
   },
   "file_extension": ".py",
   "mimetype": "text/x-python",
   "name": "python",
   "nbconvert_exporter": "python",
   "pygments_lexer": "ipython3",
   "version": "3.10.4"
  }
 },
 "nbformat": 4,
 "nbformat_minor": 5
}
