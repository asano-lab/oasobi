{
 "cells": [
  {
   "cell_type": "code",
   "execution_count": 34,
   "id": "35805885",
   "metadata": {},
   "outputs": [],
   "source": [
    "import folium\n",
    "import pandas as pd\n",
    "import numpy as np"
   ]
  },
  {
   "cell_type": "code",
   "execution_count": 35,
   "id": "b05b34a0",
   "metadata": {},
   "outputs": [],
   "source": [
    "with open(\"private/sample001.log\", \"r\") as f:\n",
    "    table = []\n",
    "    for i in f.readlines():\n",
    "        elements = i.split(\"|\")\n",
    "        if len(elements) == 1:\n",
    "            continue\n",
    "        table.append([j.strip(\" \") for j in elements if j not in \"\\n\"])"
   ]
  },
  {
   "cell_type": "code",
   "execution_count": 38,
   "id": "489496d6",
   "metadata": {},
   "outputs": [],
   "source": [
    "df = pd.DataFrame(table[1:], columns=table[0])\n",
    "df.to_csv(\"private/sample001.csv\", index=False)"
   ]
  },
  {
   "cell_type": "code",
   "execution_count": null,
   "id": "e4f174e6",
   "metadata": {},
   "outputs": [],
   "source": []
  }
 ],
 "metadata": {
  "kernelspec": {
   "display_name": "Python 3 (ipykernel)",
   "language": "python",
   "name": "python3"
  },
  "language_info": {
   "codemirror_mode": {
    "name": "ipython",
    "version": 3
   },
   "file_extension": ".py",
   "mimetype": "text/x-python",
   "name": "python",
   "nbconvert_exporter": "python",
   "pygments_lexer": "ipython3",
   "version": "3.9.6"
  }
 },
 "nbformat": 4,
 "nbformat_minor": 5
}
