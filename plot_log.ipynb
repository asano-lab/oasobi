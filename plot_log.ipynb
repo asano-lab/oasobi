{
 "cells": [
  {
   "cell_type": "code",
   "execution_count": 34,
   "id": "56720008",
   "metadata": {},
   "outputs": [],
   "source": [
    "import folium\n",
    "import pandas as pd\n",
    "import numpy as np"
   ]
  },
  {
   "cell_type": "code",
   "execution_count": 35,
   "id": "5edac999",
   "metadata": {},
   "outputs": [],
   "source": [
    "with open(\"private/sample001.log\", \"r\") as f:\n",
    "    table = []\n",
    "    for i in f.readlines():\n",
    "        elements = i.split(\"|\")\n",
    "        if len(elements) == 1:\n",
    "            continue\n",
    "        table.append([j.strip(\" \") for j in elements if j not in \"\\n\"])"
   ]
  },
  {
   "cell_type": "code",
   "execution_count": 38,
   "id": "1ac42542",
   "metadata": {},
   "outputs": [],
   "source": [
    "df = pd.DataFrame(table[1:], columns=table[0])\n",
    "df.to_csv(\"private/sample001.csv\", index=False)"
   ]
  },
  {
   "cell_type": "code",
   "execution_count": 51,
   "id": "a68f9b3c",
   "metadata": {},
   "outputs": [],
   "source": [
    "df = pd.read_csv(\"private/sample001.csv\")\n",
    "# df"
   ]
  },
  {
   "cell_type": "code",
   "execution_count": 53,
   "id": "47006bf6",
   "metadata": {},
   "outputs": [],
   "source": [
    "f = folium.Figure()\n",
    "\n",
    "center_lat = 36.63145\n",
    "center_lon = 138.1881\n",
    "\n",
    "m = folium.Map([center_lat, center_lon], zoom_start=15).add_to(f)\n",
    "for i in df.index:\n",
    "    folium.Marker(location=[df[\"lat\"][i], df[\"lon\"][i]]).add_to(m)\n",
    "# m"
   ]
  },
  {
   "cell_type": "code",
   "execution_count": null,
   "id": "bbe63433",
   "metadata": {},
   "outputs": [],
   "source": []
  }
 ],
 "metadata": {
  "kernelspec": {
   "display_name": "Python 3 (ipykernel)",
   "language": "python",
   "name": "python3"
  },
  "language_info": {
   "codemirror_mode": {
    "name": "ipython",
    "version": 3
   },
   "file_extension": ".py",
   "mimetype": "text/x-python",
   "name": "python",
   "nbconvert_exporter": "python",
   "pygments_lexer": "ipython3",
   "version": "3.9.6"
  }
 },
 "nbformat": 4,
 "nbformat_minor": 5
}
