{
 "cells": [
  {
   "cell_type": "markdown",
   "id": "c1e6a410",
   "metadata": {},
   "source": [
    "# (7, 4)ハミング符号のビット誤り率を知りたい"
   ]
  },
  {
   "cell_type": "code",
   "execution_count": 46,
   "id": "5515a618",
   "metadata": {},
   "outputs": [],
   "source": [
    "import numpy as np\n",
    "import pandas as pd\n",
    "from sympy import Symbol, Rational\n",
    "from scipy.special import comb"
   ]
  },
  {
   "cell_type": "code",
   "execution_count": 2,
   "id": "1e1afdd2",
   "metadata": {},
   "outputs": [],
   "source": [
    "def vec_to_str(vec: np.matrix):\n",
    "    return \"\".join([str(i) for i in vec.tolist()[0]])"
   ]
  },
  {
   "cell_type": "code",
   "execution_count": 3,
   "id": "c82ad43f",
   "metadata": {},
   "outputs": [],
   "source": [
    "G = np.matrix([\n",
    "    [1, 0, 0, 0, 1, 1, 1],\n",
    "    [0, 1, 0, 0, 0, 1, 1],\n",
    "    [0, 0, 1, 0, 1, 0, 1],\n",
    "    [0, 0, 0, 1, 1, 1, 0]\n",
    "], dtype=\"u1\")\n",
    "\n",
    "k, n = G.shape\n",
    "\n",
    "P = G[:, k:]\n",
    "H = np.concatenate([P.T, np.identity(n - k, dtype=\"u1\")], axis=1)"
   ]
  },
  {
   "cell_type": "code",
   "execution_count": 4,
   "id": "e7cc562e",
   "metadata": {},
   "outputs": [
    {
     "data": {
      "text/plain": [
       "matrix([[0, 1, 1, 1]], dtype=uint8)"
      ]
     },
     "execution_count": 4,
     "metadata": {},
     "output_type": "execute_result"
    }
   ],
   "source": [
    "N = 1\n",
    "u = np.random.randint(0, 2, (N, k), dtype=\"u1\")\n",
    "u = np.matrix(u)\n",
    "u"
   ]
  },
  {
   "cell_type": "code",
   "execution_count": 5,
   "id": "827ab1ce",
   "metadata": {},
   "outputs": [
    {
     "data": {
      "text/plain": [
       "matrix([[0, 1, 1, 1, 0, 0, 0]], dtype=uint8)"
      ]
     },
     "execution_count": 5,
     "metadata": {},
     "output_type": "execute_result"
    }
   ],
   "source": [
    "w = u * G & 1\n",
    "w"
   ]
  },
  {
   "cell_type": "code",
   "execution_count": 6,
   "id": "c8820ac5",
   "metadata": {},
   "outputs": [
    {
     "data": {
      "text/plain": [
       "matrix([[0, 0, 0, 0, 0, 0, 0],\n",
       "        [0, 0, 0, 0, 0, 0, 1],\n",
       "        [0, 0, 0, 0, 0, 1, 0],\n",
       "        [0, 0, 0, 0, 0, 1, 1],\n",
       "        [0, 0, 0, 0, 1, 0, 0],\n",
       "        [0, 0, 0, 0, 1, 0, 1],\n",
       "        [0, 0, 0, 0, 1, 1, 0],\n",
       "        [0, 0, 0, 0, 1, 1, 1],\n",
       "        [0, 0, 0, 1, 0, 0, 0],\n",
       "        [0, 0, 0, 1, 0, 0, 1],\n",
       "        [0, 0, 0, 1, 0, 1, 0],\n",
       "        [0, 0, 0, 1, 0, 1, 1],\n",
       "        [0, 0, 0, 1, 1, 0, 0],\n",
       "        [0, 0, 0, 1, 1, 0, 1],\n",
       "        [0, 0, 0, 1, 1, 1, 0],\n",
       "        [0, 0, 0, 1, 1, 1, 1],\n",
       "        [0, 0, 1, 0, 0, 0, 0],\n",
       "        [0, 0, 1, 0, 0, 0, 1],\n",
       "        [0, 0, 1, 0, 0, 1, 0],\n",
       "        [0, 0, 1, 0, 0, 1, 1],\n",
       "        [0, 0, 1, 0, 1, 0, 0],\n",
       "        [0, 0, 1, 0, 1, 0, 1],\n",
       "        [0, 0, 1, 0, 1, 1, 0],\n",
       "        [0, 0, 1, 0, 1, 1, 1],\n",
       "        [0, 0, 1, 1, 0, 0, 0],\n",
       "        [0, 0, 1, 1, 0, 0, 1],\n",
       "        [0, 0, 1, 1, 0, 1, 0],\n",
       "        [0, 0, 1, 1, 0, 1, 1],\n",
       "        [0, 0, 1, 1, 1, 0, 0],\n",
       "        [0, 0, 1, 1, 1, 0, 1],\n",
       "        [0, 0, 1, 1, 1, 1, 0],\n",
       "        [0, 0, 1, 1, 1, 1, 1],\n",
       "        [0, 1, 0, 0, 0, 0, 0],\n",
       "        [0, 1, 0, 0, 0, 0, 1],\n",
       "        [0, 1, 0, 0, 0, 1, 0],\n",
       "        [0, 1, 0, 0, 0, 1, 1],\n",
       "        [0, 1, 0, 0, 1, 0, 0],\n",
       "        [0, 1, 0, 0, 1, 0, 1],\n",
       "        [0, 1, 0, 0, 1, 1, 0],\n",
       "        [0, 1, 0, 0, 1, 1, 1],\n",
       "        [0, 1, 0, 1, 0, 0, 0],\n",
       "        [0, 1, 0, 1, 0, 0, 1],\n",
       "        [0, 1, 0, 1, 0, 1, 0],\n",
       "        [0, 1, 0, 1, 0, 1, 1],\n",
       "        [0, 1, 0, 1, 1, 0, 0],\n",
       "        [0, 1, 0, 1, 1, 0, 1],\n",
       "        [0, 1, 0, 1, 1, 1, 0],\n",
       "        [0, 1, 0, 1, 1, 1, 1],\n",
       "        [0, 1, 1, 0, 0, 0, 0],\n",
       "        [0, 1, 1, 0, 0, 0, 1],\n",
       "        [0, 1, 1, 0, 0, 1, 0],\n",
       "        [0, 1, 1, 0, 0, 1, 1],\n",
       "        [0, 1, 1, 0, 1, 0, 0],\n",
       "        [0, 1, 1, 0, 1, 0, 1],\n",
       "        [0, 1, 1, 0, 1, 1, 0],\n",
       "        [0, 1, 1, 0, 1, 1, 1],\n",
       "        [0, 1, 1, 1, 0, 0, 0],\n",
       "        [0, 1, 1, 1, 0, 0, 1],\n",
       "        [0, 1, 1, 1, 0, 1, 0],\n",
       "        [0, 1, 1, 1, 0, 1, 1],\n",
       "        [0, 1, 1, 1, 1, 0, 0],\n",
       "        [0, 1, 1, 1, 1, 0, 1],\n",
       "        [0, 1, 1, 1, 1, 1, 0],\n",
       "        [0, 1, 1, 1, 1, 1, 1],\n",
       "        [1, 0, 0, 0, 0, 0, 0],\n",
       "        [1, 0, 0, 0, 0, 0, 1],\n",
       "        [1, 0, 0, 0, 0, 1, 0],\n",
       "        [1, 0, 0, 0, 0, 1, 1],\n",
       "        [1, 0, 0, 0, 1, 0, 0],\n",
       "        [1, 0, 0, 0, 1, 0, 1],\n",
       "        [1, 0, 0, 0, 1, 1, 0],\n",
       "        [1, 0, 0, 0, 1, 1, 1],\n",
       "        [1, 0, 0, 1, 0, 0, 0],\n",
       "        [1, 0, 0, 1, 0, 0, 1],\n",
       "        [1, 0, 0, 1, 0, 1, 0],\n",
       "        [1, 0, 0, 1, 0, 1, 1],\n",
       "        [1, 0, 0, 1, 1, 0, 0],\n",
       "        [1, 0, 0, 1, 1, 0, 1],\n",
       "        [1, 0, 0, 1, 1, 1, 0],\n",
       "        [1, 0, 0, 1, 1, 1, 1],\n",
       "        [1, 0, 1, 0, 0, 0, 0],\n",
       "        [1, 0, 1, 0, 0, 0, 1],\n",
       "        [1, 0, 1, 0, 0, 1, 0],\n",
       "        [1, 0, 1, 0, 0, 1, 1],\n",
       "        [1, 0, 1, 0, 1, 0, 0],\n",
       "        [1, 0, 1, 0, 1, 0, 1],\n",
       "        [1, 0, 1, 0, 1, 1, 0],\n",
       "        [1, 0, 1, 0, 1, 1, 1],\n",
       "        [1, 0, 1, 1, 0, 0, 0],\n",
       "        [1, 0, 1, 1, 0, 0, 1],\n",
       "        [1, 0, 1, 1, 0, 1, 0],\n",
       "        [1, 0, 1, 1, 0, 1, 1],\n",
       "        [1, 0, 1, 1, 1, 0, 0],\n",
       "        [1, 0, 1, 1, 1, 0, 1],\n",
       "        [1, 0, 1, 1, 1, 1, 0],\n",
       "        [1, 0, 1, 1, 1, 1, 1],\n",
       "        [1, 1, 0, 0, 0, 0, 0],\n",
       "        [1, 1, 0, 0, 0, 0, 1],\n",
       "        [1, 1, 0, 0, 0, 1, 0],\n",
       "        [1, 1, 0, 0, 0, 1, 1],\n",
       "        [1, 1, 0, 0, 1, 0, 0],\n",
       "        [1, 1, 0, 0, 1, 0, 1],\n",
       "        [1, 1, 0, 0, 1, 1, 0],\n",
       "        [1, 1, 0, 0, 1, 1, 1],\n",
       "        [1, 1, 0, 1, 0, 0, 0],\n",
       "        [1, 1, 0, 1, 0, 0, 1],\n",
       "        [1, 1, 0, 1, 0, 1, 0],\n",
       "        [1, 1, 0, 1, 0, 1, 1],\n",
       "        [1, 1, 0, 1, 1, 0, 0],\n",
       "        [1, 1, 0, 1, 1, 0, 1],\n",
       "        [1, 1, 0, 1, 1, 1, 0],\n",
       "        [1, 1, 0, 1, 1, 1, 1],\n",
       "        [1, 1, 1, 0, 0, 0, 0],\n",
       "        [1, 1, 1, 0, 0, 0, 1],\n",
       "        [1, 1, 1, 0, 0, 1, 0],\n",
       "        [1, 1, 1, 0, 0, 1, 1],\n",
       "        [1, 1, 1, 0, 1, 0, 0],\n",
       "        [1, 1, 1, 0, 1, 0, 1],\n",
       "        [1, 1, 1, 0, 1, 1, 0],\n",
       "        [1, 1, 1, 0, 1, 1, 1],\n",
       "        [1, 1, 1, 1, 0, 0, 0],\n",
       "        [1, 1, 1, 1, 0, 0, 1],\n",
       "        [1, 1, 1, 1, 0, 1, 0],\n",
       "        [1, 1, 1, 1, 0, 1, 1],\n",
       "        [1, 1, 1, 1, 1, 0, 0],\n",
       "        [1, 1, 1, 1, 1, 0, 1],\n",
       "        [1, 1, 1, 1, 1, 1, 0],\n",
       "        [1, 1, 1, 1, 1, 1, 1]], dtype=uint8)"
      ]
     },
     "execution_count": 6,
     "metadata": {},
     "output_type": "execute_result"
    }
   ],
   "source": [
    "# 全誤りパターン (ただの7桁の全数値)\n",
    "all_errors_str = [format(i, f\"0{n}b\") for i in range(1 << n)]\n",
    "all_errors_matrix = np.matrix([[int(j) for j in i] for i in all_errors_str], dtype=\"u1\")\n",
    "all_errors_matrix"
   ]
  },
  {
   "cell_type": "code",
   "execution_count": 7,
   "id": "9de4185e",
   "metadata": {},
   "outputs": [
    {
     "data": {
      "text/plain": [
       "{0: matrix([[0, 0, 0, 0, 0, 0, 0]], dtype=uint8),\n",
       " 1: matrix([[0, 0, 0, 0, 0, 0, 1],\n",
       "         [0, 0, 0, 0, 0, 1, 0],\n",
       "         [0, 0, 0, 0, 1, 0, 0],\n",
       "         [0, 0, 0, 1, 0, 0, 0],\n",
       "         [0, 0, 1, 0, 0, 0, 0],\n",
       "         [0, 1, 0, 0, 0, 0, 0],\n",
       "         [1, 0, 0, 0, 0, 0, 0]], dtype=uint8),\n",
       " 2: matrix([[0, 0, 0, 0, 0, 1, 1],\n",
       "         [0, 0, 0, 0, 1, 0, 1],\n",
       "         [0, 0, 0, 0, 1, 1, 0],\n",
       "         [0, 0, 0, 1, 0, 0, 1],\n",
       "         [0, 0, 0, 1, 0, 1, 0],\n",
       "         [0, 0, 0, 1, 1, 0, 0],\n",
       "         [0, 0, 1, 0, 0, 0, 1],\n",
       "         [0, 0, 1, 0, 0, 1, 0],\n",
       "         [0, 0, 1, 0, 1, 0, 0],\n",
       "         [0, 0, 1, 1, 0, 0, 0],\n",
       "         [0, 1, 0, 0, 0, 0, 1],\n",
       "         [0, 1, 0, 0, 0, 1, 0],\n",
       "         [0, 1, 0, 0, 1, 0, 0],\n",
       "         [0, 1, 0, 1, 0, 0, 0],\n",
       "         [0, 1, 1, 0, 0, 0, 0],\n",
       "         [1, 0, 0, 0, 0, 0, 1],\n",
       "         [1, 0, 0, 0, 0, 1, 0],\n",
       "         [1, 0, 0, 0, 1, 0, 0],\n",
       "         [1, 0, 0, 1, 0, 0, 0],\n",
       "         [1, 0, 1, 0, 0, 0, 0],\n",
       "         [1, 1, 0, 0, 0, 0, 0]], dtype=uint8),\n",
       " 3: matrix([[0, 0, 0, 0, 1, 1, 1],\n",
       "         [0, 0, 0, 1, 0, 1, 1],\n",
       "         [0, 0, 0, 1, 1, 0, 1],\n",
       "         [0, 0, 0, 1, 1, 1, 0],\n",
       "         [0, 0, 1, 0, 0, 1, 1],\n",
       "         [0, 0, 1, 0, 1, 0, 1],\n",
       "         [0, 0, 1, 0, 1, 1, 0],\n",
       "         [0, 0, 1, 1, 0, 0, 1],\n",
       "         [0, 0, 1, 1, 0, 1, 0],\n",
       "         [0, 0, 1, 1, 1, 0, 0],\n",
       "         [0, 1, 0, 0, 0, 1, 1],\n",
       "         [0, 1, 0, 0, 1, 0, 1],\n",
       "         [0, 1, 0, 0, 1, 1, 0],\n",
       "         [0, 1, 0, 1, 0, 0, 1],\n",
       "         [0, 1, 0, 1, 0, 1, 0],\n",
       "         [0, 1, 0, 1, 1, 0, 0],\n",
       "         [0, 1, 1, 0, 0, 0, 1],\n",
       "         [0, 1, 1, 0, 0, 1, 0],\n",
       "         [0, 1, 1, 0, 1, 0, 0],\n",
       "         [0, 1, 1, 1, 0, 0, 0],\n",
       "         [1, 0, 0, 0, 0, 1, 1],\n",
       "         [1, 0, 0, 0, 1, 0, 1],\n",
       "         [1, 0, 0, 0, 1, 1, 0],\n",
       "         [1, 0, 0, 1, 0, 0, 1],\n",
       "         [1, 0, 0, 1, 0, 1, 0],\n",
       "         [1, 0, 0, 1, 1, 0, 0],\n",
       "         [1, 0, 1, 0, 0, 0, 1],\n",
       "         [1, 0, 1, 0, 0, 1, 0],\n",
       "         [1, 0, 1, 0, 1, 0, 0],\n",
       "         [1, 0, 1, 1, 0, 0, 0],\n",
       "         [1, 1, 0, 0, 0, 0, 1],\n",
       "         [1, 1, 0, 0, 0, 1, 0],\n",
       "         [1, 1, 0, 0, 1, 0, 0],\n",
       "         [1, 1, 0, 1, 0, 0, 0],\n",
       "         [1, 1, 1, 0, 0, 0, 0]], dtype=uint8),\n",
       " 4: matrix([[0, 0, 0, 1, 1, 1, 1],\n",
       "         [0, 0, 1, 0, 1, 1, 1],\n",
       "         [0, 0, 1, 1, 0, 1, 1],\n",
       "         [0, 0, 1, 1, 1, 0, 1],\n",
       "         [0, 0, 1, 1, 1, 1, 0],\n",
       "         [0, 1, 0, 0, 1, 1, 1],\n",
       "         [0, 1, 0, 1, 0, 1, 1],\n",
       "         [0, 1, 0, 1, 1, 0, 1],\n",
       "         [0, 1, 0, 1, 1, 1, 0],\n",
       "         [0, 1, 1, 0, 0, 1, 1],\n",
       "         [0, 1, 1, 0, 1, 0, 1],\n",
       "         [0, 1, 1, 0, 1, 1, 0],\n",
       "         [0, 1, 1, 1, 0, 0, 1],\n",
       "         [0, 1, 1, 1, 0, 1, 0],\n",
       "         [0, 1, 1, 1, 1, 0, 0],\n",
       "         [1, 0, 0, 0, 1, 1, 1],\n",
       "         [1, 0, 0, 1, 0, 1, 1],\n",
       "         [1, 0, 0, 1, 1, 0, 1],\n",
       "         [1, 0, 0, 1, 1, 1, 0],\n",
       "         [1, 0, 1, 0, 0, 1, 1],\n",
       "         [1, 0, 1, 0, 1, 0, 1],\n",
       "         [1, 0, 1, 0, 1, 1, 0],\n",
       "         [1, 0, 1, 1, 0, 0, 1],\n",
       "         [1, 0, 1, 1, 0, 1, 0],\n",
       "         [1, 0, 1, 1, 1, 0, 0],\n",
       "         [1, 1, 0, 0, 0, 1, 1],\n",
       "         [1, 1, 0, 0, 1, 0, 1],\n",
       "         [1, 1, 0, 0, 1, 1, 0],\n",
       "         [1, 1, 0, 1, 0, 0, 1],\n",
       "         [1, 1, 0, 1, 0, 1, 0],\n",
       "         [1, 1, 0, 1, 1, 0, 0],\n",
       "         [1, 1, 1, 0, 0, 0, 1],\n",
       "         [1, 1, 1, 0, 0, 1, 0],\n",
       "         [1, 1, 1, 0, 1, 0, 0],\n",
       "         [1, 1, 1, 1, 0, 0, 0]], dtype=uint8),\n",
       " 5: matrix([[0, 0, 1, 1, 1, 1, 1],\n",
       "         [0, 1, 0, 1, 1, 1, 1],\n",
       "         [0, 1, 1, 0, 1, 1, 1],\n",
       "         [0, 1, 1, 1, 0, 1, 1],\n",
       "         [0, 1, 1, 1, 1, 0, 1],\n",
       "         [0, 1, 1, 1, 1, 1, 0],\n",
       "         [1, 0, 0, 1, 1, 1, 1],\n",
       "         [1, 0, 1, 0, 1, 1, 1],\n",
       "         [1, 0, 1, 1, 0, 1, 1],\n",
       "         [1, 0, 1, 1, 1, 0, 1],\n",
       "         [1, 0, 1, 1, 1, 1, 0],\n",
       "         [1, 1, 0, 0, 1, 1, 1],\n",
       "         [1, 1, 0, 1, 0, 1, 1],\n",
       "         [1, 1, 0, 1, 1, 0, 1],\n",
       "         [1, 1, 0, 1, 1, 1, 0],\n",
       "         [1, 1, 1, 0, 0, 1, 1],\n",
       "         [1, 1, 1, 0, 1, 0, 1],\n",
       "         [1, 1, 1, 0, 1, 1, 0],\n",
       "         [1, 1, 1, 1, 0, 0, 1],\n",
       "         [1, 1, 1, 1, 0, 1, 0],\n",
       "         [1, 1, 1, 1, 1, 0, 0]], dtype=uint8),\n",
       " 6: matrix([[0, 1, 1, 1, 1, 1, 1],\n",
       "         [1, 0, 1, 1, 1, 1, 1],\n",
       "         [1, 1, 0, 1, 1, 1, 1],\n",
       "         [1, 1, 1, 0, 1, 1, 1],\n",
       "         [1, 1, 1, 1, 0, 1, 1],\n",
       "         [1, 1, 1, 1, 1, 0, 1],\n",
       "         [1, 1, 1, 1, 1, 1, 0]], dtype=uint8),\n",
       " 7: matrix([[1, 1, 1, 1, 1, 1, 1]], dtype=uint8)}"
      ]
     },
     "execution_count": 7,
     "metadata": {},
     "output_type": "execute_result"
    }
   ],
   "source": [
    "error_bits_count_dict = {}\n",
    "for i in range(n + 1):\n",
    "    error_bits_count_dict[i] = np.matrix([j.tolist()[0] for j in all_errors_matrix if j.sum() == i], dtype=\"u1\")\n",
    "error_bits_count_dict"
   ]
  },
  {
   "cell_type": "code",
   "execution_count": 8,
   "id": "89362430",
   "metadata": {},
   "outputs": [
    {
     "data": {
      "text/plain": [
       "matrix([[0, 0, 0, 0, 0, 0, 0]], dtype=uint8)"
      ]
     },
     "execution_count": 8,
     "metadata": {},
     "output_type": "execute_result"
    }
   ],
   "source": [
    "e = np.matrix(np.random.random((N, n)) < 1/7, dtype=\"u1\")\n",
    "e"
   ]
  },
  {
   "cell_type": "code",
   "execution_count": 9,
   "id": "9d693b1a",
   "metadata": {},
   "outputs": [
    {
     "data": {
      "text/plain": [
       "matrix([[0, 1, 1, 1, 0, 0, 0]], dtype=uint8)"
      ]
     },
     "execution_count": 9,
     "metadata": {},
     "output_type": "execute_result"
    }
   ],
   "source": [
    "r = w ^ e\n",
    "r"
   ]
  },
  {
   "cell_type": "code",
   "execution_count": 10,
   "id": "121d4f03",
   "metadata": {},
   "outputs": [
    {
     "data": {
      "text/plain": [
       "matrix([[0, 0, 0]], dtype=uint8)"
      ]
     },
     "execution_count": 10,
     "metadata": {},
     "output_type": "execute_result"
    }
   ],
   "source": [
    "s = r * H.T & 1\n",
    "s"
   ]
  },
  {
   "cell_type": "code",
   "execution_count": 11,
   "id": "4bcc1575",
   "metadata": {},
   "outputs": [
    {
     "data": {
      "text/plain": [
       "matrix([[0, 0, 0, 0, 0, 0, 0]], dtype=uint8)"
      ]
     },
     "execution_count": 11,
     "metadata": {},
     "output_type": "execute_result"
    }
   ],
   "source": [
    "est_e = np.matrix([np.array_equal(row, s) for row in H.T], dtype=\"u1\")\n",
    "est_e"
   ]
  },
  {
   "cell_type": "code",
   "execution_count": 12,
   "id": "99d6588e",
   "metadata": {},
   "outputs": [
    {
     "data": {
      "text/plain": [
       "matrix([[0, 1, 1, 1, 0, 0, 0]], dtype=uint8)"
      ]
     },
     "execution_count": 12,
     "metadata": {},
     "output_type": "execute_result"
    }
   ],
   "source": [
    "est_w = r ^ est_e\n",
    "est_w"
   ]
  },
  {
   "cell_type": "code",
   "execution_count": 13,
   "id": "29972ce7",
   "metadata": {},
   "outputs": [
    {
     "data": {
      "text/plain": [
       "matrix([[0, 1, 1, 1]], dtype=uint8)"
      ]
     },
     "execution_count": 13,
     "metadata": {},
     "output_type": "execute_result"
    }
   ],
   "source": [
    "est_u = est_w[:, :k]\n",
    "est_u"
   ]
  },
  {
   "cell_type": "code",
   "execution_count": 14,
   "id": "89caa098",
   "metadata": {},
   "outputs": [
    {
     "data": {
      "text/plain": [
       "matrix([[0, 0, 0, 0, 0, 0, 0],\n",
       "        [0, 0, 0, 1, 1, 1, 0],\n",
       "        [0, 0, 1, 0, 1, 0, 1],\n",
       "        [0, 0, 1, 1, 0, 1, 1],\n",
       "        [0, 1, 0, 0, 0, 1, 1],\n",
       "        [0, 1, 0, 1, 1, 0, 1],\n",
       "        [0, 1, 1, 0, 1, 1, 0],\n",
       "        [0, 1, 1, 1, 0, 0, 0],\n",
       "        [1, 0, 0, 0, 1, 1, 1],\n",
       "        [1, 0, 0, 1, 0, 0, 1],\n",
       "        [1, 0, 1, 0, 0, 1, 0],\n",
       "        [1, 0, 1, 1, 1, 0, 0],\n",
       "        [1, 1, 0, 0, 1, 0, 0],\n",
       "        [1, 1, 0, 1, 0, 1, 0],\n",
       "        [1, 1, 1, 0, 0, 0, 1],\n",
       "        [1, 1, 1, 1, 1, 1, 1]], dtype=uint8)"
      ]
     },
     "execution_count": 14,
     "metadata": {},
     "output_type": "execute_result"
    }
   ],
   "source": [
    "# 全情報源パターン\n",
    "all_src_str = [format(i, f\"0{k}b\") for i in range(1 << k)]\n",
    "all_src_matrix = np.matrix([[int(j) for j in i] for i in all_src_str], dtype=\"u1\")\n",
    "all_code_matrix = all_src_matrix * G & 1\n",
    "all_code_matrix"
   ]
  },
  {
   "cell_type": "code",
   "execution_count": 24,
   "id": "6b4ad72f",
   "metadata": {},
   "outputs": [],
   "source": [
    "bit_error_sum_df = pd.DataFrame(index=all_src_str, columns=[f\"err_{i}\" for i in range(n + 1)])\n",
    "n_error_patterns_count_list = [error_bits_count_dict[i].shape[0] for i in range(n + 1)]\n",
    "# 全ての符号について調べる\n",
    "for w in all_code_matrix:\n",
    "    u = w[:, :k]\n",
    "    u_str = vec_to_str(u)\n",
    "    # 誤りビット数ごとに調べる\n",
    "    for i in range(n + 1):\n",
    "        n_error_patterns = error_bits_count_dict[i]\n",
    "        bit_error_sum = 0\n",
    "        for e in n_error_patterns:\n",
    "            r = w ^ e\n",
    "            s = r * H.T & 1\n",
    "            est_e = np.matrix([np.array_equal(row, s) for row in H.T], dtype=\"u1\")\n",
    "            est_w = r ^ est_e\n",
    "            est_u = est_w[:, :k]\n",
    "            dif_u = u ^ est_u\n",
    "            \n",
    "#             print(u_str, vec_to_str(e), vec_to_str(est_u))\n",
    "            bit_error_sum += dif_u.sum()\n",
    "        bit_error_sum_df[f\"err_{i}\"][u_str] = int(bit_error_sum)"
   ]
  },
  {
   "cell_type": "code",
   "execution_count": 25,
   "id": "37e752e5",
   "metadata": {},
   "outputs": [
    {
     "data": {
      "text/html": [
       "<div>\n",
       "<style scoped>\n",
       "    .dataframe tbody tr th:only-of-type {\n",
       "        vertical-align: middle;\n",
       "    }\n",
       "\n",
       "    .dataframe tbody tr th {\n",
       "        vertical-align: top;\n",
       "    }\n",
       "\n",
       "    .dataframe thead th {\n",
       "        text-align: right;\n",
       "    }\n",
       "</style>\n",
       "<table border=\"1\" class=\"dataframe\">\n",
       "  <thead>\n",
       "    <tr style=\"text-align: right;\">\n",
       "      <th></th>\n",
       "      <th>err_0</th>\n",
       "      <th>err_1</th>\n",
       "      <th>err_2</th>\n",
       "      <th>err_3</th>\n",
       "      <th>err_4</th>\n",
       "      <th>err_5</th>\n",
       "      <th>err_6</th>\n",
       "      <th>err_7</th>\n",
       "    </tr>\n",
       "  </thead>\n",
       "  <tbody>\n",
       "    <tr>\n",
       "      <th>0000</th>\n",
       "      <td>0</td>\n",
       "      <td>0</td>\n",
       "      <td>36</td>\n",
       "      <td>76</td>\n",
       "      <td>64</td>\n",
       "      <td>48</td>\n",
       "      <td>28</td>\n",
       "      <td>4</td>\n",
       "    </tr>\n",
       "    <tr>\n",
       "      <th>0001</th>\n",
       "      <td>0</td>\n",
       "      <td>0</td>\n",
       "      <td>36</td>\n",
       "      <td>76</td>\n",
       "      <td>64</td>\n",
       "      <td>48</td>\n",
       "      <td>28</td>\n",
       "      <td>4</td>\n",
       "    </tr>\n",
       "    <tr>\n",
       "      <th>0010</th>\n",
       "      <td>0</td>\n",
       "      <td>0</td>\n",
       "      <td>36</td>\n",
       "      <td>76</td>\n",
       "      <td>64</td>\n",
       "      <td>48</td>\n",
       "      <td>28</td>\n",
       "      <td>4</td>\n",
       "    </tr>\n",
       "    <tr>\n",
       "      <th>0011</th>\n",
       "      <td>0</td>\n",
       "      <td>0</td>\n",
       "      <td>36</td>\n",
       "      <td>76</td>\n",
       "      <td>64</td>\n",
       "      <td>48</td>\n",
       "      <td>28</td>\n",
       "      <td>4</td>\n",
       "    </tr>\n",
       "    <tr>\n",
       "      <th>0100</th>\n",
       "      <td>0</td>\n",
       "      <td>0</td>\n",
       "      <td>36</td>\n",
       "      <td>76</td>\n",
       "      <td>64</td>\n",
       "      <td>48</td>\n",
       "      <td>28</td>\n",
       "      <td>4</td>\n",
       "    </tr>\n",
       "    <tr>\n",
       "      <th>0101</th>\n",
       "      <td>0</td>\n",
       "      <td>0</td>\n",
       "      <td>36</td>\n",
       "      <td>76</td>\n",
       "      <td>64</td>\n",
       "      <td>48</td>\n",
       "      <td>28</td>\n",
       "      <td>4</td>\n",
       "    </tr>\n",
       "    <tr>\n",
       "      <th>0110</th>\n",
       "      <td>0</td>\n",
       "      <td>0</td>\n",
       "      <td>36</td>\n",
       "      <td>76</td>\n",
       "      <td>64</td>\n",
       "      <td>48</td>\n",
       "      <td>28</td>\n",
       "      <td>4</td>\n",
       "    </tr>\n",
       "    <tr>\n",
       "      <th>0111</th>\n",
       "      <td>0</td>\n",
       "      <td>0</td>\n",
       "      <td>36</td>\n",
       "      <td>76</td>\n",
       "      <td>64</td>\n",
       "      <td>48</td>\n",
       "      <td>28</td>\n",
       "      <td>4</td>\n",
       "    </tr>\n",
       "    <tr>\n",
       "      <th>1000</th>\n",
       "      <td>0</td>\n",
       "      <td>0</td>\n",
       "      <td>36</td>\n",
       "      <td>76</td>\n",
       "      <td>64</td>\n",
       "      <td>48</td>\n",
       "      <td>28</td>\n",
       "      <td>4</td>\n",
       "    </tr>\n",
       "    <tr>\n",
       "      <th>1001</th>\n",
       "      <td>0</td>\n",
       "      <td>0</td>\n",
       "      <td>36</td>\n",
       "      <td>76</td>\n",
       "      <td>64</td>\n",
       "      <td>48</td>\n",
       "      <td>28</td>\n",
       "      <td>4</td>\n",
       "    </tr>\n",
       "    <tr>\n",
       "      <th>1010</th>\n",
       "      <td>0</td>\n",
       "      <td>0</td>\n",
       "      <td>36</td>\n",
       "      <td>76</td>\n",
       "      <td>64</td>\n",
       "      <td>48</td>\n",
       "      <td>28</td>\n",
       "      <td>4</td>\n",
       "    </tr>\n",
       "    <tr>\n",
       "      <th>1011</th>\n",
       "      <td>0</td>\n",
       "      <td>0</td>\n",
       "      <td>36</td>\n",
       "      <td>76</td>\n",
       "      <td>64</td>\n",
       "      <td>48</td>\n",
       "      <td>28</td>\n",
       "      <td>4</td>\n",
       "    </tr>\n",
       "    <tr>\n",
       "      <th>1100</th>\n",
       "      <td>0</td>\n",
       "      <td>0</td>\n",
       "      <td>36</td>\n",
       "      <td>76</td>\n",
       "      <td>64</td>\n",
       "      <td>48</td>\n",
       "      <td>28</td>\n",
       "      <td>4</td>\n",
       "    </tr>\n",
       "    <tr>\n",
       "      <th>1101</th>\n",
       "      <td>0</td>\n",
       "      <td>0</td>\n",
       "      <td>36</td>\n",
       "      <td>76</td>\n",
       "      <td>64</td>\n",
       "      <td>48</td>\n",
       "      <td>28</td>\n",
       "      <td>4</td>\n",
       "    </tr>\n",
       "    <tr>\n",
       "      <th>1110</th>\n",
       "      <td>0</td>\n",
       "      <td>0</td>\n",
       "      <td>36</td>\n",
       "      <td>76</td>\n",
       "      <td>64</td>\n",
       "      <td>48</td>\n",
       "      <td>28</td>\n",
       "      <td>4</td>\n",
       "    </tr>\n",
       "    <tr>\n",
       "      <th>1111</th>\n",
       "      <td>0</td>\n",
       "      <td>0</td>\n",
       "      <td>36</td>\n",
       "      <td>76</td>\n",
       "      <td>64</td>\n",
       "      <td>48</td>\n",
       "      <td>28</td>\n",
       "      <td>4</td>\n",
       "    </tr>\n",
       "  </tbody>\n",
       "</table>\n",
       "</div>"
      ],
      "text/plain": [
       "     err_0 err_1 err_2 err_3 err_4 err_5 err_6 err_7\n",
       "0000     0     0    36    76    64    48    28     4\n",
       "0001     0     0    36    76    64    48    28     4\n",
       "0010     0     0    36    76    64    48    28     4\n",
       "0011     0     0    36    76    64    48    28     4\n",
       "0100     0     0    36    76    64    48    28     4\n",
       "0101     0     0    36    76    64    48    28     4\n",
       "0110     0     0    36    76    64    48    28     4\n",
       "0111     0     0    36    76    64    48    28     4\n",
       "1000     0     0    36    76    64    48    28     4\n",
       "1001     0     0    36    76    64    48    28     4\n",
       "1010     0     0    36    76    64    48    28     4\n",
       "1011     0     0    36    76    64    48    28     4\n",
       "1100     0     0    36    76    64    48    28     4\n",
       "1101     0     0    36    76    64    48    28     4\n",
       "1110     0     0    36    76    64    48    28     4\n",
       "1111     0     0    36    76    64    48    28     4"
      ]
     },
     "execution_count": 25,
     "metadata": {},
     "output_type": "execute_result"
    }
   ],
   "source": [
    "bit_error_sum_df"
   ]
  },
  {
   "cell_type": "code",
   "execution_count": 61,
   "id": "a50227bd",
   "metadata": {},
   "outputs": [
    {
     "name": "stdout",
     "output_type": "stream",
     "text": [
      "[1, 7, 21, 35, 35, 21, 7, 1]\n"
     ]
    },
    {
     "data": {
      "text/html": [
       "<div>\n",
       "<style scoped>\n",
       "    .dataframe tbody tr th:only-of-type {\n",
       "        vertical-align: middle;\n",
       "    }\n",
       "\n",
       "    .dataframe tbody tr th {\n",
       "        vertical-align: top;\n",
       "    }\n",
       "\n",
       "    .dataframe thead th {\n",
       "        text-align: right;\n",
       "    }\n",
       "</style>\n",
       "<table border=\"1\" class=\"dataframe\">\n",
       "  <thead>\n",
       "    <tr style=\"text-align: right;\">\n",
       "      <th></th>\n",
       "      <th>err_0</th>\n",
       "      <th>err_1</th>\n",
       "      <th>err_2</th>\n",
       "      <th>err_3</th>\n",
       "      <th>err_4</th>\n",
       "      <th>err_5</th>\n",
       "      <th>err_6</th>\n",
       "      <th>err_7</th>\n",
       "    </tr>\n",
       "  </thead>\n",
       "  <tbody>\n",
       "    <tr>\n",
       "      <th>0000</th>\n",
       "      <td>0.0</td>\n",
       "      <td>0.0</td>\n",
       "      <td>1.714286</td>\n",
       "      <td>2.171429</td>\n",
       "      <td>1.828571</td>\n",
       "      <td>2.285714</td>\n",
       "      <td>4.0</td>\n",
       "      <td>4.0</td>\n",
       "    </tr>\n",
       "    <tr>\n",
       "      <th>0001</th>\n",
       "      <td>0.0</td>\n",
       "      <td>0.0</td>\n",
       "      <td>1.714286</td>\n",
       "      <td>2.171429</td>\n",
       "      <td>1.828571</td>\n",
       "      <td>2.285714</td>\n",
       "      <td>4.0</td>\n",
       "      <td>4.0</td>\n",
       "    </tr>\n",
       "    <tr>\n",
       "      <th>0010</th>\n",
       "      <td>0.0</td>\n",
       "      <td>0.0</td>\n",
       "      <td>1.714286</td>\n",
       "      <td>2.171429</td>\n",
       "      <td>1.828571</td>\n",
       "      <td>2.285714</td>\n",
       "      <td>4.0</td>\n",
       "      <td>4.0</td>\n",
       "    </tr>\n",
       "    <tr>\n",
       "      <th>0011</th>\n",
       "      <td>0.0</td>\n",
       "      <td>0.0</td>\n",
       "      <td>1.714286</td>\n",
       "      <td>2.171429</td>\n",
       "      <td>1.828571</td>\n",
       "      <td>2.285714</td>\n",
       "      <td>4.0</td>\n",
       "      <td>4.0</td>\n",
       "    </tr>\n",
       "    <tr>\n",
       "      <th>0100</th>\n",
       "      <td>0.0</td>\n",
       "      <td>0.0</td>\n",
       "      <td>1.714286</td>\n",
       "      <td>2.171429</td>\n",
       "      <td>1.828571</td>\n",
       "      <td>2.285714</td>\n",
       "      <td>4.0</td>\n",
       "      <td>4.0</td>\n",
       "    </tr>\n",
       "    <tr>\n",
       "      <th>0101</th>\n",
       "      <td>0.0</td>\n",
       "      <td>0.0</td>\n",
       "      <td>1.714286</td>\n",
       "      <td>2.171429</td>\n",
       "      <td>1.828571</td>\n",
       "      <td>2.285714</td>\n",
       "      <td>4.0</td>\n",
       "      <td>4.0</td>\n",
       "    </tr>\n",
       "    <tr>\n",
       "      <th>0110</th>\n",
       "      <td>0.0</td>\n",
       "      <td>0.0</td>\n",
       "      <td>1.714286</td>\n",
       "      <td>2.171429</td>\n",
       "      <td>1.828571</td>\n",
       "      <td>2.285714</td>\n",
       "      <td>4.0</td>\n",
       "      <td>4.0</td>\n",
       "    </tr>\n",
       "    <tr>\n",
       "      <th>0111</th>\n",
       "      <td>0.0</td>\n",
       "      <td>0.0</td>\n",
       "      <td>1.714286</td>\n",
       "      <td>2.171429</td>\n",
       "      <td>1.828571</td>\n",
       "      <td>2.285714</td>\n",
       "      <td>4.0</td>\n",
       "      <td>4.0</td>\n",
       "    </tr>\n",
       "    <tr>\n",
       "      <th>1000</th>\n",
       "      <td>0.0</td>\n",
       "      <td>0.0</td>\n",
       "      <td>1.714286</td>\n",
       "      <td>2.171429</td>\n",
       "      <td>1.828571</td>\n",
       "      <td>2.285714</td>\n",
       "      <td>4.0</td>\n",
       "      <td>4.0</td>\n",
       "    </tr>\n",
       "    <tr>\n",
       "      <th>1001</th>\n",
       "      <td>0.0</td>\n",
       "      <td>0.0</td>\n",
       "      <td>1.714286</td>\n",
       "      <td>2.171429</td>\n",
       "      <td>1.828571</td>\n",
       "      <td>2.285714</td>\n",
       "      <td>4.0</td>\n",
       "      <td>4.0</td>\n",
       "    </tr>\n",
       "    <tr>\n",
       "      <th>1010</th>\n",
       "      <td>0.0</td>\n",
       "      <td>0.0</td>\n",
       "      <td>1.714286</td>\n",
       "      <td>2.171429</td>\n",
       "      <td>1.828571</td>\n",
       "      <td>2.285714</td>\n",
       "      <td>4.0</td>\n",
       "      <td>4.0</td>\n",
       "    </tr>\n",
       "    <tr>\n",
       "      <th>1011</th>\n",
       "      <td>0.0</td>\n",
       "      <td>0.0</td>\n",
       "      <td>1.714286</td>\n",
       "      <td>2.171429</td>\n",
       "      <td>1.828571</td>\n",
       "      <td>2.285714</td>\n",
       "      <td>4.0</td>\n",
       "      <td>4.0</td>\n",
       "    </tr>\n",
       "    <tr>\n",
       "      <th>1100</th>\n",
       "      <td>0.0</td>\n",
       "      <td>0.0</td>\n",
       "      <td>1.714286</td>\n",
       "      <td>2.171429</td>\n",
       "      <td>1.828571</td>\n",
       "      <td>2.285714</td>\n",
       "      <td>4.0</td>\n",
       "      <td>4.0</td>\n",
       "    </tr>\n",
       "    <tr>\n",
       "      <th>1101</th>\n",
       "      <td>0.0</td>\n",
       "      <td>0.0</td>\n",
       "      <td>1.714286</td>\n",
       "      <td>2.171429</td>\n",
       "      <td>1.828571</td>\n",
       "      <td>2.285714</td>\n",
       "      <td>4.0</td>\n",
       "      <td>4.0</td>\n",
       "    </tr>\n",
       "    <tr>\n",
       "      <th>1110</th>\n",
       "      <td>0.0</td>\n",
       "      <td>0.0</td>\n",
       "      <td>1.714286</td>\n",
       "      <td>2.171429</td>\n",
       "      <td>1.828571</td>\n",
       "      <td>2.285714</td>\n",
       "      <td>4.0</td>\n",
       "      <td>4.0</td>\n",
       "    </tr>\n",
       "    <tr>\n",
       "      <th>1111</th>\n",
       "      <td>0.0</td>\n",
       "      <td>0.0</td>\n",
       "      <td>1.714286</td>\n",
       "      <td>2.171429</td>\n",
       "      <td>1.828571</td>\n",
       "      <td>2.285714</td>\n",
       "      <td>4.0</td>\n",
       "      <td>4.0</td>\n",
       "    </tr>\n",
       "  </tbody>\n",
       "</table>\n",
       "</div>"
      ],
      "text/plain": [
       "     err_0 err_1     err_2     err_3     err_4     err_5 err_6 err_7\n",
       "0000   0.0   0.0  1.714286  2.171429  1.828571  2.285714   4.0   4.0\n",
       "0001   0.0   0.0  1.714286  2.171429  1.828571  2.285714   4.0   4.0\n",
       "0010   0.0   0.0  1.714286  2.171429  1.828571  2.285714   4.0   4.0\n",
       "0011   0.0   0.0  1.714286  2.171429  1.828571  2.285714   4.0   4.0\n",
       "0100   0.0   0.0  1.714286  2.171429  1.828571  2.285714   4.0   4.0\n",
       "0101   0.0   0.0  1.714286  2.171429  1.828571  2.285714   4.0   4.0\n",
       "0110   0.0   0.0  1.714286  2.171429  1.828571  2.285714   4.0   4.0\n",
       "0111   0.0   0.0  1.714286  2.171429  1.828571  2.285714   4.0   4.0\n",
       "1000   0.0   0.0  1.714286  2.171429  1.828571  2.285714   4.0   4.0\n",
       "1001   0.0   0.0  1.714286  2.171429  1.828571  2.285714   4.0   4.0\n",
       "1010   0.0   0.0  1.714286  2.171429  1.828571  2.285714   4.0   4.0\n",
       "1011   0.0   0.0  1.714286  2.171429  1.828571  2.285714   4.0   4.0\n",
       "1100   0.0   0.0  1.714286  2.171429  1.828571  2.285714   4.0   4.0\n",
       "1101   0.0   0.0  1.714286  2.171429  1.828571  2.285714   4.0   4.0\n",
       "1110   0.0   0.0  1.714286  2.171429  1.828571  2.285714   4.0   4.0\n",
       "1111   0.0   0.0  1.714286  2.171429  1.828571  2.285714   4.0   4.0"
      ]
     },
     "execution_count": 61,
     "metadata": {},
     "output_type": "execute_result"
    }
   ],
   "source": [
    "print(n_error_patterns_count_list)\n",
    "bit_error_sum_list = bit_error_sum_df.iloc[0].tolist()\n",
    "bit_error_mean_df = bit_error_sum_df / n_error_patterns_count_list\n",
    "bit_error_mean_df"
   ]
  },
  {
   "cell_type": "code",
   "execution_count": 91,
   "id": "b4f3830e",
   "metadata": {},
   "outputs": [
    {
     "data": {
      "text/latex": [
       "$\\displaystyle 4.0 p^{7} + 28.0 p^{6} q + 48.0 p^{5} q^{2} + 64.0 p^{4} q^{3} + 76.0 p^{3} q^{4} + 36.0 p^{2} q^{5}$"
      ],
      "text/plain": [
       "4.0*p**7 + 28.0*p**6*q + 48.0*p**5*q**2 + 64.0*p**4*q**3 + 76.0*p**3*q**4 + 36.0*p**2*q**5"
      ]
     },
     "execution_count": 91,
     "metadata": {},
     "output_type": "execute_result"
    }
   ],
   "source": [
    "p = Symbol(\"p\")\n",
    "q = Symbol(\"q\")\n",
    "binomial = 0\n",
    "for i in range(n + 1):\n",
    "    binomial += comb(n, i) * p ** i * q ** (n - i) * bit_error_sum_list[i] / n_error_patterns_count_list[i]\n",
    "binomial"
   ]
  },
  {
   "cell_type": "code",
   "execution_count": 92,
   "id": "cd57bad2",
   "metadata": {},
   "outputs": [
    {
     "data": {
      "text/latex": [
       "$\\displaystyle 4.0 p^{7} + 28.0 p^{6} \\cdot \\left(1 - p\\right) + 48.0 p^{5} \\left(1 - p\\right)^{2} + 64.0 p^{4} \\left(1 - p\\right)^{3} + 76.0 p^{3} \\left(1 - p\\right)^{4} + 36.0 p^{2} \\left(1 - p\\right)^{5}$"
      ],
      "text/plain": [
       "4.0*p**7 + 28.0*p**6*(1 - p) + 48.0*p**5*(1 - p)**2 + 64.0*p**4*(1 - p)**3 + 76.0*p**3*(1 - p)**4 + 36.0*p**2*(1 - p)**5"
      ]
     },
     "execution_count": 92,
     "metadata": {},
     "output_type": "execute_result"
    }
   ],
   "source": [
    "binomial = binomial.subs(q, 1 - p)\n",
    "binomial"
   ]
  },
  {
   "cell_type": "code",
   "execution_count": 114,
   "id": "9a6e73e5",
   "metadata": {},
   "outputs": [],
   "source": [
    "ans = binomial.subs(p, np.power(10, -4.0-1/4))"
   ]
  },
  {
   "cell_type": "code",
   "execution_count": 115,
   "id": "8c4ec5e0",
   "metadata": {},
   "outputs": [
    {
     "data": {
      "text/latex": [
       "$\\displaystyle 1138.2350286017$"
      ],
      "text/plain": [
       "1138.23502860170"
      ]
     },
     "execution_count": 115,
     "metadata": {},
     "output_type": "execute_result"
    }
   ],
   "source": [
    "ans * 1e10"
   ]
  },
  {
   "cell_type": "code",
   "execution_count": 116,
   "id": "9721426e",
   "metadata": {},
   "outputs": [
    {
     "data": {
      "text/plain": [
       "5.623413251903491e-05"
      ]
     },
     "execution_count": 116,
     "metadata": {},
     "output_type": "execute_result"
    }
   ],
   "source": [
    "np.power(10, -4.0-1/4)"
   ]
  },
  {
   "cell_type": "code",
   "execution_count": null,
   "id": "5a720cb0",
   "metadata": {},
   "outputs": [],
   "source": []
  }
 ],
 "metadata": {
  "kernelspec": {
   "display_name": "Python 3 (ipykernel)",
   "language": "python",
   "name": "python3"
  },
  "language_info": {
   "codemirror_mode": {
    "name": "ipython",
    "version": 3
   },
   "file_extension": ".py",
   "mimetype": "text/x-python",
   "name": "python",
   "nbconvert_exporter": "python",
   "pygments_lexer": "ipython3",
   "version": "3.9.6"
  }
 },
 "nbformat": 4,
 "nbformat_minor": 5
}
