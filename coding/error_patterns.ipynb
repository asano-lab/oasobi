{
 "cells": [
  {
   "cell_type": "markdown",
   "id": "2d916fca",
   "metadata": {},
   "source": [
    "# (7, 4)ハミング符号のビット誤り率を知りたい"
   ]
  },
  {
   "cell_type": "code",
   "execution_count": 1,
   "id": "44095880",
   "metadata": {},
   "outputs": [],
   "source": [
    "import numpy as np"
   ]
  },
  {
   "cell_type": "code",
   "execution_count": 17,
   "id": "14b289f1",
   "metadata": {},
   "outputs": [
    {
     "data": {
      "text/plain": [
       "matrix([[1, 1, 1],\n",
       "        [0, 1, 1],\n",
       "        [1, 0, 1],\n",
       "        [1, 1, 0],\n",
       "        [1, 0, 0],\n",
       "        [0, 1, 0],\n",
       "        [0, 0, 1]], dtype=uint8)"
      ]
     },
     "execution_count": 17,
     "metadata": {},
     "output_type": "execute_result"
    }
   ],
   "source": [
    "G = np.matrix([\n",
    "    [1, 0, 0, 0, 1, 1, 1],\n",
    "    [0, 1, 0, 0, 0, 1, 1],\n",
    "    [0, 0, 1, 0, 1, 0, 1],\n",
    "    [0, 0, 0, 1, 1, 1, 0]\n",
    "], dtype=\"u1\")\n",
    "\n",
    "k, n = G.shape\n",
    "\n",
    "P = G[:, k:]\n",
    "H = np.concatenate([P.T, np.identity(n - k, dtype=\"u1\")], axis=1)"
   ]
  },
  {
   "cell_type": "code",
   "execution_count": 50,
   "id": "ad52ea9c",
   "metadata": {},
   "outputs": [
    {
     "data": {
      "text/plain": [
       "matrix([[0, 0, 0, 1]], dtype=uint8)"
      ]
     },
     "execution_count": 50,
     "metadata": {},
     "output_type": "execute_result"
    }
   ],
   "source": [
    "N = 1\n",
    "u = np.random.randint(0, 2, (N, k), dtype=\"u1\")\n",
    "u = np.matrix(u)\n",
    "u"
   ]
  },
  {
   "cell_type": "code",
   "execution_count": 51,
   "id": "be5c5291",
   "metadata": {},
   "outputs": [
    {
     "data": {
      "text/plain": [
       "matrix([[0, 0, 0, 1, 1, 1, 0]], dtype=uint8)"
      ]
     },
     "execution_count": 51,
     "metadata": {},
     "output_type": "execute_result"
    }
   ],
   "source": [
    "w = u * G & 1\n",
    "w"
   ]
  },
  {
   "cell_type": "code",
   "execution_count": 56,
   "id": "13e69525",
   "metadata": {},
   "outputs": [
    {
     "data": {
      "text/plain": [
       "[matrix([[0, 0, 0, 0, 0, 0, 0]], dtype=uint8),\n",
       " matrix([[0, 0, 0, 0, 0, 0, 1]], dtype=uint8),\n",
       " matrix([[0, 0, 0, 0, 0, 1, 0]], dtype=uint8),\n",
       " matrix([[0, 0, 0, 0, 0, 1, 1]], dtype=uint8),\n",
       " matrix([[0, 0, 0, 0, 1, 0, 0]], dtype=uint8),\n",
       " matrix([[0, 0, 0, 0, 1, 0, 1]], dtype=uint8),\n",
       " matrix([[0, 0, 0, 0, 1, 1, 0]], dtype=uint8),\n",
       " matrix([[0, 0, 0, 0, 1, 1, 1]], dtype=uint8),\n",
       " matrix([[0, 0, 0, 1, 0, 0, 0]], dtype=uint8),\n",
       " matrix([[0, 0, 0, 1, 0, 0, 1]], dtype=uint8),\n",
       " matrix([[0, 0, 0, 1, 0, 1, 0]], dtype=uint8),\n",
       " matrix([[0, 0, 0, 1, 0, 1, 1]], dtype=uint8),\n",
       " matrix([[0, 0, 0, 1, 1, 0, 0]], dtype=uint8),\n",
       " matrix([[0, 0, 0, 1, 1, 0, 1]], dtype=uint8),\n",
       " matrix([[0, 0, 0, 1, 1, 1, 0]], dtype=uint8),\n",
       " matrix([[0, 0, 0, 1, 1, 1, 1]], dtype=uint8),\n",
       " matrix([[0, 0, 1, 0, 0, 0, 0]], dtype=uint8),\n",
       " matrix([[0, 0, 1, 0, 0, 0, 1]], dtype=uint8),\n",
       " matrix([[0, 0, 1, 0, 0, 1, 0]], dtype=uint8),\n",
       " matrix([[0, 0, 1, 0, 0, 1, 1]], dtype=uint8),\n",
       " matrix([[0, 0, 1, 0, 1, 0, 0]], dtype=uint8),\n",
       " matrix([[0, 0, 1, 0, 1, 0, 1]], dtype=uint8),\n",
       " matrix([[0, 0, 1, 0, 1, 1, 0]], dtype=uint8),\n",
       " matrix([[0, 0, 1, 0, 1, 1, 1]], dtype=uint8),\n",
       " matrix([[0, 0, 1, 1, 0, 0, 0]], dtype=uint8),\n",
       " matrix([[0, 0, 1, 1, 0, 0, 1]], dtype=uint8),\n",
       " matrix([[0, 0, 1, 1, 0, 1, 0]], dtype=uint8),\n",
       " matrix([[0, 0, 1, 1, 0, 1, 1]], dtype=uint8),\n",
       " matrix([[0, 0, 1, 1, 1, 0, 0]], dtype=uint8),\n",
       " matrix([[0, 0, 1, 1, 1, 0, 1]], dtype=uint8),\n",
       " matrix([[0, 0, 1, 1, 1, 1, 0]], dtype=uint8),\n",
       " matrix([[0, 0, 1, 1, 1, 1, 1]], dtype=uint8),\n",
       " matrix([[0, 1, 0, 0, 0, 0, 0]], dtype=uint8),\n",
       " matrix([[0, 1, 0, 0, 0, 0, 1]], dtype=uint8),\n",
       " matrix([[0, 1, 0, 0, 0, 1, 0]], dtype=uint8),\n",
       " matrix([[0, 1, 0, 0, 0, 1, 1]], dtype=uint8),\n",
       " matrix([[0, 1, 0, 0, 1, 0, 0]], dtype=uint8),\n",
       " matrix([[0, 1, 0, 0, 1, 0, 1]], dtype=uint8),\n",
       " matrix([[0, 1, 0, 0, 1, 1, 0]], dtype=uint8),\n",
       " matrix([[0, 1, 0, 0, 1, 1, 1]], dtype=uint8),\n",
       " matrix([[0, 1, 0, 1, 0, 0, 0]], dtype=uint8),\n",
       " matrix([[0, 1, 0, 1, 0, 0, 1]], dtype=uint8),\n",
       " matrix([[0, 1, 0, 1, 0, 1, 0]], dtype=uint8),\n",
       " matrix([[0, 1, 0, 1, 0, 1, 1]], dtype=uint8),\n",
       " matrix([[0, 1, 0, 1, 1, 0, 0]], dtype=uint8),\n",
       " matrix([[0, 1, 0, 1, 1, 0, 1]], dtype=uint8),\n",
       " matrix([[0, 1, 0, 1, 1, 1, 0]], dtype=uint8),\n",
       " matrix([[0, 1, 0, 1, 1, 1, 1]], dtype=uint8),\n",
       " matrix([[0, 1, 1, 0, 0, 0, 0]], dtype=uint8),\n",
       " matrix([[0, 1, 1, 0, 0, 0, 1]], dtype=uint8),\n",
       " matrix([[0, 1, 1, 0, 0, 1, 0]], dtype=uint8),\n",
       " matrix([[0, 1, 1, 0, 0, 1, 1]], dtype=uint8),\n",
       " matrix([[0, 1, 1, 0, 1, 0, 0]], dtype=uint8),\n",
       " matrix([[0, 1, 1, 0, 1, 0, 1]], dtype=uint8),\n",
       " matrix([[0, 1, 1, 0, 1, 1, 0]], dtype=uint8),\n",
       " matrix([[0, 1, 1, 0, 1, 1, 1]], dtype=uint8),\n",
       " matrix([[0, 1, 1, 1, 0, 0, 0]], dtype=uint8),\n",
       " matrix([[0, 1, 1, 1, 0, 0, 1]], dtype=uint8),\n",
       " matrix([[0, 1, 1, 1, 0, 1, 0]], dtype=uint8),\n",
       " matrix([[0, 1, 1, 1, 0, 1, 1]], dtype=uint8),\n",
       " matrix([[0, 1, 1, 1, 1, 0, 0]], dtype=uint8),\n",
       " matrix([[0, 1, 1, 1, 1, 0, 1]], dtype=uint8),\n",
       " matrix([[0, 1, 1, 1, 1, 1, 0]], dtype=uint8),\n",
       " matrix([[0, 1, 1, 1, 1, 1, 1]], dtype=uint8),\n",
       " matrix([[1, 0, 0, 0, 0, 0, 0]], dtype=uint8),\n",
       " matrix([[1, 0, 0, 0, 0, 0, 1]], dtype=uint8),\n",
       " matrix([[1, 0, 0, 0, 0, 1, 0]], dtype=uint8),\n",
       " matrix([[1, 0, 0, 0, 0, 1, 1]], dtype=uint8),\n",
       " matrix([[1, 0, 0, 0, 1, 0, 0]], dtype=uint8),\n",
       " matrix([[1, 0, 0, 0, 1, 0, 1]], dtype=uint8),\n",
       " matrix([[1, 0, 0, 0, 1, 1, 0]], dtype=uint8),\n",
       " matrix([[1, 0, 0, 0, 1, 1, 1]], dtype=uint8),\n",
       " matrix([[1, 0, 0, 1, 0, 0, 0]], dtype=uint8),\n",
       " matrix([[1, 0, 0, 1, 0, 0, 1]], dtype=uint8),\n",
       " matrix([[1, 0, 0, 1, 0, 1, 0]], dtype=uint8),\n",
       " matrix([[1, 0, 0, 1, 0, 1, 1]], dtype=uint8),\n",
       " matrix([[1, 0, 0, 1, 1, 0, 0]], dtype=uint8),\n",
       " matrix([[1, 0, 0, 1, 1, 0, 1]], dtype=uint8),\n",
       " matrix([[1, 0, 0, 1, 1, 1, 0]], dtype=uint8),\n",
       " matrix([[1, 0, 0, 1, 1, 1, 1]], dtype=uint8),\n",
       " matrix([[1, 0, 1, 0, 0, 0, 0]], dtype=uint8),\n",
       " matrix([[1, 0, 1, 0, 0, 0, 1]], dtype=uint8),\n",
       " matrix([[1, 0, 1, 0, 0, 1, 0]], dtype=uint8),\n",
       " matrix([[1, 0, 1, 0, 0, 1, 1]], dtype=uint8),\n",
       " matrix([[1, 0, 1, 0, 1, 0, 0]], dtype=uint8),\n",
       " matrix([[1, 0, 1, 0, 1, 0, 1]], dtype=uint8),\n",
       " matrix([[1, 0, 1, 0, 1, 1, 0]], dtype=uint8),\n",
       " matrix([[1, 0, 1, 0, 1, 1, 1]], dtype=uint8),\n",
       " matrix([[1, 0, 1, 1, 0, 0, 0]], dtype=uint8),\n",
       " matrix([[1, 0, 1, 1, 0, 0, 1]], dtype=uint8),\n",
       " matrix([[1, 0, 1, 1, 0, 1, 0]], dtype=uint8),\n",
       " matrix([[1, 0, 1, 1, 0, 1, 1]], dtype=uint8),\n",
       " matrix([[1, 0, 1, 1, 1, 0, 0]], dtype=uint8),\n",
       " matrix([[1, 0, 1, 1, 1, 0, 1]], dtype=uint8),\n",
       " matrix([[1, 0, 1, 1, 1, 1, 0]], dtype=uint8),\n",
       " matrix([[1, 0, 1, 1, 1, 1, 1]], dtype=uint8),\n",
       " matrix([[1, 1, 0, 0, 0, 0, 0]], dtype=uint8),\n",
       " matrix([[1, 1, 0, 0, 0, 0, 1]], dtype=uint8),\n",
       " matrix([[1, 1, 0, 0, 0, 1, 0]], dtype=uint8),\n",
       " matrix([[1, 1, 0, 0, 0, 1, 1]], dtype=uint8),\n",
       " matrix([[1, 1, 0, 0, 1, 0, 0]], dtype=uint8),\n",
       " matrix([[1, 1, 0, 0, 1, 0, 1]], dtype=uint8),\n",
       " matrix([[1, 1, 0, 0, 1, 1, 0]], dtype=uint8),\n",
       " matrix([[1, 1, 0, 0, 1, 1, 1]], dtype=uint8),\n",
       " matrix([[1, 1, 0, 1, 0, 0, 0]], dtype=uint8),\n",
       " matrix([[1, 1, 0, 1, 0, 0, 1]], dtype=uint8),\n",
       " matrix([[1, 1, 0, 1, 0, 1, 0]], dtype=uint8),\n",
       " matrix([[1, 1, 0, 1, 0, 1, 1]], dtype=uint8),\n",
       " matrix([[1, 1, 0, 1, 1, 0, 0]], dtype=uint8),\n",
       " matrix([[1, 1, 0, 1, 1, 0, 1]], dtype=uint8),\n",
       " matrix([[1, 1, 0, 1, 1, 1, 0]], dtype=uint8),\n",
       " matrix([[1, 1, 0, 1, 1, 1, 1]], dtype=uint8),\n",
       " matrix([[1, 1, 1, 0, 0, 0, 0]], dtype=uint8),\n",
       " matrix([[1, 1, 1, 0, 0, 0, 1]], dtype=uint8),\n",
       " matrix([[1, 1, 1, 0, 0, 1, 0]], dtype=uint8),\n",
       " matrix([[1, 1, 1, 0, 0, 1, 1]], dtype=uint8),\n",
       " matrix([[1, 1, 1, 0, 1, 0, 0]], dtype=uint8),\n",
       " matrix([[1, 1, 1, 0, 1, 0, 1]], dtype=uint8),\n",
       " matrix([[1, 1, 1, 0, 1, 1, 0]], dtype=uint8),\n",
       " matrix([[1, 1, 1, 0, 1, 1, 1]], dtype=uint8),\n",
       " matrix([[1, 1, 1, 1, 0, 0, 0]], dtype=uint8),\n",
       " matrix([[1, 1, 1, 1, 0, 0, 1]], dtype=uint8),\n",
       " matrix([[1, 1, 1, 1, 0, 1, 0]], dtype=uint8),\n",
       " matrix([[1, 1, 1, 1, 0, 1, 1]], dtype=uint8),\n",
       " matrix([[1, 1, 1, 1, 1, 0, 0]], dtype=uint8),\n",
       " matrix([[1, 1, 1, 1, 1, 0, 1]], dtype=uint8),\n",
       " matrix([[1, 1, 1, 1, 1, 1, 0]], dtype=uint8),\n",
       " matrix([[1, 1, 1, 1, 1, 1, 1]], dtype=uint8)]"
      ]
     },
     "execution_count": 56,
     "metadata": {},
     "output_type": "execute_result"
    }
   ],
   "source": [
    "# 全誤りパターン (ただの7桁の全数値)\n",
    "all_errors_str = [format(i, f\"0{n}b\") for i in range(1 << n)]\n",
    "all_errors_matrix = [np.matrix([int(j) for j in i], dtype=\"u1\") for i in all_errors_str]\n",
    "all_errors_matrix"
   ]
  },
  {
   "cell_type": "code",
   "execution_count": 57,
   "id": "b7f1477e",
   "metadata": {},
   "outputs": [
    {
     "data": {
      "text/plain": [
       "3"
      ]
     },
     "execution_count": 57,
     "metadata": {},
     "output_type": "execute_result"
    }
   ],
   "source": [
    "error_bits_count_dict = {}\n",
    "for i in range(n):\n",
    "    pass"
   ]
  },
  {
   "cell_type": "code",
   "execution_count": 59,
   "id": "5a8b2ee4",
   "metadata": {},
   "outputs": [
    {
     "data": {
      "text/plain": [
       "[matrix([[0, 0, 0, 0, 1, 1, 1]], dtype=uint8),\n",
       " matrix([[0, 0, 0, 1, 0, 1, 1]], dtype=uint8),\n",
       " matrix([[0, 0, 0, 1, 1, 0, 1]], dtype=uint8),\n",
       " matrix([[0, 0, 0, 1, 1, 1, 0]], dtype=uint8),\n",
       " matrix([[0, 0, 1, 0, 0, 1, 1]], dtype=uint8),\n",
       " matrix([[0, 0, 1, 0, 1, 0, 1]], dtype=uint8),\n",
       " matrix([[0, 0, 1, 0, 1, 1, 0]], dtype=uint8),\n",
       " matrix([[0, 0, 1, 1, 0, 0, 1]], dtype=uint8),\n",
       " matrix([[0, 0, 1, 1, 0, 1, 0]], dtype=uint8),\n",
       " matrix([[0, 0, 1, 1, 1, 0, 0]], dtype=uint8),\n",
       " matrix([[0, 1, 0, 0, 0, 1, 1]], dtype=uint8),\n",
       " matrix([[0, 1, 0, 0, 1, 0, 1]], dtype=uint8),\n",
       " matrix([[0, 1, 0, 0, 1, 1, 0]], dtype=uint8),\n",
       " matrix([[0, 1, 0, 1, 0, 0, 1]], dtype=uint8),\n",
       " matrix([[0, 1, 0, 1, 0, 1, 0]], dtype=uint8),\n",
       " matrix([[0, 1, 0, 1, 1, 0, 0]], dtype=uint8),\n",
       " matrix([[0, 1, 1, 0, 0, 0, 1]], dtype=uint8),\n",
       " matrix([[0, 1, 1, 0, 0, 1, 0]], dtype=uint8),\n",
       " matrix([[0, 1, 1, 0, 1, 0, 0]], dtype=uint8),\n",
       " matrix([[0, 1, 1, 1, 0, 0, 0]], dtype=uint8),\n",
       " matrix([[1, 0, 0, 0, 0, 1, 1]], dtype=uint8),\n",
       " matrix([[1, 0, 0, 0, 1, 0, 1]], dtype=uint8),\n",
       " matrix([[1, 0, 0, 0, 1, 1, 0]], dtype=uint8),\n",
       " matrix([[1, 0, 0, 1, 0, 0, 1]], dtype=uint8),\n",
       " matrix([[1, 0, 0, 1, 0, 1, 0]], dtype=uint8),\n",
       " matrix([[1, 0, 0, 1, 1, 0, 0]], dtype=uint8),\n",
       " matrix([[1, 0, 1, 0, 0, 0, 1]], dtype=uint8),\n",
       " matrix([[1, 0, 1, 0, 0, 1, 0]], dtype=uint8),\n",
       " matrix([[1, 0, 1, 0, 1, 0, 0]], dtype=uint8),\n",
       " matrix([[1, 0, 1, 1, 0, 0, 0]], dtype=uint8),\n",
       " matrix([[1, 1, 0, 0, 0, 0, 1]], dtype=uint8),\n",
       " matrix([[1, 1, 0, 0, 0, 1, 0]], dtype=uint8),\n",
       " matrix([[1, 1, 0, 0, 1, 0, 0]], dtype=uint8),\n",
       " matrix([[1, 1, 0, 1, 0, 0, 0]], dtype=uint8),\n",
       " matrix([[1, 1, 1, 0, 0, 0, 0]], dtype=uint8)]"
      ]
     },
     "execution_count": 59,
     "metadata": {},
     "output_type": "execute_result"
    }
   ],
   "source": [
    "[i for i in all_errors_matrix if i.sum() == 3]"
   ]
  },
  {
   "cell_type": "code",
   "execution_count": null,
   "id": "2ee3930c",
   "metadata": {},
   "outputs": [],
   "source": []
  }
 ],
 "metadata": {
  "kernelspec": {
   "display_name": "Python 3 (ipykernel)",
   "language": "python",
   "name": "python3"
  },
  "language_info": {
   "codemirror_mode": {
    "name": "ipython",
    "version": 3
   },
   "file_extension": ".py",
   "mimetype": "text/x-python",
   "name": "python",
   "nbconvert_exporter": "python",
   "pygments_lexer": "ipython3",
   "version": "3.9.6"
  }
 },
 "nbformat": 4,
 "nbformat_minor": 5
}
