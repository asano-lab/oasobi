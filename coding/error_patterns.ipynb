{
 "cells": [
  {
   "cell_type": "markdown",
   "id": "a1ea7aab",
   "metadata": {},
   "source": [
    "# (7, 4)ハミング符号のビット誤り率を知りたい"
   ]
  },
  {
   "cell_type": "code",
   "execution_count": 1,
   "id": "ebeaf9fe",
   "metadata": {},
   "outputs": [],
   "source": [
    "import numpy as np"
   ]
  },
  {
   "cell_type": "code",
   "execution_count": 17,
   "id": "c97117f5",
   "metadata": {},
   "outputs": [
    {
     "data": {
      "text/plain": [
       "matrix([[1, 1, 1],\n",
       "        [0, 1, 1],\n",
       "        [1, 0, 1],\n",
       "        [1, 1, 0],\n",
       "        [1, 0, 0],\n",
       "        [0, 1, 0],\n",
       "        [0, 0, 1]], dtype=uint8)"
      ]
     },
     "execution_count": 17,
     "metadata": {},
     "output_type": "execute_result"
    }
   ],
   "source": [
    "G = np.matrix([\n",
    "    [1, 0, 0, 0, 1, 1, 1],\n",
    "    [0, 1, 0, 0, 0, 1, 1],\n",
    "    [0, 0, 1, 0, 1, 0, 1],\n",
    "    [0, 0, 0, 1, 1, 1, 0]\n",
    "], dtype=\"u1\")\n",
    "\n",
    "k, n = G.shape\n",
    "\n",
    "P = G[:, k:]\n",
    "H = np.concatenate([P.T, np.identity(n - k, dtype=\"u1\")], axis=1)"
   ]
  },
  {
   "cell_type": "code",
   "execution_count": 50,
   "id": "fdb69db2",
   "metadata": {},
   "outputs": [
    {
     "data": {
      "text/plain": [
       "matrix([[0, 0, 0, 1]], dtype=uint8)"
      ]
     },
     "execution_count": 50,
     "metadata": {},
     "output_type": "execute_result"
    }
   ],
   "source": [
    "N = 1\n",
    "u = np.random.randint(0, 2, (N, k), dtype=\"u1\")\n",
    "u = np.matrix(u)\n",
    "u"
   ]
  },
  {
   "cell_type": "code",
   "execution_count": 51,
   "id": "fa67ae5d",
   "metadata": {},
   "outputs": [
    {
     "data": {
      "text/plain": [
       "matrix([[0, 0, 0, 1, 1, 1, 0]], dtype=uint8)"
      ]
     },
     "execution_count": 51,
     "metadata": {},
     "output_type": "execute_result"
    }
   ],
   "source": [
    "w = u * G & 1\n",
    "w"
   ]
  },
  {
   "cell_type": "code",
   "execution_count": 56,
   "id": "f4ffb1c6",
   "metadata": {},
   "outputs": [
    {
     "data": {
      "text/plain": [
       "[matrix([[0, 0, 0, 0, 0, 0, 0]], dtype=uint8),\n",
       " matrix([[0, 0, 0, 0, 0, 0, 1]], dtype=uint8),\n",
       " matrix([[0, 0, 0, 0, 0, 1, 0]], dtype=uint8),\n",
       " matrix([[0, 0, 0, 0, 0, 1, 1]], dtype=uint8),\n",
       " matrix([[0, 0, 0, 0, 1, 0, 0]], dtype=uint8),\n",
       " matrix([[0, 0, 0, 0, 1, 0, 1]], dtype=uint8),\n",
       " matrix([[0, 0, 0, 0, 1, 1, 0]], dtype=uint8),\n",
       " matrix([[0, 0, 0, 0, 1, 1, 1]], dtype=uint8),\n",
       " matrix([[0, 0, 0, 1, 0, 0, 0]], dtype=uint8),\n",
       " matrix([[0, 0, 0, 1, 0, 0, 1]], dtype=uint8),\n",
       " matrix([[0, 0, 0, 1, 0, 1, 0]], dtype=uint8),\n",
       " matrix([[0, 0, 0, 1, 0, 1, 1]], dtype=uint8),\n",
       " matrix([[0, 0, 0, 1, 1, 0, 0]], dtype=uint8),\n",
       " matrix([[0, 0, 0, 1, 1, 0, 1]], dtype=uint8),\n",
       " matrix([[0, 0, 0, 1, 1, 1, 0]], dtype=uint8),\n",
       " matrix([[0, 0, 0, 1, 1, 1, 1]], dtype=uint8),\n",
       " matrix([[0, 0, 1, 0, 0, 0, 0]], dtype=uint8),\n",
       " matrix([[0, 0, 1, 0, 0, 0, 1]], dtype=uint8),\n",
       " matrix([[0, 0, 1, 0, 0, 1, 0]], dtype=uint8),\n",
       " matrix([[0, 0, 1, 0, 0, 1, 1]], dtype=uint8),\n",
       " matrix([[0, 0, 1, 0, 1, 0, 0]], dtype=uint8),\n",
       " matrix([[0, 0, 1, 0, 1, 0, 1]], dtype=uint8),\n",
       " matrix([[0, 0, 1, 0, 1, 1, 0]], dtype=uint8),\n",
       " matrix([[0, 0, 1, 0, 1, 1, 1]], dtype=uint8),\n",
       " matrix([[0, 0, 1, 1, 0, 0, 0]], dtype=uint8),\n",
       " matrix([[0, 0, 1, 1, 0, 0, 1]], dtype=uint8),\n",
       " matrix([[0, 0, 1, 1, 0, 1, 0]], dtype=uint8),\n",
       " matrix([[0, 0, 1, 1, 0, 1, 1]], dtype=uint8),\n",
       " matrix([[0, 0, 1, 1, 1, 0, 0]], dtype=uint8),\n",
       " matrix([[0, 0, 1, 1, 1, 0, 1]], dtype=uint8),\n",
       " matrix([[0, 0, 1, 1, 1, 1, 0]], dtype=uint8),\n",
       " matrix([[0, 0, 1, 1, 1, 1, 1]], dtype=uint8),\n",
       " matrix([[0, 1, 0, 0, 0, 0, 0]], dtype=uint8),\n",
       " matrix([[0, 1, 0, 0, 0, 0, 1]], dtype=uint8),\n",
       " matrix([[0, 1, 0, 0, 0, 1, 0]], dtype=uint8),\n",
       " matrix([[0, 1, 0, 0, 0, 1, 1]], dtype=uint8),\n",
       " matrix([[0, 1, 0, 0, 1, 0, 0]], dtype=uint8),\n",
       " matrix([[0, 1, 0, 0, 1, 0, 1]], dtype=uint8),\n",
       " matrix([[0, 1, 0, 0, 1, 1, 0]], dtype=uint8),\n",
       " matrix([[0, 1, 0, 0, 1, 1, 1]], dtype=uint8),\n",
       " matrix([[0, 1, 0, 1, 0, 0, 0]], dtype=uint8),\n",
       " matrix([[0, 1, 0, 1, 0, 0, 1]], dtype=uint8),\n",
       " matrix([[0, 1, 0, 1, 0, 1, 0]], dtype=uint8),\n",
       " matrix([[0, 1, 0, 1, 0, 1, 1]], dtype=uint8),\n",
       " matrix([[0, 1, 0, 1, 1, 0, 0]], dtype=uint8),\n",
       " matrix([[0, 1, 0, 1, 1, 0, 1]], dtype=uint8),\n",
       " matrix([[0, 1, 0, 1, 1, 1, 0]], dtype=uint8),\n",
       " matrix([[0, 1, 0, 1, 1, 1, 1]], dtype=uint8),\n",
       " matrix([[0, 1, 1, 0, 0, 0, 0]], dtype=uint8),\n",
       " matrix([[0, 1, 1, 0, 0, 0, 1]], dtype=uint8),\n",
       " matrix([[0, 1, 1, 0, 0, 1, 0]], dtype=uint8),\n",
       " matrix([[0, 1, 1, 0, 0, 1, 1]], dtype=uint8),\n",
       " matrix([[0, 1, 1, 0, 1, 0, 0]], dtype=uint8),\n",
       " matrix([[0, 1, 1, 0, 1, 0, 1]], dtype=uint8),\n",
       " matrix([[0, 1, 1, 0, 1, 1, 0]], dtype=uint8),\n",
       " matrix([[0, 1, 1, 0, 1, 1, 1]], dtype=uint8),\n",
       " matrix([[0, 1, 1, 1, 0, 0, 0]], dtype=uint8),\n",
       " matrix([[0, 1, 1, 1, 0, 0, 1]], dtype=uint8),\n",
       " matrix([[0, 1, 1, 1, 0, 1, 0]], dtype=uint8),\n",
       " matrix([[0, 1, 1, 1, 0, 1, 1]], dtype=uint8),\n",
       " matrix([[0, 1, 1, 1, 1, 0, 0]], dtype=uint8),\n",
       " matrix([[0, 1, 1, 1, 1, 0, 1]], dtype=uint8),\n",
       " matrix([[0, 1, 1, 1, 1, 1, 0]], dtype=uint8),\n",
       " matrix([[0, 1, 1, 1, 1, 1, 1]], dtype=uint8),\n",
       " matrix([[1, 0, 0, 0, 0, 0, 0]], dtype=uint8),\n",
       " matrix([[1, 0, 0, 0, 0, 0, 1]], dtype=uint8),\n",
       " matrix([[1, 0, 0, 0, 0, 1, 0]], dtype=uint8),\n",
       " matrix([[1, 0, 0, 0, 0, 1, 1]], dtype=uint8),\n",
       " matrix([[1, 0, 0, 0, 1, 0, 0]], dtype=uint8),\n",
       " matrix([[1, 0, 0, 0, 1, 0, 1]], dtype=uint8),\n",
       " matrix([[1, 0, 0, 0, 1, 1, 0]], dtype=uint8),\n",
       " matrix([[1, 0, 0, 0, 1, 1, 1]], dtype=uint8),\n",
       " matrix([[1, 0, 0, 1, 0, 0, 0]], dtype=uint8),\n",
       " matrix([[1, 0, 0, 1, 0, 0, 1]], dtype=uint8),\n",
       " matrix([[1, 0, 0, 1, 0, 1, 0]], dtype=uint8),\n",
       " matrix([[1, 0, 0, 1, 0, 1, 1]], dtype=uint8),\n",
       " matrix([[1, 0, 0, 1, 1, 0, 0]], dtype=uint8),\n",
       " matrix([[1, 0, 0, 1, 1, 0, 1]], dtype=uint8),\n",
       " matrix([[1, 0, 0, 1, 1, 1, 0]], dtype=uint8),\n",
       " matrix([[1, 0, 0, 1, 1, 1, 1]], dtype=uint8),\n",
       " matrix([[1, 0, 1, 0, 0, 0, 0]], dtype=uint8),\n",
       " matrix([[1, 0, 1, 0, 0, 0, 1]], dtype=uint8),\n",
       " matrix([[1, 0, 1, 0, 0, 1, 0]], dtype=uint8),\n",
       " matrix([[1, 0, 1, 0, 0, 1, 1]], dtype=uint8),\n",
       " matrix([[1, 0, 1, 0, 1, 0, 0]], dtype=uint8),\n",
       " matrix([[1, 0, 1, 0, 1, 0, 1]], dtype=uint8),\n",
       " matrix([[1, 0, 1, 0, 1, 1, 0]], dtype=uint8),\n",
       " matrix([[1, 0, 1, 0, 1, 1, 1]], dtype=uint8),\n",
       " matrix([[1, 0, 1, 1, 0, 0, 0]], dtype=uint8),\n",
       " matrix([[1, 0, 1, 1, 0, 0, 1]], dtype=uint8),\n",
       " matrix([[1, 0, 1, 1, 0, 1, 0]], dtype=uint8),\n",
       " matrix([[1, 0, 1, 1, 0, 1, 1]], dtype=uint8),\n",
       " matrix([[1, 0, 1, 1, 1, 0, 0]], dtype=uint8),\n",
       " matrix([[1, 0, 1, 1, 1, 0, 1]], dtype=uint8),\n",
       " matrix([[1, 0, 1, 1, 1, 1, 0]], dtype=uint8),\n",
       " matrix([[1, 0, 1, 1, 1, 1, 1]], dtype=uint8),\n",
       " matrix([[1, 1, 0, 0, 0, 0, 0]], dtype=uint8),\n",
       " matrix([[1, 1, 0, 0, 0, 0, 1]], dtype=uint8),\n",
       " matrix([[1, 1, 0, 0, 0, 1, 0]], dtype=uint8),\n",
       " matrix([[1, 1, 0, 0, 0, 1, 1]], dtype=uint8),\n",
       " matrix([[1, 1, 0, 0, 1, 0, 0]], dtype=uint8),\n",
       " matrix([[1, 1, 0, 0, 1, 0, 1]], dtype=uint8),\n",
       " matrix([[1, 1, 0, 0, 1, 1, 0]], dtype=uint8),\n",
       " matrix([[1, 1, 0, 0, 1, 1, 1]], dtype=uint8),\n",
       " matrix([[1, 1, 0, 1, 0, 0, 0]], dtype=uint8),\n",
       " matrix([[1, 1, 0, 1, 0, 0, 1]], dtype=uint8),\n",
       " matrix([[1, 1, 0, 1, 0, 1, 0]], dtype=uint8),\n",
       " matrix([[1, 1, 0, 1, 0, 1, 1]], dtype=uint8),\n",
       " matrix([[1, 1, 0, 1, 1, 0, 0]], dtype=uint8),\n",
       " matrix([[1, 1, 0, 1, 1, 0, 1]], dtype=uint8),\n",
       " matrix([[1, 1, 0, 1, 1, 1, 0]], dtype=uint8),\n",
       " matrix([[1, 1, 0, 1, 1, 1, 1]], dtype=uint8),\n",
       " matrix([[1, 1, 1, 0, 0, 0, 0]], dtype=uint8),\n",
       " matrix([[1, 1, 1, 0, 0, 0, 1]], dtype=uint8),\n",
       " matrix([[1, 1, 1, 0, 0, 1, 0]], dtype=uint8),\n",
       " matrix([[1, 1, 1, 0, 0, 1, 1]], dtype=uint8),\n",
       " matrix([[1, 1, 1, 0, 1, 0, 0]], dtype=uint8),\n",
       " matrix([[1, 1, 1, 0, 1, 0, 1]], dtype=uint8),\n",
       " matrix([[1, 1, 1, 0, 1, 1, 0]], dtype=uint8),\n",
       " matrix([[1, 1, 1, 0, 1, 1, 1]], dtype=uint8),\n",
       " matrix([[1, 1, 1, 1, 0, 0, 0]], dtype=uint8),\n",
       " matrix([[1, 1, 1, 1, 0, 0, 1]], dtype=uint8),\n",
       " matrix([[1, 1, 1, 1, 0, 1, 0]], dtype=uint8),\n",
       " matrix([[1, 1, 1, 1, 0, 1, 1]], dtype=uint8),\n",
       " matrix([[1, 1, 1, 1, 1, 0, 0]], dtype=uint8),\n",
       " matrix([[1, 1, 1, 1, 1, 0, 1]], dtype=uint8),\n",
       " matrix([[1, 1, 1, 1, 1, 1, 0]], dtype=uint8),\n",
       " matrix([[1, 1, 1, 1, 1, 1, 1]], dtype=uint8)]"
      ]
     },
     "execution_count": 56,
     "metadata": {},
     "output_type": "execute_result"
    }
   ],
   "source": [
    "# 全誤りパターン (ただの7桁の全数値)\n",
    "all_errors_str = [format(i, f\"0{n}b\") for i in range(1 << n)]\n",
    "all_errors_matrix = [np.matrix([int(j) for j in i], dtype=\"u1\") for i in all_errors_str]\n",
    "all_errors_matrix"
   ]
  },
  {
   "cell_type": "code",
   "execution_count": 61,
   "id": "f04afded",
   "metadata": {},
   "outputs": [
    {
     "ename": "NameError",
     "evalue": "name 'pritn' is not defined",
     "output_type": "error",
     "traceback": [
      "\u001b[0;31m---------------------------------------------------------------------------\u001b[0m",
      "\u001b[0;31mNameError\u001b[0m                                 Traceback (most recent call last)",
      "Input \u001b[0;32mIn [61]\u001b[0m, in \u001b[0;36m<cell line: 2>\u001b[0;34m()\u001b[0m\n\u001b[1;32m      2\u001b[0m \u001b[38;5;28;01mfor\u001b[39;00m i \u001b[38;5;129;01min\u001b[39;00m \u001b[38;5;28mrange\u001b[39m(n \u001b[38;5;241m+\u001b[39m \u001b[38;5;241m1\u001b[39m):\n\u001b[1;32m      3\u001b[0m     error_bits_count_dict[i] \u001b[38;5;241m=\u001b[39m [j \u001b[38;5;28;01mfor\u001b[39;00m j \u001b[38;5;129;01min\u001b[39;00m all_errors_matrix \u001b[38;5;28;01mif\u001b[39;00m j\u001b[38;5;241m.\u001b[39msum() \u001b[38;5;241m==\u001b[39m i]\n\u001b[0;32m----> 4\u001b[0m     \u001b[43mpritn\u001b[49m(\u001b[38;5;28mlen\u001b[39m(error_bits_count_dict[i]))\n\u001b[1;32m      5\u001b[0m \u001b[38;5;28mprint\u001b[39m(error_bits_count_dict)\n",
      "\u001b[0;31mNameError\u001b[0m: name 'pritn' is not defined"
     ]
    }
   ],
   "source": [
    "error_bits_count_dict = {}\n",
    "for i in range(n + 1):\n",
    "    error_bits_count_dict[i] = [j for j in all_errors_matrix if j.sum() == i]\n",
    "    print(len(error_bits_count_dict[i]))\n",
    "print(error_bits_count_dict)"
   ]
  },
  {
   "cell_type": "code",
   "execution_count": 59,
   "id": "6d09191e",
   "metadata": {},
   "outputs": [
    {
     "data": {
      "text/plain": [
       "[matrix([[0, 0, 0, 0, 1, 1, 1]], dtype=uint8),\n",
       " matrix([[0, 0, 0, 1, 0, 1, 1]], dtype=uint8),\n",
       " matrix([[0, 0, 0, 1, 1, 0, 1]], dtype=uint8),\n",
       " matrix([[0, 0, 0, 1, 1, 1, 0]], dtype=uint8),\n",
       " matrix([[0, 0, 1, 0, 0, 1, 1]], dtype=uint8),\n",
       " matrix([[0, 0, 1, 0, 1, 0, 1]], dtype=uint8),\n",
       " matrix([[0, 0, 1, 0, 1, 1, 0]], dtype=uint8),\n",
       " matrix([[0, 0, 1, 1, 0, 0, 1]], dtype=uint8),\n",
       " matrix([[0, 0, 1, 1, 0, 1, 0]], dtype=uint8),\n",
       " matrix([[0, 0, 1, 1, 1, 0, 0]], dtype=uint8),\n",
       " matrix([[0, 1, 0, 0, 0, 1, 1]], dtype=uint8),\n",
       " matrix([[0, 1, 0, 0, 1, 0, 1]], dtype=uint8),\n",
       " matrix([[0, 1, 0, 0, 1, 1, 0]], dtype=uint8),\n",
       " matrix([[0, 1, 0, 1, 0, 0, 1]], dtype=uint8),\n",
       " matrix([[0, 1, 0, 1, 0, 1, 0]], dtype=uint8),\n",
       " matrix([[0, 1, 0, 1, 1, 0, 0]], dtype=uint8),\n",
       " matrix([[0, 1, 1, 0, 0, 0, 1]], dtype=uint8),\n",
       " matrix([[0, 1, 1, 0, 0, 1, 0]], dtype=uint8),\n",
       " matrix([[0, 1, 1, 0, 1, 0, 0]], dtype=uint8),\n",
       " matrix([[0, 1, 1, 1, 0, 0, 0]], dtype=uint8),\n",
       " matrix([[1, 0, 0, 0, 0, 1, 1]], dtype=uint8),\n",
       " matrix([[1, 0, 0, 0, 1, 0, 1]], dtype=uint8),\n",
       " matrix([[1, 0, 0, 0, 1, 1, 0]], dtype=uint8),\n",
       " matrix([[1, 0, 0, 1, 0, 0, 1]], dtype=uint8),\n",
       " matrix([[1, 0, 0, 1, 0, 1, 0]], dtype=uint8),\n",
       " matrix([[1, 0, 0, 1, 1, 0, 0]], dtype=uint8),\n",
       " matrix([[1, 0, 1, 0, 0, 0, 1]], dtype=uint8),\n",
       " matrix([[1, 0, 1, 0, 0, 1, 0]], dtype=uint8),\n",
       " matrix([[1, 0, 1, 0, 1, 0, 0]], dtype=uint8),\n",
       " matrix([[1, 0, 1, 1, 0, 0, 0]], dtype=uint8),\n",
       " matrix([[1, 1, 0, 0, 0, 0, 1]], dtype=uint8),\n",
       " matrix([[1, 1, 0, 0, 0, 1, 0]], dtype=uint8),\n",
       " matrix([[1, 1, 0, 0, 1, 0, 0]], dtype=uint8),\n",
       " matrix([[1, 1, 0, 1, 0, 0, 0]], dtype=uint8),\n",
       " matrix([[1, 1, 1, 0, 0, 0, 0]], dtype=uint8)]"
      ]
     },
     "execution_count": 59,
     "metadata": {},
     "output_type": "execute_result"
    }
   ],
   "source": []
  },
  {
   "cell_type": "code",
   "execution_count": null,
   "id": "936f32cc",
   "metadata": {},
   "outputs": [],
   "source": []
  }
 ],
 "metadata": {
  "kernelspec": {
   "display_name": "Python 3 (ipykernel)",
   "language": "python",
   "name": "python3"
  },
  "language_info": {
   "codemirror_mode": {
    "name": "ipython",
    "version": 3
   },
   "file_extension": ".py",
   "mimetype": "text/x-python",
   "name": "python",
   "nbconvert_exporter": "python",
   "pygments_lexer": "ipython3",
   "version": "3.9.6"
  }
 },
 "nbformat": 4,
 "nbformat_minor": 5
}
