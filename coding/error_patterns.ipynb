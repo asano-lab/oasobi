{
 "cells": [
  {
   "cell_type": "markdown",
   "id": "da8bc520",
   "metadata": {},
   "source": [
    "# (7, 4)ハミング符号のビット誤り率を知りたい"
   ]
  },
  {
   "cell_type": "code",
   "execution_count": 1,
   "id": "539ccdfb",
   "metadata": {},
   "outputs": [],
   "source": [
    "import numpy as np"
   ]
  },
  {
   "cell_type": "code",
   "execution_count": 17,
   "id": "de123e34",
   "metadata": {},
   "outputs": [
    {
     "data": {
      "text/plain": [
       "matrix([[1, 1, 1],\n",
       "        [0, 1, 1],\n",
       "        [1, 0, 1],\n",
       "        [1, 1, 0],\n",
       "        [1, 0, 0],\n",
       "        [0, 1, 0],\n",
       "        [0, 0, 1]], dtype=uint8)"
      ]
     },
     "execution_count": 17,
     "metadata": {},
     "output_type": "execute_result"
    }
   ],
   "source": [
    "G = np.matrix([\n",
    "    [1, 0, 0, 0, 1, 1, 1],\n",
    "    [0, 1, 0, 0, 0, 1, 1],\n",
    "    [0, 0, 1, 0, 1, 0, 1],\n",
    "    [0, 0, 0, 1, 1, 1, 0]\n",
    "], dtype=\"u1\")\n",
    "\n",
    "k, n = G.shape\n",
    "\n",
    "P = G[:, k:]\n",
    "H = np.concatenate([P.T, np.identity(n - k, dtype=\"u1\")], axis=1)"
   ]
  },
  {
   "cell_type": "code",
   "execution_count": 50,
   "id": "69eb4a6e",
   "metadata": {},
   "outputs": [
    {
     "data": {
      "text/plain": [
       "matrix([[0, 0, 0, 1]], dtype=uint8)"
      ]
     },
     "execution_count": 50,
     "metadata": {},
     "output_type": "execute_result"
    }
   ],
   "source": [
    "N = 1\n",
    "u = np.random.randint(0, 2, (N, k), dtype=\"u1\")\n",
    "u = np.matrix(u)\n",
    "u"
   ]
  },
  {
   "cell_type": "code",
   "execution_count": 51,
   "id": "8ab362c9",
   "metadata": {},
   "outputs": [
    {
     "data": {
      "text/plain": [
       "matrix([[0, 0, 0, 1, 1, 1, 0]], dtype=uint8)"
      ]
     },
     "execution_count": 51,
     "metadata": {},
     "output_type": "execute_result"
    }
   ],
   "source": [
    "w = u * G & 1\n",
    "w"
   ]
  },
  {
   "cell_type": "code",
   "execution_count": 56,
   "id": "8e4caf43",
   "metadata": {},
   "outputs": [
    {
     "data": {
      "text/plain": [
       "[matrix([[0, 0, 0, 0, 0, 0, 0]], dtype=uint8),\n",
       " matrix([[0, 0, 0, 0, 0, 0, 1]], dtype=uint8),\n",
       " matrix([[0, 0, 0, 0, 0, 1, 0]], dtype=uint8),\n",
       " matrix([[0, 0, 0, 0, 0, 1, 1]], dtype=uint8),\n",
       " matrix([[0, 0, 0, 0, 1, 0, 0]], dtype=uint8),\n",
       " matrix([[0, 0, 0, 0, 1, 0, 1]], dtype=uint8),\n",
       " matrix([[0, 0, 0, 0, 1, 1, 0]], dtype=uint8),\n",
       " matrix([[0, 0, 0, 0, 1, 1, 1]], dtype=uint8),\n",
       " matrix([[0, 0, 0, 1, 0, 0, 0]], dtype=uint8),\n",
       " matrix([[0, 0, 0, 1, 0, 0, 1]], dtype=uint8),\n",
       " matrix([[0, 0, 0, 1, 0, 1, 0]], dtype=uint8),\n",
       " matrix([[0, 0, 0, 1, 0, 1, 1]], dtype=uint8),\n",
       " matrix([[0, 0, 0, 1, 1, 0, 0]], dtype=uint8),\n",
       " matrix([[0, 0, 0, 1, 1, 0, 1]], dtype=uint8),\n",
       " matrix([[0, 0, 0, 1, 1, 1, 0]], dtype=uint8),\n",
       " matrix([[0, 0, 0, 1, 1, 1, 1]], dtype=uint8),\n",
       " matrix([[0, 0, 1, 0, 0, 0, 0]], dtype=uint8),\n",
       " matrix([[0, 0, 1, 0, 0, 0, 1]], dtype=uint8),\n",
       " matrix([[0, 0, 1, 0, 0, 1, 0]], dtype=uint8),\n",
       " matrix([[0, 0, 1, 0, 0, 1, 1]], dtype=uint8),\n",
       " matrix([[0, 0, 1, 0, 1, 0, 0]], dtype=uint8),\n",
       " matrix([[0, 0, 1, 0, 1, 0, 1]], dtype=uint8),\n",
       " matrix([[0, 0, 1, 0, 1, 1, 0]], dtype=uint8),\n",
       " matrix([[0, 0, 1, 0, 1, 1, 1]], dtype=uint8),\n",
       " matrix([[0, 0, 1, 1, 0, 0, 0]], dtype=uint8),\n",
       " matrix([[0, 0, 1, 1, 0, 0, 1]], dtype=uint8),\n",
       " matrix([[0, 0, 1, 1, 0, 1, 0]], dtype=uint8),\n",
       " matrix([[0, 0, 1, 1, 0, 1, 1]], dtype=uint8),\n",
       " matrix([[0, 0, 1, 1, 1, 0, 0]], dtype=uint8),\n",
       " matrix([[0, 0, 1, 1, 1, 0, 1]], dtype=uint8),\n",
       " matrix([[0, 0, 1, 1, 1, 1, 0]], dtype=uint8),\n",
       " matrix([[0, 0, 1, 1, 1, 1, 1]], dtype=uint8),\n",
       " matrix([[0, 1, 0, 0, 0, 0, 0]], dtype=uint8),\n",
       " matrix([[0, 1, 0, 0, 0, 0, 1]], dtype=uint8),\n",
       " matrix([[0, 1, 0, 0, 0, 1, 0]], dtype=uint8),\n",
       " matrix([[0, 1, 0, 0, 0, 1, 1]], dtype=uint8),\n",
       " matrix([[0, 1, 0, 0, 1, 0, 0]], dtype=uint8),\n",
       " matrix([[0, 1, 0, 0, 1, 0, 1]], dtype=uint8),\n",
       " matrix([[0, 1, 0, 0, 1, 1, 0]], dtype=uint8),\n",
       " matrix([[0, 1, 0, 0, 1, 1, 1]], dtype=uint8),\n",
       " matrix([[0, 1, 0, 1, 0, 0, 0]], dtype=uint8),\n",
       " matrix([[0, 1, 0, 1, 0, 0, 1]], dtype=uint8),\n",
       " matrix([[0, 1, 0, 1, 0, 1, 0]], dtype=uint8),\n",
       " matrix([[0, 1, 0, 1, 0, 1, 1]], dtype=uint8),\n",
       " matrix([[0, 1, 0, 1, 1, 0, 0]], dtype=uint8),\n",
       " matrix([[0, 1, 0, 1, 1, 0, 1]], dtype=uint8),\n",
       " matrix([[0, 1, 0, 1, 1, 1, 0]], dtype=uint8),\n",
       " matrix([[0, 1, 0, 1, 1, 1, 1]], dtype=uint8),\n",
       " matrix([[0, 1, 1, 0, 0, 0, 0]], dtype=uint8),\n",
       " matrix([[0, 1, 1, 0, 0, 0, 1]], dtype=uint8),\n",
       " matrix([[0, 1, 1, 0, 0, 1, 0]], dtype=uint8),\n",
       " matrix([[0, 1, 1, 0, 0, 1, 1]], dtype=uint8),\n",
       " matrix([[0, 1, 1, 0, 1, 0, 0]], dtype=uint8),\n",
       " matrix([[0, 1, 1, 0, 1, 0, 1]], dtype=uint8),\n",
       " matrix([[0, 1, 1, 0, 1, 1, 0]], dtype=uint8),\n",
       " matrix([[0, 1, 1, 0, 1, 1, 1]], dtype=uint8),\n",
       " matrix([[0, 1, 1, 1, 0, 0, 0]], dtype=uint8),\n",
       " matrix([[0, 1, 1, 1, 0, 0, 1]], dtype=uint8),\n",
       " matrix([[0, 1, 1, 1, 0, 1, 0]], dtype=uint8),\n",
       " matrix([[0, 1, 1, 1, 0, 1, 1]], dtype=uint8),\n",
       " matrix([[0, 1, 1, 1, 1, 0, 0]], dtype=uint8),\n",
       " matrix([[0, 1, 1, 1, 1, 0, 1]], dtype=uint8),\n",
       " matrix([[0, 1, 1, 1, 1, 1, 0]], dtype=uint8),\n",
       " matrix([[0, 1, 1, 1, 1, 1, 1]], dtype=uint8),\n",
       " matrix([[1, 0, 0, 0, 0, 0, 0]], dtype=uint8),\n",
       " matrix([[1, 0, 0, 0, 0, 0, 1]], dtype=uint8),\n",
       " matrix([[1, 0, 0, 0, 0, 1, 0]], dtype=uint8),\n",
       " matrix([[1, 0, 0, 0, 0, 1, 1]], dtype=uint8),\n",
       " matrix([[1, 0, 0, 0, 1, 0, 0]], dtype=uint8),\n",
       " matrix([[1, 0, 0, 0, 1, 0, 1]], dtype=uint8),\n",
       " matrix([[1, 0, 0, 0, 1, 1, 0]], dtype=uint8),\n",
       " matrix([[1, 0, 0, 0, 1, 1, 1]], dtype=uint8),\n",
       " matrix([[1, 0, 0, 1, 0, 0, 0]], dtype=uint8),\n",
       " matrix([[1, 0, 0, 1, 0, 0, 1]], dtype=uint8),\n",
       " matrix([[1, 0, 0, 1, 0, 1, 0]], dtype=uint8),\n",
       " matrix([[1, 0, 0, 1, 0, 1, 1]], dtype=uint8),\n",
       " matrix([[1, 0, 0, 1, 1, 0, 0]], dtype=uint8),\n",
       " matrix([[1, 0, 0, 1, 1, 0, 1]], dtype=uint8),\n",
       " matrix([[1, 0, 0, 1, 1, 1, 0]], dtype=uint8),\n",
       " matrix([[1, 0, 0, 1, 1, 1, 1]], dtype=uint8),\n",
       " matrix([[1, 0, 1, 0, 0, 0, 0]], dtype=uint8),\n",
       " matrix([[1, 0, 1, 0, 0, 0, 1]], dtype=uint8),\n",
       " matrix([[1, 0, 1, 0, 0, 1, 0]], dtype=uint8),\n",
       " matrix([[1, 0, 1, 0, 0, 1, 1]], dtype=uint8),\n",
       " matrix([[1, 0, 1, 0, 1, 0, 0]], dtype=uint8),\n",
       " matrix([[1, 0, 1, 0, 1, 0, 1]], dtype=uint8),\n",
       " matrix([[1, 0, 1, 0, 1, 1, 0]], dtype=uint8),\n",
       " matrix([[1, 0, 1, 0, 1, 1, 1]], dtype=uint8),\n",
       " matrix([[1, 0, 1, 1, 0, 0, 0]], dtype=uint8),\n",
       " matrix([[1, 0, 1, 1, 0, 0, 1]], dtype=uint8),\n",
       " matrix([[1, 0, 1, 1, 0, 1, 0]], dtype=uint8),\n",
       " matrix([[1, 0, 1, 1, 0, 1, 1]], dtype=uint8),\n",
       " matrix([[1, 0, 1, 1, 1, 0, 0]], dtype=uint8),\n",
       " matrix([[1, 0, 1, 1, 1, 0, 1]], dtype=uint8),\n",
       " matrix([[1, 0, 1, 1, 1, 1, 0]], dtype=uint8),\n",
       " matrix([[1, 0, 1, 1, 1, 1, 1]], dtype=uint8),\n",
       " matrix([[1, 1, 0, 0, 0, 0, 0]], dtype=uint8),\n",
       " matrix([[1, 1, 0, 0, 0, 0, 1]], dtype=uint8),\n",
       " matrix([[1, 1, 0, 0, 0, 1, 0]], dtype=uint8),\n",
       " matrix([[1, 1, 0, 0, 0, 1, 1]], dtype=uint8),\n",
       " matrix([[1, 1, 0, 0, 1, 0, 0]], dtype=uint8),\n",
       " matrix([[1, 1, 0, 0, 1, 0, 1]], dtype=uint8),\n",
       " matrix([[1, 1, 0, 0, 1, 1, 0]], dtype=uint8),\n",
       " matrix([[1, 1, 0, 0, 1, 1, 1]], dtype=uint8),\n",
       " matrix([[1, 1, 0, 1, 0, 0, 0]], dtype=uint8),\n",
       " matrix([[1, 1, 0, 1, 0, 0, 1]], dtype=uint8),\n",
       " matrix([[1, 1, 0, 1, 0, 1, 0]], dtype=uint8),\n",
       " matrix([[1, 1, 0, 1, 0, 1, 1]], dtype=uint8),\n",
       " matrix([[1, 1, 0, 1, 1, 0, 0]], dtype=uint8),\n",
       " matrix([[1, 1, 0, 1, 1, 0, 1]], dtype=uint8),\n",
       " matrix([[1, 1, 0, 1, 1, 1, 0]], dtype=uint8),\n",
       " matrix([[1, 1, 0, 1, 1, 1, 1]], dtype=uint8),\n",
       " matrix([[1, 1, 1, 0, 0, 0, 0]], dtype=uint8),\n",
       " matrix([[1, 1, 1, 0, 0, 0, 1]], dtype=uint8),\n",
       " matrix([[1, 1, 1, 0, 0, 1, 0]], dtype=uint8),\n",
       " matrix([[1, 1, 1, 0, 0, 1, 1]], dtype=uint8),\n",
       " matrix([[1, 1, 1, 0, 1, 0, 0]], dtype=uint8),\n",
       " matrix([[1, 1, 1, 0, 1, 0, 1]], dtype=uint8),\n",
       " matrix([[1, 1, 1, 0, 1, 1, 0]], dtype=uint8),\n",
       " matrix([[1, 1, 1, 0, 1, 1, 1]], dtype=uint8),\n",
       " matrix([[1, 1, 1, 1, 0, 0, 0]], dtype=uint8),\n",
       " matrix([[1, 1, 1, 1, 0, 0, 1]], dtype=uint8),\n",
       " matrix([[1, 1, 1, 1, 0, 1, 0]], dtype=uint8),\n",
       " matrix([[1, 1, 1, 1, 0, 1, 1]], dtype=uint8),\n",
       " matrix([[1, 1, 1, 1, 1, 0, 0]], dtype=uint8),\n",
       " matrix([[1, 1, 1, 1, 1, 0, 1]], dtype=uint8),\n",
       " matrix([[1, 1, 1, 1, 1, 1, 0]], dtype=uint8),\n",
       " matrix([[1, 1, 1, 1, 1, 1, 1]], dtype=uint8)]"
      ]
     },
     "execution_count": 56,
     "metadata": {},
     "output_type": "execute_result"
    }
   ],
   "source": [
    "# 全誤りパターン (ただの7桁の全数値)\n",
    "all_errors_str = [format(i, f\"0{n}b\") for i in range(1 << n)]\n",
    "all_errors_matrix = [np.matrix([int(j) for j in i], dtype=\"u1\") for i in all_errors_str]\n",
    "all_errors_matrix"
   ]
  },
  {
   "cell_type": "code",
   "execution_count": 63,
   "id": "30cc9f1e",
   "metadata": {},
   "outputs": [],
   "source": [
    "error_bits_count_dict = {}\n",
    "for i in range(n + 1):\n",
    "    error_bits_count_dict[i] = [j for j in all_errors_matrix if j.sum() == i]"
   ]
  },
  {
   "cell_type": "code",
   "execution_count": 93,
   "id": "9462e79e",
   "metadata": {},
   "outputs": [
    {
     "data": {
      "text/plain": [
       "matrix([[1, 0, 0, 0, 0, 0, 0]], dtype=uint8)"
      ]
     },
     "execution_count": 93,
     "metadata": {},
     "output_type": "execute_result"
    }
   ],
   "source": [
    "e = np.matrix(np.random.random((N, n)) < 1/7, dtype=\"u1\")\n",
    "e"
   ]
  },
  {
   "cell_type": "code",
   "execution_count": 94,
   "id": "b826e19e",
   "metadata": {},
   "outputs": [
    {
     "data": {
      "text/plain": [
       "matrix([[1, 0, 0, 1, 1, 1, 0]], dtype=uint8)"
      ]
     },
     "execution_count": 94,
     "metadata": {},
     "output_type": "execute_result"
    }
   ],
   "source": [
    "r = w ^ e\n",
    "r"
   ]
  },
  {
   "cell_type": "code",
   "execution_count": 96,
   "id": "278b82ff",
   "metadata": {},
   "outputs": [
    {
     "data": {
      "text/plain": [
       "matrix([[1, 1, 1]], dtype=uint8)"
      ]
     },
     "execution_count": 96,
     "metadata": {},
     "output_type": "execute_result"
    }
   ],
   "source": [
    "s = r * H.T & 1\n",
    "s"
   ]
  },
  {
   "cell_type": "code",
   "execution_count": 97,
   "id": "441b4afe",
   "metadata": {},
   "outputs": [
    {
     "data": {
      "text/plain": [
       "matrix([[1, 0, 0, 0, 0, 0, 0]], dtype=uint8)"
      ]
     },
     "execution_count": 97,
     "metadata": {},
     "output_type": "execute_result"
    }
   ],
   "source": [
    "est_e = np.matrix([np.array_equal(row, s) for row in H.T], dtype=\"u1\")\n",
    "est_e"
   ]
  },
  {
   "cell_type": "code",
   "execution_count": 98,
   "id": "3087379e",
   "metadata": {},
   "outputs": [
    {
     "data": {
      "text/plain": [
       "matrix([[0, 0, 0, 1, 1, 1, 0]], dtype=uint8)"
      ]
     },
     "execution_count": 98,
     "metadata": {},
     "output_type": "execute_result"
    }
   ],
   "source": [
    "est_w = r ^ est_e\n",
    "est_w"
   ]
  },
  {
   "cell_type": "code",
   "execution_count": 99,
   "id": "94a0b989",
   "metadata": {},
   "outputs": [
    {
     "data": {
      "text/plain": [
       "matrix([[0, 0, 0, 1]], dtype=uint8)"
      ]
     },
     "execution_count": 99,
     "metadata": {},
     "output_type": "execute_result"
    }
   ],
   "source": [
    "est_u = est_w[:, :k]\n",
    "est_u"
   ]
  },
  {
   "cell_type": "code",
   "execution_count": 107,
   "id": "5e6d48c8",
   "metadata": {},
   "outputs": [
    {
     "name": "stdout",
     "output_type": "stream",
     "text": [
      "[[1 1 1 1]]\n"
     ]
    }
   ],
   "source": [
    "n_error_patterns = error_bits_count_dict[1]\n",
    "for e in n_error_patterns:\n",
    "    r = w ^ e\n",
    "    s = r * H.T & 1\n",
    "    est_e = np.matrix([np.array_equal(row, s) for row in H.T], dtype=\"u1\")\n",
    "    est_w = r ^ est_e\n",
    "    est_u = est_w[:, :k]\n",
    "    dif_u = u ^ est_u\n",
    "    print(dif_u)"
   ]
  },
  {
   "cell_type": "code",
   "execution_count": null,
   "id": "c181e2d6",
   "metadata": {},
   "outputs": [],
   "source": []
  }
 ],
 "metadata": {
  "kernelspec": {
   "display_name": "Python 3 (ipykernel)",
   "language": "python",
   "name": "python3"
  },
  "language_info": {
   "codemirror_mode": {
    "name": "ipython",
    "version": 3
   },
   "file_extension": ".py",
   "mimetype": "text/x-python",
   "name": "python",
   "nbconvert_exporter": "python",
   "pygments_lexer": "ipython3",
   "version": "3.9.6"
  }
 },
 "nbformat": 4,
 "nbformat_minor": 5
}
