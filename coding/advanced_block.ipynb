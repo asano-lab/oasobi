{
 "cells": [
  {
   "cell_type": "code",
   "execution_count": 89,
   "id": "f39f2550",
   "metadata": {},
   "outputs": [],
   "source": [
    "import numpy as np\n",
    "import pandas as pd"
   ]
  },
  {
   "cell_type": "code",
   "execution_count": 90,
   "id": "ff307a7c",
   "metadata": {},
   "outputs": [
    {
     "name": "stdout",
     "output_type": "stream",
     "text": [
      "[[1 0 1 0 1 1]\n",
      " [1 1 1 1 0 1]\n",
      " [0 1 1 0 0 1]]\n"
     ]
    },
    {
     "data": {
      "text/plain": [
       "(3, 6)"
      ]
     },
     "execution_count": 90,
     "metadata": {},
     "output_type": "execute_result"
    }
   ],
   "source": [
    "# 課題の生成行列\n",
    "G = np.matrix([\n",
    "    [1, 0, 1, 0, 1, 1],\n",
    "    [1, 1, 1, 1, 0, 1],\n",
    "    [0, 1, 1, 0, 0, 1]\n",
    "], dtype=\"u1\")\n",
    "\n",
    "# G = np.matrix([\n",
    "#     [1, 1, 0, 0, 1, 0, 0],\n",
    "#     [1, 0, 1, 0, 0, 1, 0],\n",
    "#     [1, 0, 0, 1, 0, 0, 1],\n",
    "#     [1, 1, 1, 0, 0, 0, 1]\n",
    "# ], dtype=\"u1\")\n",
    "\n",
    "k, n = G.shape\n",
    "print(G)\n",
    "k, n"
   ]
  },
  {
   "cell_type": "code",
   "execution_count": 91,
   "id": "5c41904a",
   "metadata": {},
   "outputs": [
    {
     "data": {
      "text/plain": [
       "matrix([[1, 0, 0, 1, 0, 0],\n",
       "        [0, 1, 0, 1, 1, 0],\n",
       "        [0, 0, 1, 1, 1, 1]], dtype=uint8)"
      ]
     },
     "execution_count": 91,
     "metadata": {},
     "output_type": "execute_result"
    }
   ],
   "source": [
    "k = G.shape[0]\n",
    "\n",
    "A = np.matrix(np.identity(k), dtype=\"u1\")\n",
    "G_src = G.copy()[:,:k]\n",
    "# print(G_src)\n",
    "for i in range(k):\n",
    "    col_i = np.array(G_src)[:,i]\n",
    "    if col_i[i] == 1:\n",
    "        A_i = np.identity(k)\n",
    "        A_i[:,i] = col_i\n",
    "        A_i = np.matrix(A_i, dtype=\"u1\")\n",
    "        A = A_i * A % 2\n",
    "        # print(f\"A_i=\\n{A_i}\")\n",
    "        # print(f\"A=\\n{A}\")\n",
    "        G_src = A_i * G_src % 2\n",
    "        # print(f\"掃き出し{i + 1}回目\")\n",
    "        # print(G_src)\n",
    "\n",
    "Tissue_G = A * G % 2\n",
    "Tissue_G"
   ]
  },
  {
   "cell_type": "code",
   "execution_count": 100,
   "id": "e5c97242",
   "metadata": {},
   "outputs": [
    {
     "data": {
      "text/plain": [
       "['001111', '010110', '011001', '100100', '101011', '110010', '111101']"
      ]
     },
     "execution_count": 100,
     "metadata": {},
     "output_type": "execute_result"
    }
   ],
   "source": [
    "all_src_ex0 = np.matrix([[int(j) for j in format(i, f\"0{k}b\")] for i in range(1, 2 ** k)], dtype=\"u1\")\n",
    "all_code_ex0 = all_src_ex0 * Tissue_G % 2\n",
    "all_code_ex0_str = [\"\".join(str(i) for i in l) for l in all_code_ex0.tolist()]\n",
    "all_code_ex0_str"
   ]
  },
  {
   "cell_type": "code",
   "execution_count": 124,
   "id": "fb5d9887",
   "metadata": {},
   "outputs": [
    {
     "data": {
      "text/plain": [
       "['000001', '000010', '000100', '001000', '010000', '100000', '100100']"
      ]
     },
     "execution_count": 124,
     "metadata": {},
     "output_type": "execute_result"
    }
   ],
   "source": [
    "# 1ビットエラー全パターン\n",
    "all_error_str = [format(2 ** i, f\"0{n}b\") for i in range(n)]\n",
    "# 適当に追加\n",
    "all_error_str += [\"100100\"]\n",
    "all_error = np.matrix([[int(j) for j in moji] for moji in all_error_str])\n",
    "all_error_str"
   ]
  },
  {
   "cell_type": "code",
   "execution_count": 125,
   "id": "19a8c255",
   "metadata": {
    "scrolled": false
   },
   "outputs": [
    {
     "data": {
      "text/html": [
       "<div>\n",
       "<style scoped>\n",
       "    .dataframe tbody tr th:only-of-type {\n",
       "        vertical-align: middle;\n",
       "    }\n",
       "\n",
       "    .dataframe tbody tr th {\n",
       "        vertical-align: top;\n",
       "    }\n",
       "\n",
       "    .dataframe thead th {\n",
       "        text-align: right;\n",
       "    }\n",
       "</style>\n",
       "<table border=\"1\" class=\"dataframe\">\n",
       "  <thead>\n",
       "    <tr style=\"text-align: right;\">\n",
       "      <th></th>\n",
       "      <th>001111</th>\n",
       "      <th>010110</th>\n",
       "      <th>011001</th>\n",
       "      <th>100100</th>\n",
       "      <th>101011</th>\n",
       "      <th>110010</th>\n",
       "      <th>111101</th>\n",
       "    </tr>\n",
       "  </thead>\n",
       "  <tbody>\n",
       "    <tr>\n",
       "      <th>000001</th>\n",
       "      <td>001110</td>\n",
       "      <td>010111</td>\n",
       "      <td>011000</td>\n",
       "      <td>100101</td>\n",
       "      <td>101010</td>\n",
       "      <td>110011</td>\n",
       "      <td>111100</td>\n",
       "    </tr>\n",
       "    <tr>\n",
       "      <th>000010</th>\n",
       "      <td>001101</td>\n",
       "      <td>010100</td>\n",
       "      <td>011011</td>\n",
       "      <td>100110</td>\n",
       "      <td>101001</td>\n",
       "      <td>110000</td>\n",
       "      <td>111111</td>\n",
       "    </tr>\n",
       "    <tr>\n",
       "      <th>000100</th>\n",
       "      <td>001011</td>\n",
       "      <td>010010</td>\n",
       "      <td>011101</td>\n",
       "      <td>100000</td>\n",
       "      <td>101111</td>\n",
       "      <td>110110</td>\n",
       "      <td>111001</td>\n",
       "    </tr>\n",
       "    <tr>\n",
       "      <th>001000</th>\n",
       "      <td>000111</td>\n",
       "      <td>011110</td>\n",
       "      <td>010001</td>\n",
       "      <td>101100</td>\n",
       "      <td>100011</td>\n",
       "      <td>111010</td>\n",
       "      <td>110101</td>\n",
       "    </tr>\n",
       "    <tr>\n",
       "      <th>010000</th>\n",
       "      <td>011111</td>\n",
       "      <td>000110</td>\n",
       "      <td>001001</td>\n",
       "      <td>110100</td>\n",
       "      <td>111011</td>\n",
       "      <td>100010</td>\n",
       "      <td>101101</td>\n",
       "    </tr>\n",
       "    <tr>\n",
       "      <th>100000</th>\n",
       "      <td>101111</td>\n",
       "      <td>110110</td>\n",
       "      <td>111001</td>\n",
       "      <td>000100</td>\n",
       "      <td>001011</td>\n",
       "      <td>010010</td>\n",
       "      <td>011101</td>\n",
       "    </tr>\n",
       "    <tr>\n",
       "      <th>100100</th>\n",
       "      <td>101011</td>\n",
       "      <td>110010</td>\n",
       "      <td>111101</td>\n",
       "      <td>000000</td>\n",
       "      <td>001111</td>\n",
       "      <td>010110</td>\n",
       "      <td>011001</td>\n",
       "    </tr>\n",
       "  </tbody>\n",
       "</table>\n",
       "</div>"
      ],
      "text/plain": [
       "        001111  010110  011001  100100  101011  110010  111101\n",
       "000001  001110  010111  011000  100101  101010  110011  111100\n",
       "000010  001101  010100  011011  100110  101001  110000  111111\n",
       "000100  001011  010010  011101  100000  101111  110110  111001\n",
       "001000  000111  011110  010001  101100  100011  111010  110101\n",
       "010000  011111  000110  001001  110100  111011  100010  101101\n",
       "100000  101111  110110  111001  000100  001011  010010  011101\n",
       "100100  101011  110010  111101  000000  001111  010110  011001"
      ]
     },
     "execution_count": 125,
     "metadata": {},
     "output_type": "execute_result"
    }
   ],
   "source": [
    "std_arr_values = [[\"\".join(str(k) for k in (e + w) % 2) for w in np.array(all_code_ex0)] for e in np.array(all_error)]\n",
    "# np.array(std_arr_values)\n",
    "std_arr_df = pd.DataFrame(std_arr_values, columns=all_code_ex0_str, index=all_error_str)\n",
    "std_arr_df"
   ]
  },
  {
   "cell_type": "code",
   "execution_count": 126,
   "id": "fa73c6ac",
   "metadata": {},
   "outputs": [
    {
     "data": {
      "text/plain": [
       "43"
      ]
     },
     "execution_count": 126,
     "metadata": {},
     "output_type": "execute_result"
    }
   ],
   "source": [
    "len(set(std_arr_df.values.ravel()))"
   ]
  },
  {
   "cell_type": "code",
   "execution_count": null,
   "id": "286b89f3",
   "metadata": {},
   "outputs": [],
   "source": []
  }
 ],
 "metadata": {
  "kernelspec": {
   "display_name": "Python 3 (ipykernel)",
   "language": "python",
   "name": "python3"
  },
  "language_info": {
   "codemirror_mode": {
    "name": "ipython",
    "version": 3
   },
   "file_extension": ".py",
   "mimetype": "text/x-python",
   "name": "python",
   "nbconvert_exporter": "python",
   "pygments_lexer": "ipython3",
   "version": "3.10.4"
  }
 },
 "nbformat": 4,
 "nbformat_minor": 5
}
