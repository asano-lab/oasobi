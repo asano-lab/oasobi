{
 "cells": [
  {
   "cell_type": "code",
   "execution_count": 8,
   "id": "274c6073",
   "metadata": {},
   "outputs": [],
   "source": [
    "import numpy as np\n",
    "import pandas as pd"
   ]
  },
  {
   "cell_type": "code",
   "execution_count": 69,
   "id": "e4243ece",
   "metadata": {},
   "outputs": [
    {
     "name": "stdout",
     "output_type": "stream",
     "text": [
      "[[1 1 0 0 1 0 0]\n",
      " [1 0 1 0 0 1 0]\n",
      " [1 0 0 1 0 0 1]\n",
      " [1 1 1 0 0 0 1]]\n"
     ]
    },
    {
     "data": {
      "text/plain": [
       "(4, 7)"
      ]
     },
     "execution_count": 69,
     "metadata": {},
     "output_type": "execute_result"
    }
   ],
   "source": [
    "# G = np.matrix([\n",
    "#     [1, 0, 1, 0, 1, 1],\n",
    "#     [1, 1, 1, 1, 0, 1],\n",
    "#     [0, 1, 1, 0, 0, 1]\n",
    "# ], dtype=\"u1\")\n",
    "\n",
    "G = np.matrix([\n",
    "    [1, 1, 0, 0, 1, 0, 0],\n",
    "    [1, 0, 1, 0, 0, 1, 0],\n",
    "    [1, 0, 0, 1, 0, 0, 1],\n",
    "    [1, 1, 1, 0, 0, 0, 1]\n",
    "], dtype=\"u1\")\n",
    "\n",
    "k, n = G.shape\n",
    "print(G)\n",
    "k, n"
   ]
  },
  {
   "cell_type": "code",
   "execution_count": 71,
   "id": "1e348064",
   "metadata": {},
   "outputs": [
    {
     "data": {
      "text/plain": [
       "matrix([[1, 0, 0, 0, 1, 1, 1],\n",
       "        [0, 1, 0, 0, 0, 1, 1],\n",
       "        [0, 0, 1, 0, 1, 0, 1],\n",
       "        [0, 0, 0, 1, 1, 1, 0]], dtype=uint8)"
      ]
     },
     "execution_count": 71,
     "metadata": {},
     "output_type": "execute_result"
    }
   ],
   "source": [
    "k = G.shape[0]\n",
    "\n",
    "A = np.matrix(np.identity(k), dtype=\"u1\")\n",
    "G_src = G.copy()[:,:k]\n",
    "# print(G_src)\n",
    "for i in range(k):\n",
    "    col_i = np.array(G_src)[:,i]\n",
    "    if col_i[i] == 1:\n",
    "        A_i = np.identity(k)\n",
    "        A_i[:,i] = col_i\n",
    "        A_i = np.matrix(A_i, dtype=\"u1\")\n",
    "        A = A_i * A % 2\n",
    "        # print(f\"A_i=\\n{A_i}\")\n",
    "        # print(f\"A=\\n{A}\")\n",
    "        G_src = A_i * G_src % 2\n",
    "        # print(f\"掃き出し{i + 1}回目\")\n",
    "        # print(G_src)\n",
    "\n",
    "Tissue_G = A * G % 2\n",
    "Tissue_G"
   ]
  },
  {
   "cell_type": "code",
   "execution_count": 72,
   "id": "c0940400",
   "metadata": {},
   "outputs": [
    {
     "data": {
      "text/plain": [
       "['0001110',\n",
       " '0010101',\n",
       " '0011011',\n",
       " '0100011',\n",
       " '0101101',\n",
       " '0110110',\n",
       " '0111000',\n",
       " '1000111',\n",
       " '1001001',\n",
       " '1010010',\n",
       " '1011100',\n",
       " '1100100',\n",
       " '1101010',\n",
       " '1110001',\n",
       " '1111111']"
      ]
     },
     "execution_count": 72,
     "metadata": {},
     "output_type": "execute_result"
    }
   ],
   "source": [
    "all_src_ex0 = np.matrix([[int(j) for j in format(i, f\"0{k}b\")] for i in range(1, 2 ** k)], dtype=\"u1\")\n",
    "all_code_ex0 = all_src_ex0 * Tissue_G % 2\n",
    "all_code_ex0_str = [\"\".join(str(i) for i in l) for l in all_code_ex0.tolist()]\n",
    "all_code_ex0_str"
   ]
  },
  {
   "cell_type": "code",
   "execution_count": 82,
   "id": "6ba40bae",
   "metadata": {},
   "outputs": [
    {
     "data": {
      "text/plain": [
       "['0000001',\n",
       " '0000010',\n",
       " '0000100',\n",
       " '0001000',\n",
       " '0010000',\n",
       " '0100000',\n",
       " '1000000',\n",
       " '1001000']"
      ]
     },
     "execution_count": 82,
     "metadata": {},
     "output_type": "execute_result"
    }
   ],
   "source": [
    "# 1ビットエラー全パターン\n",
    "all_error_str = [format(2 ** i, f\"0{n}b\") for i in range(n)]\n",
    "# 適当に追加\n",
    "all_error_str += [\"1001000\"]\n",
    "all_error = np.matrix([[int(j) for j in moji] for moji in all_errors_str])\n",
    "all_error_str"
   ]
  },
  {
   "cell_type": "code",
   "execution_count": 85,
   "id": "8585b35a",
   "metadata": {
    "scrolled": false
   },
   "outputs": [],
   "source": [
    "std_arr_values = [[\"\".join(str(k) for k in (e + w) % 2) for w in np.array(all_code_ex0)] for e in np.array(all_error)]\n",
    "# std_arr_values"
   ]
  },
  {
   "cell_type": "code",
   "execution_count": 88,
   "id": "9929aa7d",
   "metadata": {},
   "outputs": [
    {
     "data": {
      "text/html": [
       "<div>\n",
       "<style scoped>\n",
       "    .dataframe tbody tr th:only-of-type {\n",
       "        vertical-align: middle;\n",
       "    }\n",
       "\n",
       "    .dataframe tbody tr th {\n",
       "        vertical-align: top;\n",
       "    }\n",
       "\n",
       "    .dataframe thead th {\n",
       "        text-align: right;\n",
       "    }\n",
       "</style>\n",
       "<table border=\"1\" class=\"dataframe\">\n",
       "  <thead>\n",
       "    <tr style=\"text-align: right;\">\n",
       "      <th></th>\n",
       "      <th>0001110</th>\n",
       "      <th>0010101</th>\n",
       "      <th>0011011</th>\n",
       "      <th>0100011</th>\n",
       "      <th>0101101</th>\n",
       "      <th>0110110</th>\n",
       "      <th>0111000</th>\n",
       "      <th>1000111</th>\n",
       "      <th>1001001</th>\n",
       "      <th>1010010</th>\n",
       "      <th>1011100</th>\n",
       "      <th>1100100</th>\n",
       "      <th>1101010</th>\n",
       "      <th>1110001</th>\n",
       "      <th>1111111</th>\n",
       "    </tr>\n",
       "  </thead>\n",
       "  <tbody>\n",
       "    <tr>\n",
       "      <th>0000001</th>\n",
       "      <td>0001111</td>\n",
       "      <td>0010100</td>\n",
       "      <td>0011010</td>\n",
       "      <td>0100010</td>\n",
       "      <td>0101100</td>\n",
       "      <td>0110111</td>\n",
       "      <td>0111001</td>\n",
       "      <td>1000110</td>\n",
       "      <td>1001000</td>\n",
       "      <td>1010011</td>\n",
       "      <td>1011101</td>\n",
       "      <td>1100101</td>\n",
       "      <td>1101011</td>\n",
       "      <td>1110000</td>\n",
       "      <td>1111110</td>\n",
       "    </tr>\n",
       "    <tr>\n",
       "      <th>0000010</th>\n",
       "      <td>0001100</td>\n",
       "      <td>0010111</td>\n",
       "      <td>0011001</td>\n",
       "      <td>0100001</td>\n",
       "      <td>0101111</td>\n",
       "      <td>0110100</td>\n",
       "      <td>0111010</td>\n",
       "      <td>1000101</td>\n",
       "      <td>1001011</td>\n",
       "      <td>1010000</td>\n",
       "      <td>1011110</td>\n",
       "      <td>1100110</td>\n",
       "      <td>1101000</td>\n",
       "      <td>1110011</td>\n",
       "      <td>1111101</td>\n",
       "    </tr>\n",
       "    <tr>\n",
       "      <th>0000100</th>\n",
       "      <td>0001010</td>\n",
       "      <td>0010001</td>\n",
       "      <td>0011111</td>\n",
       "      <td>0100111</td>\n",
       "      <td>0101001</td>\n",
       "      <td>0110010</td>\n",
       "      <td>0111100</td>\n",
       "      <td>1000011</td>\n",
       "      <td>1001101</td>\n",
       "      <td>1010110</td>\n",
       "      <td>1011000</td>\n",
       "      <td>1100000</td>\n",
       "      <td>1101110</td>\n",
       "      <td>1110101</td>\n",
       "      <td>1111011</td>\n",
       "    </tr>\n",
       "    <tr>\n",
       "      <th>0001000</th>\n",
       "      <td>0000110</td>\n",
       "      <td>0011101</td>\n",
       "      <td>0010011</td>\n",
       "      <td>0101011</td>\n",
       "      <td>0100101</td>\n",
       "      <td>0111110</td>\n",
       "      <td>0110000</td>\n",
       "      <td>1001111</td>\n",
       "      <td>1000001</td>\n",
       "      <td>1011010</td>\n",
       "      <td>1010100</td>\n",
       "      <td>1101100</td>\n",
       "      <td>1100010</td>\n",
       "      <td>1111001</td>\n",
       "      <td>1110111</td>\n",
       "    </tr>\n",
       "    <tr>\n",
       "      <th>0010000</th>\n",
       "      <td>0011110</td>\n",
       "      <td>0000101</td>\n",
       "      <td>0001011</td>\n",
       "      <td>0110011</td>\n",
       "      <td>0111101</td>\n",
       "      <td>0100110</td>\n",
       "      <td>0101000</td>\n",
       "      <td>1010111</td>\n",
       "      <td>1011001</td>\n",
       "      <td>1000010</td>\n",
       "      <td>1001100</td>\n",
       "      <td>1110100</td>\n",
       "      <td>1111010</td>\n",
       "      <td>1100001</td>\n",
       "      <td>1101111</td>\n",
       "    </tr>\n",
       "    <tr>\n",
       "      <th>0100000</th>\n",
       "      <td>0101110</td>\n",
       "      <td>0110101</td>\n",
       "      <td>0111011</td>\n",
       "      <td>0000011</td>\n",
       "      <td>0001101</td>\n",
       "      <td>0010110</td>\n",
       "      <td>0011000</td>\n",
       "      <td>1100111</td>\n",
       "      <td>1101001</td>\n",
       "      <td>1110010</td>\n",
       "      <td>1111100</td>\n",
       "      <td>1000100</td>\n",
       "      <td>1001010</td>\n",
       "      <td>1010001</td>\n",
       "      <td>1011111</td>\n",
       "    </tr>\n",
       "    <tr>\n",
       "      <th>1000000</th>\n",
       "      <td>1001110</td>\n",
       "      <td>1010101</td>\n",
       "      <td>1011011</td>\n",
       "      <td>1100011</td>\n",
       "      <td>1101101</td>\n",
       "      <td>1110110</td>\n",
       "      <td>1111000</td>\n",
       "      <td>0000111</td>\n",
       "      <td>0001001</td>\n",
       "      <td>0010010</td>\n",
       "      <td>0011100</td>\n",
       "      <td>0100100</td>\n",
       "      <td>0101010</td>\n",
       "      <td>0110001</td>\n",
       "      <td>0111111</td>\n",
       "    </tr>\n",
       "    <tr>\n",
       "      <th>1001000</th>\n",
       "      <td>1000110</td>\n",
       "      <td>1011101</td>\n",
       "      <td>1010011</td>\n",
       "      <td>1101011</td>\n",
       "      <td>1100101</td>\n",
       "      <td>1111110</td>\n",
       "      <td>1110000</td>\n",
       "      <td>0001111</td>\n",
       "      <td>0000001</td>\n",
       "      <td>0011010</td>\n",
       "      <td>0010100</td>\n",
       "      <td>0101100</td>\n",
       "      <td>0100010</td>\n",
       "      <td>0111001</td>\n",
       "      <td>0110111</td>\n",
       "    </tr>\n",
       "  </tbody>\n",
       "</table>\n",
       "</div>"
      ],
      "text/plain": [
       "         0001110  0010101  0011011  0100011  0101101  0110110  0111000  \\\n",
       "0000001  0001111  0010100  0011010  0100010  0101100  0110111  0111001   \n",
       "0000010  0001100  0010111  0011001  0100001  0101111  0110100  0111010   \n",
       "0000100  0001010  0010001  0011111  0100111  0101001  0110010  0111100   \n",
       "0001000  0000110  0011101  0010011  0101011  0100101  0111110  0110000   \n",
       "0010000  0011110  0000101  0001011  0110011  0111101  0100110  0101000   \n",
       "0100000  0101110  0110101  0111011  0000011  0001101  0010110  0011000   \n",
       "1000000  1001110  1010101  1011011  1100011  1101101  1110110  1111000   \n",
       "1001000  1000110  1011101  1010011  1101011  1100101  1111110  1110000   \n",
       "\n",
       "         1000111  1001001  1010010  1011100  1100100  1101010  1110001  \\\n",
       "0000001  1000110  1001000  1010011  1011101  1100101  1101011  1110000   \n",
       "0000010  1000101  1001011  1010000  1011110  1100110  1101000  1110011   \n",
       "0000100  1000011  1001101  1010110  1011000  1100000  1101110  1110101   \n",
       "0001000  1001111  1000001  1011010  1010100  1101100  1100010  1111001   \n",
       "0010000  1010111  1011001  1000010  1001100  1110100  1111010  1100001   \n",
       "0100000  1100111  1101001  1110010  1111100  1000100  1001010  1010001   \n",
       "1000000  0000111  0001001  0010010  0011100  0100100  0101010  0110001   \n",
       "1001000  0001111  0000001  0011010  0010100  0101100  0100010  0111001   \n",
       "\n",
       "         1111111  \n",
       "0000001  1111110  \n",
       "0000010  1111101  \n",
       "0000100  1111011  \n",
       "0001000  1110111  \n",
       "0010000  1101111  \n",
       "0100000  1011111  \n",
       "1000000  0111111  \n",
       "1001000  0110111  "
      ]
     },
     "execution_count": 88,
     "metadata": {},
     "output_type": "execute_result"
    }
   ],
   "source": [
    "std_arr_df = pd.DataFrame(std_arr_values, columns=all_code_ex0_str, index=all_error_str)\n",
    "std_arr_df"
   ]
  },
  {
   "cell_type": "code",
   "execution_count": null,
   "id": "5410fbd2",
   "metadata": {},
   "outputs": [],
   "source": []
  }
 ],
 "metadata": {
  "kernelspec": {
   "display_name": "Python 3 (ipykernel)",
   "language": "python",
   "name": "python3"
  },
  "language_info": {
   "codemirror_mode": {
    "name": "ipython",
    "version": 3
   },
   "file_extension": ".py",
   "mimetype": "text/x-python",
   "name": "python",
   "nbconvert_exporter": "python",
   "pygments_lexer": "ipython3",
   "version": "3.10.4"
  }
 },
 "nbformat": 4,
 "nbformat_minor": 5
}
