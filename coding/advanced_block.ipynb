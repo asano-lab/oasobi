{
 "cells": [
  {
   "cell_type": "markdown",
   "id": "cf8efe5b",
   "metadata": {},
   "source": [
    "# 上級編1"
   ]
  },
  {
   "cell_type": "code",
   "execution_count": 1,
   "id": "b826e041",
   "metadata": {},
   "outputs": [],
   "source": [
    "import numpy as np\n",
    "import pandas as pd\n",
    "from collections import Counter"
   ]
  },
  {
   "cell_type": "code",
   "execution_count": 2,
   "id": "9120073f",
   "metadata": {},
   "outputs": [
    {
     "name": "stdout",
     "output_type": "stream",
     "text": [
      "[[0 0 1 0 1 1 1]\n",
      " [0 1 0 1 1 1 0]\n",
      " [1 0 1 1 1 0 0]]\n"
     ]
    }
   ],
   "source": [
    "# 生成多項式から生成行列を作る場合\n",
    "# g = np.array([0, 0, 0, 1, 1, 0, 1])\n",
    "# g = np.array([0, 0, 1, 1, 1, 0, 1])\n",
    "\n",
    "# 巡回問7\n",
    "g = np.array([0, 0, 1, 0, 1, 1, 1])\n",
    "\n",
    "k = np.argmax(g) + 1\n",
    "n = g.shape[0]\n",
    "G = np.stack([g] * k, 0)\n",
    "for i, row in enumerate(G):\n",
    "    if i >= 1:\n",
    "        G[i] = np.roll(G[i - 1], -1)\n",
    "G = np.matrix(G, dtype=\"u1\")\n",
    "print(G)"
   ]
  },
  {
   "cell_type": "code",
   "execution_count": 3,
   "id": "2c609f8a",
   "metadata": {},
   "outputs": [
    {
     "name": "stdout",
     "output_type": "stream",
     "text": [
      "[[1 0 1 0 1 1]\n",
      " [1 1 1 1 0 1]\n",
      " [0 1 1 0 0 1]]\n"
     ]
    },
    {
     "data": {
      "text/plain": [
       "(3, 6)"
      ]
     },
     "execution_count": 3,
     "metadata": {},
     "output_type": "execute_result"
    }
   ],
   "source": [
    "# ブロック符号問1の生成行列\n",
    "G = np.matrix([\n",
    "    [1, 0, 1, 0, 1, 1],\n",
    "    [1, 1, 1, 1, 0, 1],\n",
    "    [0, 1, 1, 0, 0, 1]\n",
    "], dtype=\"u1\")\n",
    "\n",
    "# 崩したハミング符号\n",
    "# 1ビット以下の誤りのみ検出可能\n",
    "# 完全符号\n",
    "# G = np.matrix([\n",
    "#     [1, 1, 0, 0, 1, 0, 0],\n",
    "#     [1, 0, 1, 0, 0, 1, 0],\n",
    "#     [1, 0, 0, 1, 0, 0, 1],\n",
    "#     [1, 1, 1, 0, 0, 0, 1]\n",
    "# ], dtype=\"u1\")\n",
    "\n",
    "# G = np.matrix([\n",
    "#     [0, 1, 1, 1, 1, 0, 0, 0],\n",
    "#     [1, 1, 1, 0, 0, 1, 0, 0],\n",
    "#     [1, 1, 0, 1, 0, 0, 1, 0],\n",
    "#     [1, 0, 1, 1, 0, 0, 0, 1]\n",
    "# ], dtype=\"u1\")\n",
    "\n",
    "k, n = G.shape\n",
    "print(G)\n",
    "k, n"
   ]
  },
  {
   "cell_type": "markdown",
   "id": "889dd349",
   "metadata": {},
   "source": [
    "## 掃き出し法で組織符号の生成行列に変換"
   ]
  },
  {
   "cell_type": "code",
   "execution_count": 5,
   "id": "ba43d0b4",
   "metadata": {},
   "outputs": [
    {
     "name": "stdout",
     "output_type": "stream",
     "text": [
      "A=\n",
      "[[0 1 1]\n",
      " [1 1 0]\n",
      " [1 1 1]]\n",
      "G=\n",
      "[[1 0 0 1 0 0]\n",
      " [0 1 0 1 1 0]\n",
      " [0 0 1 1 1 1]]\n"
     ]
    }
   ],
   "source": [
    "k = G.shape[0]\n",
    "\n",
    "A = np.matrix(np.identity(k), dtype=\"u1\")\n",
    "G_src = G.copy()[:,:k]\n",
    "I_k = np.identity(k)\n",
    "# print(G_src)\n",
    "for i in range(k):\n",
    "#     print(f\"掃き出し{i + 1}回目\")\n",
    "    col_i = np.array(G_src)[:,i]\n",
    "    # 対角成分が0\n",
    "    # 他の行と入れ替え\n",
    "    if col_i[i] == 0:\n",
    "        # 入れ替え対象の行番号\n",
    "        j = np.where(col_i == 1)[0][-1]\n",
    "        A_i = I_k.copy()\n",
    "        A_i[i] = I_k[j].copy()\n",
    "        A_i[j] = I_k[i].copy()\n",
    "        A_i = np.matrix(A_i, dtype=\"u1\")\n",
    "        A = A_i * A % 2\n",
    "        G_src = A_i * G_src % 2\n",
    "#         print(G_src)\n",
    "        col_i = np.array(G_src)[:,i]\n",
    "    A_i =I_k.copy()\n",
    "    A_i[:,i] = col_i\n",
    "    A_i = np.matrix(A_i, dtype=\"u1\")\n",
    "    A = A_i * A % 2\n",
    "    # print(f\"A_i=\\n{A_i}\")\n",
    "    # print(f\"A=\\n{A}\")\n",
    "    G_src = A_i * G_src % 2\n",
    "#     print(G_src)\n",
    "\n",
    "Tissue_G = A * G % 2\n",
    "print(f\"A=\\n{A}\")\n",
    "print(f\"G=\\n{Tissue_G}\")"
   ]
  },
  {
   "cell_type": "markdown",
   "id": "5affa56d",
   "metadata": {},
   "source": [
    "## 標準アレイ"
   ]
  },
  {
   "cell_type": "code",
   "execution_count": 8,
   "id": "f85789e6",
   "metadata": {},
   "outputs": [
    {
     "data": {
      "text/plain": [
       "['001111', '010110', '011001', '100100', '101011', '110010', '111101']"
      ]
     },
     "execution_count": 8,
     "metadata": {},
     "output_type": "execute_result"
    }
   ],
   "source": [
    "# 非零の全符号生成\n",
    "all_src_ex0 = np.matrix([[int(j) for j in format(i, f\"0{k}b\")] for i in range(1, 2 ** k)], dtype=\"u1\")\n",
    "all_code_ex0 = all_src_ex0 * Tissue_G % 2\n",
    "\n",
    "# 巡回問7. 手書き\n",
    "# all_code_ex0_str = [\"0010111\", \"0101110\", \"1011100\", \"0111001\", \"1110010\", \"1100101\", \"1001011\"]\n",
    "# all_code_ex0 = np.matrix([[int(j) for j in moji] for moji in all_code_ex0_str])\n",
    "\n",
    "all_code_ex0_str = [\"\".join(str(i) for i in l) for l in all_code_ex0.tolist()]\n",
    "all_code_ex0_str"
   ]
  },
  {
   "cell_type": "code",
   "execution_count": 35,
   "id": "43be00a8",
   "metadata": {},
   "outputs": [
    {
     "data": {
      "text/plain": [
       "['000001', '000010', '001000', '010000', '100000', '101000', '100001']"
      ]
     },
     "execution_count": 35,
     "metadata": {},
     "output_type": "execute_result"
    }
   ],
   "source": [
    "# 1ビットエラー全パターン?\n",
    "all_error_str = [format(2 ** i, f\"0{n}b\") for i in range(n)]\n",
    "all_one_bit_error = [format(2 ** i, f\"0{n}b\") for i in range(n)]\n",
    "custom_error_str = []\n",
    "# print(all_one_bit_error)\n",
    "# 適当に追加\n",
    "# all_error_str += [\"000011\"]\n",
    "# 課題の (8, 4) 符号用\n",
    "# custom_error_str = [\"00000011\", \"00000101\", \"00001001\", \"00010001\", \"00100001\", \"01000001\", \"10000001\"]\n",
    "\n",
    "# 巡回問7, 2bitバースト\n",
    "# custom_error_str = [\"0000011\", \"0000110\", \"0001100\", \"0011000\", \"0110000\", \"1100000\", \"1000001\", \"1111111\"]\n",
    "\n",
    "all_error_str = all_one_bit_error + custom_error_str\n",
    "\n",
    "# ブロック符号第2問\n",
    "# 起こりやすい誤りを勝手に定義\n",
    "# all_error_str = [\"000001\", \"000010\", \"000100\", \"001000\", \"010000\", \"000011\", \"000101\"]\n",
    "all_error_str = [\"000001\", \"000010\", \"001000\", \"010000\", \"100000\", \"101000\", \"100001\"]\n",
    "\n",
    "all_error = np.matrix([[int(j) for j in moji] for moji in all_error_str])\n",
    "all_error_str"
   ]
  },
  {
   "cell_type": "code",
   "execution_count": 36,
   "id": "f198a5ca",
   "metadata": {
    "scrolled": false
   },
   "outputs": [
    {
     "data": {
      "text/html": [
       "<div>\n",
       "<style scoped>\n",
       "    .dataframe tbody tr th:only-of-type {\n",
       "        vertical-align: middle;\n",
       "    }\n",
       "\n",
       "    .dataframe tbody tr th {\n",
       "        vertical-align: top;\n",
       "    }\n",
       "\n",
       "    .dataframe thead th {\n",
       "        text-align: right;\n",
       "    }\n",
       "</style>\n",
       "<table border=\"1\" class=\"dataframe\">\n",
       "  <thead>\n",
       "    <tr style=\"text-align: right;\">\n",
       "      <th></th>\n",
       "      <th>001111</th>\n",
       "      <th>010110</th>\n",
       "      <th>011001</th>\n",
       "      <th>100100</th>\n",
       "      <th>101011</th>\n",
       "      <th>110010</th>\n",
       "      <th>111101</th>\n",
       "    </tr>\n",
       "  </thead>\n",
       "  <tbody>\n",
       "    <tr>\n",
       "      <th>000001</th>\n",
       "      <td>001110</td>\n",
       "      <td>010111</td>\n",
       "      <td>011000</td>\n",
       "      <td>100101</td>\n",
       "      <td>101010</td>\n",
       "      <td>110011</td>\n",
       "      <td>111100</td>\n",
       "    </tr>\n",
       "    <tr>\n",
       "      <th>000010</th>\n",
       "      <td>001101</td>\n",
       "      <td>010100</td>\n",
       "      <td>011011</td>\n",
       "      <td>100110</td>\n",
       "      <td>101001</td>\n",
       "      <td>110000</td>\n",
       "      <td>111111</td>\n",
       "    </tr>\n",
       "    <tr>\n",
       "      <th>001000</th>\n",
       "      <td>000111</td>\n",
       "      <td>011110</td>\n",
       "      <td>010001</td>\n",
       "      <td>101100</td>\n",
       "      <td>100011</td>\n",
       "      <td>111010</td>\n",
       "      <td>110101</td>\n",
       "    </tr>\n",
       "    <tr>\n",
       "      <th>010000</th>\n",
       "      <td>011111</td>\n",
       "      <td>000110</td>\n",
       "      <td>001001</td>\n",
       "      <td>110100</td>\n",
       "      <td>111011</td>\n",
       "      <td>100010</td>\n",
       "      <td>101101</td>\n",
       "    </tr>\n",
       "    <tr>\n",
       "      <th>100000</th>\n",
       "      <td>101111</td>\n",
       "      <td>110110</td>\n",
       "      <td>111001</td>\n",
       "      <td>000100</td>\n",
       "      <td>001011</td>\n",
       "      <td>010010</td>\n",
       "      <td>011101</td>\n",
       "    </tr>\n",
       "    <tr>\n",
       "      <th>101000</th>\n",
       "      <td>100111</td>\n",
       "      <td>111110</td>\n",
       "      <td>110001</td>\n",
       "      <td>001100</td>\n",
       "      <td>000011</td>\n",
       "      <td>011010</td>\n",
       "      <td>010101</td>\n",
       "    </tr>\n",
       "    <tr>\n",
       "      <th>100001</th>\n",
       "      <td>101110</td>\n",
       "      <td>110111</td>\n",
       "      <td>111000</td>\n",
       "      <td>000101</td>\n",
       "      <td>001010</td>\n",
       "      <td>010011</td>\n",
       "      <td>011100</td>\n",
       "    </tr>\n",
       "  </tbody>\n",
       "</table>\n",
       "</div>"
      ],
      "text/plain": [
       "        001111  010110  011001  100100  101011  110010  111101\n",
       "000001  001110  010111  011000  100101  101010  110011  111100\n",
       "000010  001101  010100  011011  100110  101001  110000  111111\n",
       "001000  000111  011110  010001  101100  100011  111010  110101\n",
       "010000  011111  000110  001001  110100  111011  100010  101101\n",
       "100000  101111  110110  111001  000100  001011  010010  011101\n",
       "101000  100111  111110  110001  001100  000011  011010  010101\n",
       "100001  101110  110111  111000  000101  001010  010011  011100"
      ]
     },
     "execution_count": 36,
     "metadata": {},
     "output_type": "execute_result"
    }
   ],
   "source": [
    "std_arr_matrix = [[np.matrix((e + w) % 2) for w in np.array(all_code_ex0)] for e in np.array(all_error)]\n",
    "# std_arr_values = [[\"\".join(str(k) for k in (e + w) % 2) for w in np.array(all_code_ex0)] for e in np.array(all_error)]\n",
    "std_arr_values = [[\"\".join(str(k) for k in j.tolist()[0]) for j in i] for i in std_arr_matrix]\n",
    "# np.array(std_arr_values)\n",
    "std_arr_df = pd.DataFrame(std_arr_values, columns=all_code_ex0_str, index=all_error_str)\n",
    "std_arr_df"
   ]
  },
  {
   "cell_type": "code",
   "execution_count": 37,
   "id": "b031f76f",
   "metadata": {},
   "outputs": [
    {
     "name": "stdout",
     "output_type": "stream",
     "text": [
      "64\n"
     ]
    }
   ],
   "source": [
    "# 重複がないか確認\n",
    "table_set = {\"000000\"}\n",
    "table_set |= set(std_arr_df.values.ravel())\n",
    "table_set |= set(all_code_ex0_str)\n",
    "table_set |= set(all_error_str)\n",
    "print(len(table_set))"
   ]
  },
  {
   "cell_type": "markdown",
   "id": "ab31d524",
   "metadata": {},
   "source": [
    "## 各受信後のシンドローム計算"
   ]
  },
  {
   "cell_type": "code",
   "execution_count": 9,
   "id": "a7df9024",
   "metadata": {},
   "outputs": [
    {
     "data": {
      "text/plain": [
       "matrix([[1, 1, 0, 1, 0, 0, 0],\n",
       "        [0, 1, 1, 0, 1, 0, 0],\n",
       "        [1, 1, 1, 0, 0, 1, 0],\n",
       "        [1, 0, 1, 0, 0, 0, 1]], dtype=uint8)"
      ]
     },
     "execution_count": 9,
     "metadata": {},
     "output_type": "execute_result"
    }
   ],
   "source": [
    "# パリティ生成部分\n",
    "P = Tissue_G[:, k:]\n",
    "# print(P)\n",
    "# 検査行列\n",
    "H = np.concatenate([P.T, np.identity(n - k, dtype=np.uint8)], 1)\n",
    "H"
   ]
  },
  {
   "cell_type": "code",
   "execution_count": 10,
   "id": "8fc54037",
   "metadata": {},
   "outputs": [
    {
     "data": {
      "text/html": [
       "<div>\n",
       "<style scoped>\n",
       "    .dataframe tbody tr th:only-of-type {\n",
       "        vertical-align: middle;\n",
       "    }\n",
       "\n",
       "    .dataframe tbody tr th {\n",
       "        vertical-align: top;\n",
       "    }\n",
       "\n",
       "    .dataframe thead th {\n",
       "        text-align: right;\n",
       "    }\n",
       "</style>\n",
       "<table border=\"1\" class=\"dataframe\">\n",
       "  <thead>\n",
       "    <tr style=\"text-align: right;\">\n",
       "      <th></th>\n",
       "      <th>0010111</th>\n",
       "      <th>0101110</th>\n",
       "      <th>1011100</th>\n",
       "      <th>0111001</th>\n",
       "      <th>1110010</th>\n",
       "      <th>1100101</th>\n",
       "      <th>1001011</th>\n",
       "    </tr>\n",
       "  </thead>\n",
       "  <tbody>\n",
       "    <tr>\n",
       "      <th>0000001</th>\n",
       "      <td>0001</td>\n",
       "      <td>0001</td>\n",
       "      <td>0001</td>\n",
       "      <td>0001</td>\n",
       "      <td>0001</td>\n",
       "      <td>0001</td>\n",
       "      <td>0001</td>\n",
       "    </tr>\n",
       "    <tr>\n",
       "      <th>0000010</th>\n",
       "      <td>0010</td>\n",
       "      <td>0010</td>\n",
       "      <td>0010</td>\n",
       "      <td>0010</td>\n",
       "      <td>0010</td>\n",
       "      <td>0010</td>\n",
       "      <td>0010</td>\n",
       "    </tr>\n",
       "    <tr>\n",
       "      <th>0000100</th>\n",
       "      <td>0100</td>\n",
       "      <td>0100</td>\n",
       "      <td>0100</td>\n",
       "      <td>0100</td>\n",
       "      <td>0100</td>\n",
       "      <td>0100</td>\n",
       "      <td>0100</td>\n",
       "    </tr>\n",
       "    <tr>\n",
       "      <th>0001000</th>\n",
       "      <td>1000</td>\n",
       "      <td>1000</td>\n",
       "      <td>1000</td>\n",
       "      <td>1000</td>\n",
       "      <td>1000</td>\n",
       "      <td>1000</td>\n",
       "      <td>1000</td>\n",
       "    </tr>\n",
       "    <tr>\n",
       "      <th>0010000</th>\n",
       "      <td>0111</td>\n",
       "      <td>0111</td>\n",
       "      <td>0111</td>\n",
       "      <td>0111</td>\n",
       "      <td>0111</td>\n",
       "      <td>0111</td>\n",
       "      <td>0111</td>\n",
       "    </tr>\n",
       "    <tr>\n",
       "      <th>0100000</th>\n",
       "      <td>1110</td>\n",
       "      <td>1110</td>\n",
       "      <td>1110</td>\n",
       "      <td>1110</td>\n",
       "      <td>1110</td>\n",
       "      <td>1110</td>\n",
       "      <td>1110</td>\n",
       "    </tr>\n",
       "    <tr>\n",
       "      <th>1000000</th>\n",
       "      <td>1011</td>\n",
       "      <td>1011</td>\n",
       "      <td>1011</td>\n",
       "      <td>1011</td>\n",
       "      <td>1011</td>\n",
       "      <td>1011</td>\n",
       "      <td>1011</td>\n",
       "    </tr>\n",
       "    <tr>\n",
       "      <th>0000011</th>\n",
       "      <td>0011</td>\n",
       "      <td>0011</td>\n",
       "      <td>0011</td>\n",
       "      <td>0011</td>\n",
       "      <td>0011</td>\n",
       "      <td>0011</td>\n",
       "      <td>0011</td>\n",
       "    </tr>\n",
       "    <tr>\n",
       "      <th>0000110</th>\n",
       "      <td>0110</td>\n",
       "      <td>0110</td>\n",
       "      <td>0110</td>\n",
       "      <td>0110</td>\n",
       "      <td>0110</td>\n",
       "      <td>0110</td>\n",
       "      <td>0110</td>\n",
       "    </tr>\n",
       "    <tr>\n",
       "      <th>0001100</th>\n",
       "      <td>1100</td>\n",
       "      <td>1100</td>\n",
       "      <td>1100</td>\n",
       "      <td>1100</td>\n",
       "      <td>1100</td>\n",
       "      <td>1100</td>\n",
       "      <td>1100</td>\n",
       "    </tr>\n",
       "    <tr>\n",
       "      <th>0011000</th>\n",
       "      <td>1111</td>\n",
       "      <td>1111</td>\n",
       "      <td>1111</td>\n",
       "      <td>1111</td>\n",
       "      <td>1111</td>\n",
       "      <td>1111</td>\n",
       "      <td>1111</td>\n",
       "    </tr>\n",
       "    <tr>\n",
       "      <th>0110000</th>\n",
       "      <td>1001</td>\n",
       "      <td>1001</td>\n",
       "      <td>1001</td>\n",
       "      <td>1001</td>\n",
       "      <td>1001</td>\n",
       "      <td>1001</td>\n",
       "      <td>1001</td>\n",
       "    </tr>\n",
       "    <tr>\n",
       "      <th>1100000</th>\n",
       "      <td>0101</td>\n",
       "      <td>0101</td>\n",
       "      <td>0101</td>\n",
       "      <td>0101</td>\n",
       "      <td>0101</td>\n",
       "      <td>0101</td>\n",
       "      <td>0101</td>\n",
       "    </tr>\n",
       "    <tr>\n",
       "      <th>1000001</th>\n",
       "      <td>1010</td>\n",
       "      <td>1010</td>\n",
       "      <td>1010</td>\n",
       "      <td>1010</td>\n",
       "      <td>1010</td>\n",
       "      <td>1010</td>\n",
       "      <td>1010</td>\n",
       "    </tr>\n",
       "  </tbody>\n",
       "</table>\n",
       "</div>"
      ],
      "text/plain": [
       "        0010111 0101110 1011100 0111001 1110010 1100101 1001011\n",
       "0000001    0001    0001    0001    0001    0001    0001    0001\n",
       "0000010    0010    0010    0010    0010    0010    0010    0010\n",
       "0000100    0100    0100    0100    0100    0100    0100    0100\n",
       "0001000    1000    1000    1000    1000    1000    1000    1000\n",
       "0010000    0111    0111    0111    0111    0111    0111    0111\n",
       "0100000    1110    1110    1110    1110    1110    1110    1110\n",
       "1000000    1011    1011    1011    1011    1011    1011    1011\n",
       "0000011    0011    0011    0011    0011    0011    0011    0011\n",
       "0000110    0110    0110    0110    0110    0110    0110    0110\n",
       "0001100    1100    1100    1100    1100    1100    1100    1100\n",
       "0011000    1111    1111    1111    1111    1111    1111    1111\n",
       "0110000    1001    1001    1001    1001    1001    1001    1001\n",
       "1100000    0101    0101    0101    0101    0101    0101    0101\n",
       "1000001    1010    1010    1010    1010    1010    1010    1010"
      ]
     },
     "execution_count": 10,
     "metadata": {},
     "output_type": "execute_result"
    }
   ],
   "source": [
    "syndrome_values = [[\"\".join(str(k) for k in (j * H.T % 2).tolist()[0]) for j in i] for i in std_arr_matrix]\n",
    "syndrome_df = pd.DataFrame(syndrome_values, columns=all_code_ex0_str, index=all_error_str)\n",
    "syndrome_df"
   ]
  },
  {
   "cell_type": "markdown",
   "id": "3a6eb0f4",
   "metadata": {},
   "source": [
    "## 最小ハミング距離"
   ]
  },
  {
   "cell_type": "code",
   "execution_count": 11,
   "id": "30ca4948",
   "metadata": {},
   "outputs": [
    {
     "name": "stdout",
     "output_type": "stream",
     "text": [
      "[[1 0 0 0 0 1 1 1]\n",
      " [0 1 0 0 1 1 1 0]\n",
      " [0 0 1 0 1 1 0 1]\n",
      " [0 0 0 1 1 0 1 1]]\n",
      "4 8\n",
      "最小ハミング距離: 4\n"
     ]
    },
    {
     "data": {
      "text/html": [
       "<div>\n",
       "<style scoped>\n",
       "    .dataframe tbody tr th:only-of-type {\n",
       "        vertical-align: middle;\n",
       "    }\n",
       "\n",
       "    .dataframe tbody tr th {\n",
       "        vertical-align: top;\n",
       "    }\n",
       "\n",
       "    .dataframe thead th {\n",
       "        text-align: right;\n",
       "    }\n",
       "</style>\n",
       "<table border=\"1\" class=\"dataframe\">\n",
       "  <thead>\n",
       "    <tr style=\"text-align: right;\">\n",
       "      <th></th>\n",
       "      <th>0</th>\n",
       "    </tr>\n",
       "  </thead>\n",
       "  <tbody>\n",
       "    <tr>\n",
       "      <th>0001</th>\n",
       "      <td>00011011</td>\n",
       "    </tr>\n",
       "    <tr>\n",
       "      <th>0010</th>\n",
       "      <td>00101101</td>\n",
       "    </tr>\n",
       "    <tr>\n",
       "      <th>0011</th>\n",
       "      <td>00110110</td>\n",
       "    </tr>\n",
       "    <tr>\n",
       "      <th>0100</th>\n",
       "      <td>01001110</td>\n",
       "    </tr>\n",
       "    <tr>\n",
       "      <th>0101</th>\n",
       "      <td>01010101</td>\n",
       "    </tr>\n",
       "    <tr>\n",
       "      <th>0110</th>\n",
       "      <td>01100011</td>\n",
       "    </tr>\n",
       "    <tr>\n",
       "      <th>0111</th>\n",
       "      <td>01111000</td>\n",
       "    </tr>\n",
       "    <tr>\n",
       "      <th>1000</th>\n",
       "      <td>10000111</td>\n",
       "    </tr>\n",
       "    <tr>\n",
       "      <th>1001</th>\n",
       "      <td>10011100</td>\n",
       "    </tr>\n",
       "    <tr>\n",
       "      <th>1010</th>\n",
       "      <td>10101010</td>\n",
       "    </tr>\n",
       "    <tr>\n",
       "      <th>1011</th>\n",
       "      <td>10110001</td>\n",
       "    </tr>\n",
       "    <tr>\n",
       "      <th>1100</th>\n",
       "      <td>11001001</td>\n",
       "    </tr>\n",
       "    <tr>\n",
       "      <th>1101</th>\n",
       "      <td>11010010</td>\n",
       "    </tr>\n",
       "    <tr>\n",
       "      <th>1110</th>\n",
       "      <td>11100100</td>\n",
       "    </tr>\n",
       "    <tr>\n",
       "      <th>1111</th>\n",
       "      <td>11111111</td>\n",
       "    </tr>\n",
       "  </tbody>\n",
       "</table>\n",
       "</div>"
      ],
      "text/plain": [
       "             0\n",
       "0001  00011011\n",
       "0010  00101101\n",
       "0011  00110110\n",
       "0100  01001110\n",
       "0101  01010101\n",
       "0110  01100011\n",
       "0111  01111000\n",
       "1000  10000111\n",
       "1001  10011100\n",
       "1010  10101010\n",
       "1011  10110001\n",
       "1100  11001001\n",
       "1101  11010010\n",
       "1110  11100100\n",
       "1111  11111111"
      ]
     },
     "execution_count": 11,
     "metadata": {},
     "output_type": "execute_result"
    }
   ],
   "source": [
    "G = np.matrix([\n",
    "    [1, 0, 0, 0, 0, 1, 1, 1],\n",
    "    [0, 1, 0, 0, 1, 1, 1, 0],\n",
    "    [0, 0, 1, 0, 1, 1, 0, 1],\n",
    "    [0, 0, 0, 1, 1, 0, 1, 1]\n",
    "])\n",
    "\n",
    "k, n = G.shape\n",
    "print(G)\n",
    "print(k, n)\n",
    "\n",
    "all_src_ex0 = [np.matrix([int(j) for j in format(i, f\"0{k}b\")], dtype=np.uint8) for i in range(1, 1 << k)]\n",
    "all_code_ex0 = [i * G % 2 for i in all_src_ex0]\n",
    "code_df = pd.DataFrame(\n",
    "    [\"\".join([str(j) for j in i.tolist()[0]]) for i in all_code_ex0],\n",
    "    index=[\"\".join([str(j) for j in i.tolist()[0]]) for i in all_src_ex0]\n",
    ")\n",
    "all_code_ex0_hamming_dist = [i.sum() for i in all_code_ex0]\n",
    "hamming_dist_min = min(all_code_ex0_hamming_dist)\n",
    "print(f\"最小ハミング距離: {hamming_dist_min}\")\n",
    "# all_code_ex0\n",
    "code_df"
   ]
  },
  {
   "cell_type": "code",
   "execution_count": 12,
   "id": "85f4eee8",
   "metadata": {},
   "outputs": [
    {
     "name": "stdout",
     "output_type": "stream",
     "text": [
      "Counter({4: 14, 8: 1})\n"
     ]
    },
    {
     "data": {
      "text/plain": [
       "1.344834415e-07"
      ]
     },
     "execution_count": 12,
     "metadata": {},
     "output_type": "execute_result"
    }
   ],
   "source": [
    "A_i_dic = Counter(all_code_ex0_hamming_dist)\n",
    "print(A_i_dic)\n",
    "p = 0.01\n",
    "P_u_E = 0\n",
    "for i, A_i in A_i_dic.items():\n",
    "    P_u_E += A_i * p ** i * (1 - p) ** (n - i)\n",
    "P_u_E"
   ]
  },
  {
   "cell_type": "code",
   "execution_count": null,
   "id": "8a5efe9a",
   "metadata": {},
   "outputs": [],
   "source": []
  }
 ],
 "metadata": {
  "kernelspec": {
   "display_name": "Python 3 (ipykernel)",
   "language": "python",
   "name": "python3"
  },
  "language_info": {
   "codemirror_mode": {
    "name": "ipython",
    "version": 3
   },
   "file_extension": ".py",
   "mimetype": "text/x-python",
   "name": "python",
   "nbconvert_exporter": "python",
   "pygments_lexer": "ipython3",
   "version": "3.10.4"
  }
 },
 "nbformat": 4,
 "nbformat_minor": 5
}
