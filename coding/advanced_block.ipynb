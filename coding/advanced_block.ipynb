{
 "cells": [
  {
   "cell_type": "code",
   "execution_count": 8,
   "id": "24b1fe3d",
   "metadata": {},
   "outputs": [],
   "source": [
    "import numpy as np\n",
    "import pandas as pd"
   ]
  },
  {
   "cell_type": "code",
   "execution_count": 21,
   "id": "f5c88dcf",
   "metadata": {},
   "outputs": [
    {
     "data": {
      "text/plain": [
       "matrix([[1, 0, 1, 0, 1, 1],\n",
       "        [1, 1, 1, 1, 0, 1],\n",
       "        [0, 1, 1, 0, 0, 1]], dtype=uint8)"
      ]
     },
     "execution_count": 21,
     "metadata": {},
     "output_type": "execute_result"
    }
   ],
   "source": [
    "G = np.matrix([\n",
    "    [1, 0, 1, 0, 1, 1],\n",
    "    [1, 1, 1, 1, 0, 1],\n",
    "    [0, 1, 1, 0, 0, 1]\n",
    "], dtype=\"u1\")\n",
    "G"
   ]
  },
  {
   "cell_type": "code",
   "execution_count": 22,
   "id": "e59e031d",
   "metadata": {},
   "outputs": [
    {
     "data": {
      "text/plain": [
       "matrix([[1, 0, 0, 1, 0, 0],\n",
       "        [0, 1, 0, 1, 1, 0],\n",
       "        [0, 0, 1, 1, 1, 1]], dtype=uint8)"
      ]
     },
     "execution_count": 22,
     "metadata": {},
     "output_type": "execute_result"
    }
   ],
   "source": [
    "k = G.shape[0]\n",
    "\n",
    "A = np.matrix(np.identity(k), dtype=\"u1\")\n",
    "G_src = G.copy()[:,:3]\n",
    "# print(G_src)\n",
    "for i in range(k):\n",
    "    col_i = np.array(G_src)[:,i]\n",
    "    if col_i[i] == 1:\n",
    "        A_i = np.identity(k)\n",
    "        A_i[:,i] = col_i\n",
    "        A_i = np.matrix(A_i, dtype=\"u1\")\n",
    "        A = A_i * A % 2\n",
    "        # print(f\"A_i=\\n{A_i}\")\n",
    "        # print(f\"A=\\n{A}\")\n",
    "        G_src = A_i * G_src % 2\n",
    "        # print(f\"掃き出し{i + 1}回目\")\n",
    "        # print(G_src)\n",
    "\n",
    "Tissue_G = A * G % 2\n",
    "Tissue_G"
   ]
  },
  {
   "cell_type": "code",
   "execution_count": 37,
   "id": "3a4672df",
   "metadata": {},
   "outputs": [
    {
     "data": {
      "text/plain": [
       "['001111', '010110', '011001', '100100', '101011', '110010', '111101']"
      ]
     },
     "execution_count": 37,
     "metadata": {},
     "output_type": "execute_result"
    }
   ],
   "source": [
    "all_src_ex0 = np.matrix([[int(j) for j in format(i, f\"0{k}b\")] for i in range(1, 2 ** k)], dtype=\"u1\")\n",
    "all_code_ex0 = all_src_ex0 * Tissue_G % 2\n",
    "all_code_ex0_str = [\"\".join(str(i) for i in l) for l in all_code_ex0.tolist()]\n",
    "all_code_ex0_str"
   ]
  },
  {
   "cell_type": "code",
   "execution_count": 36,
   "id": "eaf2a63b",
   "metadata": {},
   "outputs": [
    {
     "data": {
      "text/plain": [
       "'001111'"
      ]
     },
     "execution_count": 36,
     "metadata": {},
     "output_type": "execute_result"
    }
   ],
   "source": [
    "\"\".join(str(i) for i in all_code_ex0.tolist()[0])"
   ]
  },
  {
   "cell_type": "code",
   "execution_count": 35,
   "id": "976004ea",
   "metadata": {},
   "outputs": [
    {
     "data": {
      "text/plain": [
       "[[0, 0, 1, 1, 1, 1]]"
      ]
     },
     "execution_count": 35,
     "metadata": {},
     "output_type": "execute_result"
    }
   ],
   "source": []
  },
  {
   "cell_type": "code",
   "execution_count": null,
   "id": "5f611d37",
   "metadata": {},
   "outputs": [],
   "source": []
  }
 ],
 "metadata": {
  "kernelspec": {
   "display_name": "Python 3 (ipykernel)",
   "language": "python",
   "name": "python3"
  },
  "language_info": {
   "codemirror_mode": {
    "name": "ipython",
    "version": 3
   },
   "file_extension": ".py",
   "mimetype": "text/x-python",
   "name": "python",
   "nbconvert_exporter": "python",
   "pygments_lexer": "ipython3",
   "version": "3.10.4"
  }
 },
 "nbformat": 4,
 "nbformat_minor": 5
}
