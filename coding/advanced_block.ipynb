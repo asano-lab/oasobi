{
 "cells": [
  {
   "cell_type": "markdown",
   "id": "cf8efe5b",
   "metadata": {},
   "source": [
    "# 上級編1"
   ]
  },
  {
   "cell_type": "code",
   "execution_count": 56,
   "id": "b826e041",
   "metadata": {},
   "outputs": [],
   "source": [
    "import numpy as np\n",
    "import pandas as pd\n",
    "from collections import Counter"
   ]
  },
  {
   "cell_type": "code",
   "execution_count": 69,
   "id": "9120073f",
   "metadata": {},
   "outputs": [
    {
     "name": "stdout",
     "output_type": "stream",
     "text": [
      "[[0 0 1 1 1 0 1]\n",
      " [0 1 1 1 0 1 0]\n",
      " [1 1 1 0 1 0 0]]\n"
     ]
    }
   ],
   "source": [
    "# 生成多項式から生成行列を作る場合\n",
    "# g = np.array([0, 0, 0, 1, 1, 0, 1])\n",
    "g = np.array([0, 0, 1, 1, 1, 0, 1])\n",
    "k = np.argmax(g) + 1\n",
    "n = row.shape[0]\n",
    "G = np.stack([g] * k, 0)\n",
    "for i, row in enumerate(G):\n",
    "    if i >= 1:\n",
    "        G[i] = np.roll(G[i - 1], -1)\n",
    "G = np.matrix(G, dtype=\"u1\")\n",
    "print(G)"
   ]
  },
  {
   "cell_type": "code",
   "execution_count": 70,
   "id": "2c609f8a",
   "metadata": {},
   "outputs": [
    {
     "name": "stdout",
     "output_type": "stream",
     "text": [
      "[[0 0 1 1 1 0 1]\n",
      " [0 1 1 1 0 1 0]\n",
      " [1 1 1 0 1 0 0]]\n"
     ]
    },
    {
     "data": {
      "text/plain": [
       "(3, 7)"
      ]
     },
     "execution_count": 70,
     "metadata": {},
     "output_type": "execute_result"
    }
   ],
   "source": [
    "# 課題の生成行列\n",
    "# G = np.matrix([\n",
    "#     [1, 0, 1, 0, 1, 1],\n",
    "#     [1, 1, 1, 1, 0, 1],\n",
    "#     [0, 1, 1, 0, 0, 1]\n",
    "# ], dtype=\"u1\")\n",
    "\n",
    "# 崩したハミング符号\n",
    "# 1ビット以下の誤りのみ検出可能\n",
    "# 完全符号\n",
    "# G = np.matrix([\n",
    "#     [1, 1, 0, 0, 1, 0, 0],\n",
    "#     [1, 0, 1, 0, 0, 1, 0],\n",
    "#     [1, 0, 0, 1, 0, 0, 1],\n",
    "#     [1, 1, 1, 0, 0, 0, 1]\n",
    "# ], dtype=\"u1\")\n",
    "\n",
    "# G = np.matrix([\n",
    "#     [0, 1, 1, 1, 1, 0, 0, 0],\n",
    "#     [1, 1, 1, 0, 0, 1, 0, 0],\n",
    "#     [1, 1, 0, 1, 0, 0, 1, 0],\n",
    "#     [1, 0, 1, 1, 0, 0, 0, 1]\n",
    "# ], dtype=\"u1\")\n",
    "\n",
    "k, n = G.shape\n",
    "print(G)\n",
    "k, n"
   ]
  },
  {
   "cell_type": "markdown",
   "id": "889dd349",
   "metadata": {},
   "source": [
    "## 掃き出し法で組織符号の生成行列に変換"
   ]
  },
  {
   "cell_type": "code",
   "execution_count": 71,
   "id": "ba43d0b4",
   "metadata": {},
   "outputs": [
    {
     "name": "stdout",
     "output_type": "stream",
     "text": [
      "A=\n",
      "[[0 1 1]\n",
      " [1 1 0]\n",
      " [1 0 0]]\n",
      "G=\n",
      "[[1 0 0 1 1 1 0]\n",
      " [0 1 0 0 1 1 1]\n",
      " [0 0 1 1 1 0 1]]\n"
     ]
    }
   ],
   "source": [
    "k = G.shape[0]\n",
    "\n",
    "A = np.matrix(np.identity(k), dtype=\"u1\")\n",
    "G_src = G.copy()[:,:k]\n",
    "I_k = np.identity(k)\n",
    "# print(G_src)\n",
    "for i in range(k):\n",
    "#     print(f\"掃き出し{i + 1}回目\")\n",
    "    col_i = np.array(G_src)[:,i]\n",
    "    # 対角成分が0\n",
    "    # 他の行と入れ替え\n",
    "    if col_i[i] == 0:\n",
    "        # 入れ替え対象の行番号\n",
    "        j = np.where(col_i == 1)[0][-1]\n",
    "        A_i = I_k.copy()\n",
    "        A_i[i] = I_k[j].copy()\n",
    "        A_i[j] = I_k[i].copy()\n",
    "        A_i = np.matrix(A_i, dtype=\"u1\")\n",
    "        A = A_i * A % 2\n",
    "        G_src = A_i * G_src % 2\n",
    "#         print(G_src)\n",
    "        col_i = np.array(G_src)[:,i]\n",
    "    A_i =I_k.copy()\n",
    "    A_i[:,i] = col_i\n",
    "    A_i = np.matrix(A_i, dtype=\"u1\")\n",
    "    A = A_i * A % 2\n",
    "    # print(f\"A_i=\\n{A_i}\")\n",
    "    # print(f\"A=\\n{A}\")\n",
    "    G_src = A_i * G_src % 2\n",
    "#     print(G_src)\n",
    "\n",
    "Tissue_G = A * G % 2\n",
    "print(f\"A=\\n{A}\")\n",
    "print(f\"G=\\n{Tissue_G}\")"
   ]
  },
  {
   "cell_type": "markdown",
   "id": "5affa56d",
   "metadata": {},
   "source": [
    "## 標準アレイ"
   ]
  },
  {
   "cell_type": "code",
   "execution_count": 36,
   "id": "f85789e6",
   "metadata": {},
   "outputs": [
    {
     "data": {
      "text/plain": [
       "['0001110',\n",
       " '0010101',\n",
       " '0011011',\n",
       " '0100011',\n",
       " '0101101',\n",
       " '0110110',\n",
       " '0111000',\n",
       " '1000111',\n",
       " '1001001',\n",
       " '1010010',\n",
       " '1011100',\n",
       " '1100100',\n",
       " '1101010',\n",
       " '1110001',\n",
       " '1111111']"
      ]
     },
     "execution_count": 36,
     "metadata": {},
     "output_type": "execute_result"
    }
   ],
   "source": [
    "all_src_ex0 = np.matrix([[int(j) for j in format(i, f\"0{k}b\")] for i in range(1, 2 ** k)], dtype=\"u1\")\n",
    "all_code_ex0 = all_src_ex0 * Tissue_G % 2\n",
    "all_code_ex0_str = [\"\".join(str(i) for i in l) for l in all_code_ex0.tolist()]\n",
    "all_code_ex0_str"
   ]
  },
  {
   "cell_type": "code",
   "execution_count": 37,
   "id": "43be00a8",
   "metadata": {},
   "outputs": [
    {
     "data": {
      "text/plain": [
       "['0000001', '0000010', '0000100', '0001000', '0010000', '0100000', '1000000']"
      ]
     },
     "execution_count": 37,
     "metadata": {},
     "output_type": "execute_result"
    }
   ],
   "source": [
    "# 1ビットエラー全パターン?\n",
    "# all_error_str = [format(2 ** i, f\"0{n}b\") for i in range(n)]\n",
    "all_one_bit_error = [format(2 ** i, f\"0{n}b\") for i in range(n)]\n",
    "custom_error_str = []\n",
    "# print(all_one_bit_error)\n",
    "# 適当に追加\n",
    "# all_error_str += [\"000011\"]\n",
    "# 課題の (8, 4) 符号用\n",
    "# custom_error_str = [\"00000011\", \"00000101\", \"00001001\", \"00010001\", \"00100001\", \"01000001\", \"10000001\"]\n",
    "# 起こりやすい誤りを勝手に定義\n",
    "# all_error_str = [\"000001\", \"000010\", \"000100\", \"001000\", \"010000\", \"000011\", \"000101\"]\n",
    "all_error_str = all_one_bit_error + custom_error_str\n",
    "all_error = np.matrix([[int(j) for j in moji] for moji in all_error_str])\n",
    "all_error_str"
   ]
  },
  {
   "cell_type": "code",
   "execution_count": 38,
   "id": "f198a5ca",
   "metadata": {
    "scrolled": false
   },
   "outputs": [
    {
     "data": {
      "text/html": [
       "<div>\n",
       "<style scoped>\n",
       "    .dataframe tbody tr th:only-of-type {\n",
       "        vertical-align: middle;\n",
       "    }\n",
       "\n",
       "    .dataframe tbody tr th {\n",
       "        vertical-align: top;\n",
       "    }\n",
       "\n",
       "    .dataframe thead th {\n",
       "        text-align: right;\n",
       "    }\n",
       "</style>\n",
       "<table border=\"1\" class=\"dataframe\">\n",
       "  <thead>\n",
       "    <tr style=\"text-align: right;\">\n",
       "      <th></th>\n",
       "      <th>0001110</th>\n",
       "      <th>0010101</th>\n",
       "      <th>0011011</th>\n",
       "      <th>0100011</th>\n",
       "      <th>0101101</th>\n",
       "      <th>0110110</th>\n",
       "      <th>0111000</th>\n",
       "      <th>1000111</th>\n",
       "      <th>1001001</th>\n",
       "      <th>1010010</th>\n",
       "      <th>1011100</th>\n",
       "      <th>1100100</th>\n",
       "      <th>1101010</th>\n",
       "      <th>1110001</th>\n",
       "      <th>1111111</th>\n",
       "    </tr>\n",
       "  </thead>\n",
       "  <tbody>\n",
       "    <tr>\n",
       "      <th>0000001</th>\n",
       "      <td>0001111</td>\n",
       "      <td>0010100</td>\n",
       "      <td>0011010</td>\n",
       "      <td>0100010</td>\n",
       "      <td>0101100</td>\n",
       "      <td>0110111</td>\n",
       "      <td>0111001</td>\n",
       "      <td>1000110</td>\n",
       "      <td>1001000</td>\n",
       "      <td>1010011</td>\n",
       "      <td>1011101</td>\n",
       "      <td>1100101</td>\n",
       "      <td>1101011</td>\n",
       "      <td>1110000</td>\n",
       "      <td>1111110</td>\n",
       "    </tr>\n",
       "    <tr>\n",
       "      <th>0000010</th>\n",
       "      <td>0001100</td>\n",
       "      <td>0010111</td>\n",
       "      <td>0011001</td>\n",
       "      <td>0100001</td>\n",
       "      <td>0101111</td>\n",
       "      <td>0110100</td>\n",
       "      <td>0111010</td>\n",
       "      <td>1000101</td>\n",
       "      <td>1001011</td>\n",
       "      <td>1010000</td>\n",
       "      <td>1011110</td>\n",
       "      <td>1100110</td>\n",
       "      <td>1101000</td>\n",
       "      <td>1110011</td>\n",
       "      <td>1111101</td>\n",
       "    </tr>\n",
       "    <tr>\n",
       "      <th>0000100</th>\n",
       "      <td>0001010</td>\n",
       "      <td>0010001</td>\n",
       "      <td>0011111</td>\n",
       "      <td>0100111</td>\n",
       "      <td>0101001</td>\n",
       "      <td>0110010</td>\n",
       "      <td>0111100</td>\n",
       "      <td>1000011</td>\n",
       "      <td>1001101</td>\n",
       "      <td>1010110</td>\n",
       "      <td>1011000</td>\n",
       "      <td>1100000</td>\n",
       "      <td>1101110</td>\n",
       "      <td>1110101</td>\n",
       "      <td>1111011</td>\n",
       "    </tr>\n",
       "    <tr>\n",
       "      <th>0001000</th>\n",
       "      <td>0000110</td>\n",
       "      <td>0011101</td>\n",
       "      <td>0010011</td>\n",
       "      <td>0101011</td>\n",
       "      <td>0100101</td>\n",
       "      <td>0111110</td>\n",
       "      <td>0110000</td>\n",
       "      <td>1001111</td>\n",
       "      <td>1000001</td>\n",
       "      <td>1011010</td>\n",
       "      <td>1010100</td>\n",
       "      <td>1101100</td>\n",
       "      <td>1100010</td>\n",
       "      <td>1111001</td>\n",
       "      <td>1110111</td>\n",
       "    </tr>\n",
       "    <tr>\n",
       "      <th>0010000</th>\n",
       "      <td>0011110</td>\n",
       "      <td>0000101</td>\n",
       "      <td>0001011</td>\n",
       "      <td>0110011</td>\n",
       "      <td>0111101</td>\n",
       "      <td>0100110</td>\n",
       "      <td>0101000</td>\n",
       "      <td>1010111</td>\n",
       "      <td>1011001</td>\n",
       "      <td>1000010</td>\n",
       "      <td>1001100</td>\n",
       "      <td>1110100</td>\n",
       "      <td>1111010</td>\n",
       "      <td>1100001</td>\n",
       "      <td>1101111</td>\n",
       "    </tr>\n",
       "    <tr>\n",
       "      <th>0100000</th>\n",
       "      <td>0101110</td>\n",
       "      <td>0110101</td>\n",
       "      <td>0111011</td>\n",
       "      <td>0000011</td>\n",
       "      <td>0001101</td>\n",
       "      <td>0010110</td>\n",
       "      <td>0011000</td>\n",
       "      <td>1100111</td>\n",
       "      <td>1101001</td>\n",
       "      <td>1110010</td>\n",
       "      <td>1111100</td>\n",
       "      <td>1000100</td>\n",
       "      <td>1001010</td>\n",
       "      <td>1010001</td>\n",
       "      <td>1011111</td>\n",
       "    </tr>\n",
       "    <tr>\n",
       "      <th>1000000</th>\n",
       "      <td>1001110</td>\n",
       "      <td>1010101</td>\n",
       "      <td>1011011</td>\n",
       "      <td>1100011</td>\n",
       "      <td>1101101</td>\n",
       "      <td>1110110</td>\n",
       "      <td>1111000</td>\n",
       "      <td>0000111</td>\n",
       "      <td>0001001</td>\n",
       "      <td>0010010</td>\n",
       "      <td>0011100</td>\n",
       "      <td>0100100</td>\n",
       "      <td>0101010</td>\n",
       "      <td>0110001</td>\n",
       "      <td>0111111</td>\n",
       "    </tr>\n",
       "  </tbody>\n",
       "</table>\n",
       "</div>"
      ],
      "text/plain": [
       "         0001110  0010101  0011011  0100011  0101101  0110110  0111000  \\\n",
       "0000001  0001111  0010100  0011010  0100010  0101100  0110111  0111001   \n",
       "0000010  0001100  0010111  0011001  0100001  0101111  0110100  0111010   \n",
       "0000100  0001010  0010001  0011111  0100111  0101001  0110010  0111100   \n",
       "0001000  0000110  0011101  0010011  0101011  0100101  0111110  0110000   \n",
       "0010000  0011110  0000101  0001011  0110011  0111101  0100110  0101000   \n",
       "0100000  0101110  0110101  0111011  0000011  0001101  0010110  0011000   \n",
       "1000000  1001110  1010101  1011011  1100011  1101101  1110110  1111000   \n",
       "\n",
       "         1000111  1001001  1010010  1011100  1100100  1101010  1110001  \\\n",
       "0000001  1000110  1001000  1010011  1011101  1100101  1101011  1110000   \n",
       "0000010  1000101  1001011  1010000  1011110  1100110  1101000  1110011   \n",
       "0000100  1000011  1001101  1010110  1011000  1100000  1101110  1110101   \n",
       "0001000  1001111  1000001  1011010  1010100  1101100  1100010  1111001   \n",
       "0010000  1010111  1011001  1000010  1001100  1110100  1111010  1100001   \n",
       "0100000  1100111  1101001  1110010  1111100  1000100  1001010  1010001   \n",
       "1000000  0000111  0001001  0010010  0011100  0100100  0101010  0110001   \n",
       "\n",
       "         1111111  \n",
       "0000001  1111110  \n",
       "0000010  1111101  \n",
       "0000100  1111011  \n",
       "0001000  1110111  \n",
       "0010000  1101111  \n",
       "0100000  1011111  \n",
       "1000000  0111111  "
      ]
     },
     "execution_count": 38,
     "metadata": {},
     "output_type": "execute_result"
    }
   ],
   "source": [
    "std_arr_matrix = [[np.matrix((e + w) % 2) for w in np.array(all_code_ex0)] for e in np.array(all_error)]\n",
    "# std_arr_values = [[\"\".join(str(k) for k in (e + w) % 2) for w in np.array(all_code_ex0)] for e in np.array(all_error)]\n",
    "std_arr_values = [[\"\".join(str(k) for k in j.tolist()[0]) for j in i] for i in std_arr_matrix]\n",
    "# np.array(std_arr_values)\n",
    "std_arr_df = pd.DataFrame(std_arr_values, columns=all_code_ex0_str, index=all_error_str)\n",
    "std_arr_df"
   ]
  },
  {
   "cell_type": "code",
   "execution_count": 39,
   "id": "b031f76f",
   "metadata": {},
   "outputs": [
    {
     "data": {
      "text/plain": [
       "105"
      ]
     },
     "execution_count": 39,
     "metadata": {},
     "output_type": "execute_result"
    }
   ],
   "source": [
    "# 重複がないか確認\n",
    "len(set(std_arr_df.values.ravel()))"
   ]
  },
  {
   "cell_type": "markdown",
   "id": "ab31d524",
   "metadata": {},
   "source": [
    "## 各受信後のシンドローム計算"
   ]
  },
  {
   "cell_type": "code",
   "execution_count": 42,
   "id": "a7df9024",
   "metadata": {},
   "outputs": [
    {
     "data": {
      "text/plain": [
       "matrix([[1, 0, 1, 1, 1, 0, 0],\n",
       "        [1, 1, 0, 1, 0, 1, 0],\n",
       "        [1, 1, 1, 0, 0, 0, 1]], dtype=uint8)"
      ]
     },
     "execution_count": 42,
     "metadata": {},
     "output_type": "execute_result"
    }
   ],
   "source": [
    "# パリティ生成部分\n",
    "P = Tissue_G[:, k:]\n",
    "# print(P)\n",
    "# 検査行列\n",
    "H = np.concatenate([P.T, np.identity(n - k, dtype=np.uint8)], 1)\n",
    "H"
   ]
  },
  {
   "cell_type": "code",
   "execution_count": 43,
   "id": "8fc54037",
   "metadata": {},
   "outputs": [
    {
     "data": {
      "text/html": [
       "<div>\n",
       "<style scoped>\n",
       "    .dataframe tbody tr th:only-of-type {\n",
       "        vertical-align: middle;\n",
       "    }\n",
       "\n",
       "    .dataframe tbody tr th {\n",
       "        vertical-align: top;\n",
       "    }\n",
       "\n",
       "    .dataframe thead th {\n",
       "        text-align: right;\n",
       "    }\n",
       "</style>\n",
       "<table border=\"1\" class=\"dataframe\">\n",
       "  <thead>\n",
       "    <tr style=\"text-align: right;\">\n",
       "      <th></th>\n",
       "      <th>0001110</th>\n",
       "      <th>0010101</th>\n",
       "      <th>0011011</th>\n",
       "      <th>0100011</th>\n",
       "      <th>0101101</th>\n",
       "      <th>0110110</th>\n",
       "      <th>0111000</th>\n",
       "      <th>1000111</th>\n",
       "      <th>1001001</th>\n",
       "      <th>1010010</th>\n",
       "      <th>1011100</th>\n",
       "      <th>1100100</th>\n",
       "      <th>1101010</th>\n",
       "      <th>1110001</th>\n",
       "      <th>1111111</th>\n",
       "    </tr>\n",
       "  </thead>\n",
       "  <tbody>\n",
       "    <tr>\n",
       "      <th>0000001</th>\n",
       "      <td>001</td>\n",
       "      <td>001</td>\n",
       "      <td>001</td>\n",
       "      <td>001</td>\n",
       "      <td>001</td>\n",
       "      <td>001</td>\n",
       "      <td>001</td>\n",
       "      <td>001</td>\n",
       "      <td>001</td>\n",
       "      <td>001</td>\n",
       "      <td>001</td>\n",
       "      <td>001</td>\n",
       "      <td>001</td>\n",
       "      <td>001</td>\n",
       "      <td>001</td>\n",
       "    </tr>\n",
       "    <tr>\n",
       "      <th>0000010</th>\n",
       "      <td>010</td>\n",
       "      <td>010</td>\n",
       "      <td>010</td>\n",
       "      <td>010</td>\n",
       "      <td>010</td>\n",
       "      <td>010</td>\n",
       "      <td>010</td>\n",
       "      <td>010</td>\n",
       "      <td>010</td>\n",
       "      <td>010</td>\n",
       "      <td>010</td>\n",
       "      <td>010</td>\n",
       "      <td>010</td>\n",
       "      <td>010</td>\n",
       "      <td>010</td>\n",
       "    </tr>\n",
       "    <tr>\n",
       "      <th>0000100</th>\n",
       "      <td>100</td>\n",
       "      <td>100</td>\n",
       "      <td>100</td>\n",
       "      <td>100</td>\n",
       "      <td>100</td>\n",
       "      <td>100</td>\n",
       "      <td>100</td>\n",
       "      <td>100</td>\n",
       "      <td>100</td>\n",
       "      <td>100</td>\n",
       "      <td>100</td>\n",
       "      <td>100</td>\n",
       "      <td>100</td>\n",
       "      <td>100</td>\n",
       "      <td>100</td>\n",
       "    </tr>\n",
       "    <tr>\n",
       "      <th>0001000</th>\n",
       "      <td>110</td>\n",
       "      <td>110</td>\n",
       "      <td>110</td>\n",
       "      <td>110</td>\n",
       "      <td>110</td>\n",
       "      <td>110</td>\n",
       "      <td>110</td>\n",
       "      <td>110</td>\n",
       "      <td>110</td>\n",
       "      <td>110</td>\n",
       "      <td>110</td>\n",
       "      <td>110</td>\n",
       "      <td>110</td>\n",
       "      <td>110</td>\n",
       "      <td>110</td>\n",
       "    </tr>\n",
       "    <tr>\n",
       "      <th>0010000</th>\n",
       "      <td>101</td>\n",
       "      <td>101</td>\n",
       "      <td>101</td>\n",
       "      <td>101</td>\n",
       "      <td>101</td>\n",
       "      <td>101</td>\n",
       "      <td>101</td>\n",
       "      <td>101</td>\n",
       "      <td>101</td>\n",
       "      <td>101</td>\n",
       "      <td>101</td>\n",
       "      <td>101</td>\n",
       "      <td>101</td>\n",
       "      <td>101</td>\n",
       "      <td>101</td>\n",
       "    </tr>\n",
       "    <tr>\n",
       "      <th>0100000</th>\n",
       "      <td>011</td>\n",
       "      <td>011</td>\n",
       "      <td>011</td>\n",
       "      <td>011</td>\n",
       "      <td>011</td>\n",
       "      <td>011</td>\n",
       "      <td>011</td>\n",
       "      <td>011</td>\n",
       "      <td>011</td>\n",
       "      <td>011</td>\n",
       "      <td>011</td>\n",
       "      <td>011</td>\n",
       "      <td>011</td>\n",
       "      <td>011</td>\n",
       "      <td>011</td>\n",
       "    </tr>\n",
       "    <tr>\n",
       "      <th>1000000</th>\n",
       "      <td>111</td>\n",
       "      <td>111</td>\n",
       "      <td>111</td>\n",
       "      <td>111</td>\n",
       "      <td>111</td>\n",
       "      <td>111</td>\n",
       "      <td>111</td>\n",
       "      <td>111</td>\n",
       "      <td>111</td>\n",
       "      <td>111</td>\n",
       "      <td>111</td>\n",
       "      <td>111</td>\n",
       "      <td>111</td>\n",
       "      <td>111</td>\n",
       "      <td>111</td>\n",
       "    </tr>\n",
       "  </tbody>\n",
       "</table>\n",
       "</div>"
      ],
      "text/plain": [
       "        0001110 0010101 0011011 0100011 0101101 0110110 0111000 1000111  \\\n",
       "0000001     001     001     001     001     001     001     001     001   \n",
       "0000010     010     010     010     010     010     010     010     010   \n",
       "0000100     100     100     100     100     100     100     100     100   \n",
       "0001000     110     110     110     110     110     110     110     110   \n",
       "0010000     101     101     101     101     101     101     101     101   \n",
       "0100000     011     011     011     011     011     011     011     011   \n",
       "1000000     111     111     111     111     111     111     111     111   \n",
       "\n",
       "        1001001 1010010 1011100 1100100 1101010 1110001 1111111  \n",
       "0000001     001     001     001     001     001     001     001  \n",
       "0000010     010     010     010     010     010     010     010  \n",
       "0000100     100     100     100     100     100     100     100  \n",
       "0001000     110     110     110     110     110     110     110  \n",
       "0010000     101     101     101     101     101     101     101  \n",
       "0100000     011     011     011     011     011     011     011  \n",
       "1000000     111     111     111     111     111     111     111  "
      ]
     },
     "execution_count": 43,
     "metadata": {},
     "output_type": "execute_result"
    }
   ],
   "source": [
    "syndrome_values = [[\"\".join(str(k) for k in (j * H.T % 2).tolist()[0]) for j in i] for i in std_arr_matrix]\n",
    "syndrome_df = pd.DataFrame(syndrome_values, columns=all_code_ex0_str, index=all_error_str)\n",
    "syndrome_df"
   ]
  },
  {
   "cell_type": "markdown",
   "id": "3a6eb0f4",
   "metadata": {},
   "source": [
    "## 最小ハミング距離"
   ]
  },
  {
   "cell_type": "code",
   "execution_count": 44,
   "id": "30ca4948",
   "metadata": {},
   "outputs": [
    {
     "name": "stdout",
     "output_type": "stream",
     "text": [
      "[[1 1 0 0 1 0 0]\n",
      " [1 0 1 0 0 1 0]\n",
      " [1 0 0 1 0 0 1]\n",
      " [1 1 1 0 0 0 1]]\n",
      "4 7\n",
      "最小ハミング距離: 3\n"
     ]
    }
   ],
   "source": [
    "# G = np.matrix([\n",
    "#     [1, 0, 0, 0, 0, 1, 1, 1],\n",
    "#     [0, 1, 0, 0, 1, 1, 1, 0],\n",
    "#     [0, 0, 1, 0, 1, 1, 0, 1],\n",
    "#     [0, 0, 0, 1, 1, 0, 1, 1]\n",
    "# ])\n",
    "\n",
    "# k, n = G.shape\n",
    "print(G)\n",
    "print(k, n)\n",
    "\n",
    "all_src_ex0 = [np.matrix([int(j) for j in format(i, f\"0{k}b\")], dtype=np.uint8) for i in range(1, 1 << k)]\n",
    "all_code_ex0 = [i * G % 2 for i in all_src_ex0]\n",
    "all_code_ex0_hamming_dist = [i.sum() for i in all_code_ex0]\n",
    "hamming_dist_min = min(all_code_ex0_hamming_dist)\n",
    "print(f\"最小ハミング距離: {hamming_dist_min}\")\n",
    "# all_code_ex0"
   ]
  },
  {
   "cell_type": "code",
   "execution_count": 46,
   "id": "85f4eee8",
   "metadata": {},
   "outputs": [
    {
     "name": "stdout",
     "output_type": "stream",
     "text": [
      "Counter({4: 7, 3: 7, 7: 1})\n"
     ]
    },
    {
     "data": {
      "text/plain": [
       "6.7920930100000004e-06"
      ]
     },
     "execution_count": 46,
     "metadata": {},
     "output_type": "execute_result"
    }
   ],
   "source": [
    "A_i_dic = Counter(all_code_ex0_hamming_dist)\n",
    "print(A_i_dic)\n",
    "p = 0.01\n",
    "P_u_E = 0\n",
    "for i, A_i in A_i_dic.items():\n",
    "    P_u_E += A_i * p ** i * (1 - p) ** (n - i)\n",
    "P_u_E"
   ]
  },
  {
   "cell_type": "code",
   "execution_count": null,
   "id": "8a5efe9a",
   "metadata": {},
   "outputs": [],
   "source": []
  }
 ],
 "metadata": {
  "kernelspec": {
   "display_name": "Python 3 (ipykernel)",
   "language": "python",
   "name": "python3"
  },
  "language_info": {
   "codemirror_mode": {
    "name": "ipython",
    "version": 3
   },
   "file_extension": ".py",
   "mimetype": "text/x-python",
   "name": "python",
   "nbconvert_exporter": "python",
   "pygments_lexer": "ipython3",
   "version": "3.10.4"
  }
 },
 "nbformat": 4,
 "nbformat_minor": 5
}
