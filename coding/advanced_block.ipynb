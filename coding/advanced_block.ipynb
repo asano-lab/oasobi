{
 "cells": [
  {
   "cell_type": "code",
   "execution_count": 8,
   "id": "9f4b20ac",
   "metadata": {},
   "outputs": [],
   "source": [
    "import numpy as np\n",
    "import pandas as pd"
   ]
  },
  {
   "cell_type": "code",
   "execution_count": 21,
   "id": "53bff410",
   "metadata": {},
   "outputs": [
    {
     "data": {
      "text/plain": [
       "matrix([[1, 0, 1, 0, 1, 1],\n",
       "        [1, 1, 1, 1, 0, 1],\n",
       "        [0, 1, 1, 0, 0, 1]], dtype=uint8)"
      ]
     },
     "execution_count": 21,
     "metadata": {},
     "output_type": "execute_result"
    }
   ],
   "source": [
    "G = np.matrix([\n",
    "    [1, 0, 1, 0, 1, 1],\n",
    "    [1, 1, 1, 1, 0, 1],\n",
    "    [0, 1, 1, 0, 0, 1]\n",
    "], dtype=\"u1\")\n",
    "G"
   ]
  },
  {
   "cell_type": "code",
   "execution_count": 22,
   "id": "c8417a89",
   "metadata": {},
   "outputs": [
    {
     "data": {
      "text/plain": [
       "matrix([[1, 0, 0, 1, 0, 0],\n",
       "        [0, 1, 0, 1, 1, 0],\n",
       "        [0, 0, 1, 1, 1, 1]], dtype=uint8)"
      ]
     },
     "execution_count": 22,
     "metadata": {},
     "output_type": "execute_result"
    }
   ],
   "source": [
    "k = G.shape[0]\n",
    "\n",
    "A = np.matrix(np.identity(k), dtype=\"u1\")\n",
    "G_src = G.copy()[:,:3]\n",
    "# print(G_src)\n",
    "for i in range(k):\n",
    "    col_i = np.array(G_src)[:,i]\n",
    "    if col_i[i] == 1:\n",
    "        A_i = np.identity(k)\n",
    "        A_i[:,i] = col_i\n",
    "        A_i = np.matrix(A_i, dtype=\"u1\")\n",
    "        A = A_i * A % 2\n",
    "        # print(f\"A_i=\\n{A_i}\")\n",
    "        # print(f\"A=\\n{A}\")\n",
    "        G_src = A_i * G_src % 2\n",
    "        # print(f\"掃き出し{i + 1}回目\")\n",
    "        # print(G_src)\n",
    "\n",
    "Tissue_G = A * G % 2\n",
    "Tissue_G"
   ]
  },
  {
   "cell_type": "code",
   "execution_count": 33,
   "id": "b50ba66f",
   "metadata": {},
   "outputs": [
    {
     "data": {
      "text/plain": [
       "matrix([[0, 0, 1, 1, 1, 1],\n",
       "        [0, 1, 0, 1, 1, 0],\n",
       "        [0, 1, 1, 0, 0, 1],\n",
       "        [1, 0, 0, 1, 0, 0],\n",
       "        [1, 0, 1, 0, 1, 1],\n",
       "        [1, 1, 0, 0, 1, 0],\n",
       "        [1, 1, 1, 1, 0, 1]], dtype=uint8)"
      ]
     },
     "execution_count": 33,
     "metadata": {},
     "output_type": "execute_result"
    }
   ],
   "source": [
    "all_src_ex0 = np.matrix([[int(j) for j in format(i, f\"0{k}b\")] for i in range(1, 2 ** k)], dtype=\"u1\")\n",
    "all_code_ex0 = all_src_ex0 * Tissue_G % 2\n",
    "all_code_ex0"
   ]
  },
  {
   "cell_type": "code",
   "execution_count": 27,
   "id": "6ef02929",
   "metadata": {},
   "outputs": [
    {
     "data": {
      "text/plain": [
       "matrix([[0, 0, 0]])"
      ]
     },
     "execution_count": 27,
     "metadata": {},
     "output_type": "execute_result"
    }
   ],
   "source": []
  },
  {
   "cell_type": "code",
   "execution_count": null,
   "id": "ab3d2135",
   "metadata": {},
   "outputs": [],
   "source": []
  }
 ],
 "metadata": {
  "kernelspec": {
   "display_name": "Python 3 (ipykernel)",
   "language": "python",
   "name": "python3"
  },
  "language_info": {
   "codemirror_mode": {
    "name": "ipython",
    "version": 3
   },
   "file_extension": ".py",
   "mimetype": "text/x-python",
   "name": "python",
   "nbconvert_exporter": "python",
   "pygments_lexer": "ipython3",
   "version": "3.10.4"
  }
 },
 "nbformat": 4,
 "nbformat_minor": 5
}
