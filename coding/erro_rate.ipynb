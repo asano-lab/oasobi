{
 "cells": [
  {
   "cell_type": "markdown",
   "id": "c35f1fb2",
   "metadata": {},
   "source": [
    "# 誤り率"
   ]
  },
  {
   "cell_type": "code",
   "execution_count": 7,
   "id": "3c3ce6c4",
   "metadata": {},
   "outputs": [],
   "source": [
    "%matplotlib inline\n",
    "import matplotlib.pyplot as plt\n",
    "import numpy as np\n",
    "from scipy.special import comb"
   ]
  },
  {
   "cell_type": "code",
   "execution_count": 11,
   "id": "b30cd63c",
   "metadata": {},
   "outputs": [
    {
     "data": {
      "text/plain": [
       "0.14969440000000006"
      ]
     },
     "execution_count": 11,
     "metadata": {},
     "output_type": "execute_result"
    }
   ],
   "source": [
    "n = 7\n",
    "t = 1\n",
    "p = 0.1\n",
    "\n",
    "P_E_max = 0\n",
    "for i in range(t + 1, n + 1):\n",
    "    P_E_max += comb(n, i) * p ** i * (1 - p) ** (n - i)\n",
    "P_E_max"
   ]
  },
  {
   "cell_type": "code",
   "execution_count": null,
   "id": "d06ddecf",
   "metadata": {},
   "outputs": [],
   "source": []
  }
 ],
 "metadata": {
  "kernelspec": {
   "display_name": "Python 3 (ipykernel)",
   "language": "python",
   "name": "python3"
  },
  "language_info": {
   "codemirror_mode": {
    "name": "ipython",
    "version": 3
   },
   "file_extension": ".py",
   "mimetype": "text/x-python",
   "name": "python",
   "nbconvert_exporter": "python",
   "pygments_lexer": "ipython3",
   "version": "3.10.4"
  }
 },
 "nbformat": 4,
 "nbformat_minor": 5
}
