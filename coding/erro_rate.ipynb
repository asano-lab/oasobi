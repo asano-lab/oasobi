{
 "cells": [
  {
   "cell_type": "markdown",
   "id": "7146420f",
   "metadata": {},
   "source": [
    "# 誤り率"
   ]
  },
  {
   "cell_type": "code",
   "execution_count": 7,
   "id": "98b2a266",
   "metadata": {},
   "outputs": [],
   "source": [
    "%matplotlib inline\n",
    "import matplotlib.pyplot as plt\n",
    "import numpy as np\n",
    "from scipy.special import comb"
   ]
  },
  {
   "cell_type": "code",
   "execution_count": 34,
   "id": "4b04450d",
   "metadata": {},
   "outputs": [
    {
     "data": {
      "text/plain": [
       "2.093010491603499e-05"
      ]
     },
     "execution_count": 34,
     "metadata": {},
     "output_type": "execute_result"
    }
   ],
   "source": [
    "n = 7\n",
    "t = 1\n",
    "p = 0.001\n",
    "\n",
    "P_E_max = sum(comb(n, i) * p ** i * (1 - p) ** (n - i) for i in range(t + 1, n + 1))\n",
    "# for i in range(t + 1, n + 1):\n",
    "#     P_E_max += comb(n, i) * p ** i * (1 - p) ** (n - i)\n",
    "P_E_max"
   ]
  },
  {
   "cell_type": "code",
   "execution_count": 35,
   "id": "f8d446e2",
   "metadata": {},
   "outputs": [
    {
     "data": {
      "text/plain": [
       "2.0930104915994896e-05"
      ]
     },
     "execution_count": 35,
     "metadata": {},
     "output_type": "execute_result"
    }
   ],
   "source": [
    "# (7, 4)ハミング限定?\n",
    "1 - (1 - p) ** 6 * (1 + 6 * p)"
   ]
  },
  {
   "cell_type": "code",
   "execution_count": 48,
   "id": "88a0bda5",
   "metadata": {},
   "outputs": [
    {
     "data": {
      "text/plain": [
       "array([1.00000000e-05, 2.78255940e-05, 7.74263683e-05, 2.15443469e-04,\n",
       "       5.99484250e-04, 1.66810054e-03, 4.64158883e-03, 1.29154967e-02,\n",
       "       3.59381366e-02, 1.00000000e-01])"
      ]
     },
     "execution_count": 48,
     "metadata": {},
     "output_type": "execute_result"
    }
   ],
   "source": [
    "N = 10\n",
    "x = np.logspace(-5, -1, N)\n",
    "x"
   ]
  },
  {
   "cell_type": "code",
   "execution_count": null,
   "id": "491eda3b",
   "metadata": {},
   "outputs": [],
   "source": []
  }
 ],
 "metadata": {
  "kernelspec": {
   "display_name": "Python 3 (ipykernel)",
   "language": "python",
   "name": "python3"
  },
  "language_info": {
   "codemirror_mode": {
    "name": "ipython",
    "version": 3
   },
   "file_extension": ".py",
   "mimetype": "text/x-python",
   "name": "python",
   "nbconvert_exporter": "python",
   "pygments_lexer": "ipython3",
   "version": "3.10.4"
  }
 },
 "nbformat": 4,
 "nbformat_minor": 5
}
