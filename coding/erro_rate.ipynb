{
 "cells": [
  {
   "cell_type": "markdown",
   "id": "f0aa5ad9",
   "metadata": {},
   "source": [
    "# 誤り率"
   ]
  },
  {
   "cell_type": "code",
   "execution_count": 7,
   "id": "3907a5b3",
   "metadata": {},
   "outputs": [],
   "source": [
    "%matplotlib inline\n",
    "import matplotlib.pyplot as plt\n",
    "import numpy as np\n",
    "from scipy.special import comb"
   ]
  },
  {
   "cell_type": "code",
   "execution_count": 14,
   "id": "da13e6dd",
   "metadata": {},
   "outputs": [
    {
     "data": {
      "text/plain": [
       "0.00203104163494"
      ]
     },
     "execution_count": 14,
     "metadata": {},
     "output_type": "execute_result"
    }
   ],
   "source": [
    "n = 7\n",
    "t = 1\n",
    "p = 0.01\n",
    "\n",
    "P_E_max = 0\n",
    "for i in range(t + 1, n + 1):\n",
    "    P_E_max += comb(n, i) * p ** i * (1 - p) ** (n - i)\n",
    "P_E_max"
   ]
  },
  {
   "cell_type": "code",
   "execution_count": 15,
   "id": "15dd5ffb",
   "metadata": {},
   "outputs": [
    {
     "data": {
      "text/plain": [
       "0.002031041634939945"
      ]
     },
     "execution_count": 15,
     "metadata": {},
     "output_type": "execute_result"
    }
   ],
   "source": [
    "# (7, 4)ハミング限定?\n",
    "1 - (1 - p) ** 6 * (1 + 6 * p)"
   ]
  },
  {
   "cell_type": "code",
   "execution_count": null,
   "id": "fb13897b",
   "metadata": {},
   "outputs": [],
   "source": []
  }
 ],
 "metadata": {
  "kernelspec": {
   "display_name": "Python 3 (ipykernel)",
   "language": "python",
   "name": "python3"
  },
  "language_info": {
   "codemirror_mode": {
    "name": "ipython",
    "version": 3
   },
   "file_extension": ".py",
   "mimetype": "text/x-python",
   "name": "python",
   "nbconvert_exporter": "python",
   "pygments_lexer": "ipython3",
   "version": "3.10.4"
  }
 },
 "nbformat": 4,
 "nbformat_minor": 5
}
